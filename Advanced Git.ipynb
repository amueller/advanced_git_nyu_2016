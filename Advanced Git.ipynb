{
 "cells": [
  {
   "cell_type": "markdown",
   "metadata": {
    "slideshow": {
     "slide_type": "slide"
    }
   },
   "source": [
    "# Advanced Git"
   ]
  },
  {
   "cell_type": "markdown",
   "metadata": {
    "slideshow": {
     "slide_type": "slide"
    }
   },
   "source": [
    "<img src=\"linus_Decreux.jpeg\" width=500px>"
   ]
  },
  {
   "cell_type": "markdown",
   "metadata": {
    "slideshow": {
     "slide_type": "slide"
    }
   },
   "source": [
    "# Overview\n",
    "- Recap\n",
    "- Ignoring Files with ``.gitignore``\n",
    "- Hosting your own repositories with ``bare repositories``\n",
    "- Branches (with ``git checkout``)\n",
    "- Rewriting history with ``git rebase``\n",
    "- Rewriting history, like, totally. with ``git rebase -i``\n",
    "- Undoing your mistakes with ``git reset`` and ``git revert``\n",
    "\n",
    "\n",
    "- Github Forks\n",
    "- Issues and Pull Requests\n",
    "- My github workflow\n",
    "\n",
    "- the git index"
   ]
  },
  {
   "cell_type": "markdown",
   "metadata": {
    "slideshow": {
     "slide_type": "slide"
    }
   },
   "source": [
    "# Help\n",
    "Use\n",
    "```\n",
    "git somecommand --help\n",
    "```\n",
    "for unhelpful help."
   ]
  },
  {
   "cell_type": "markdown",
   "metadata": {
    "slideshow": {
     "slide_type": "slide"
    }
   },
   "source": [
    "# Quick Recap"
   ]
  },
  {
   "cell_type": "code",
   "execution_count": 1,
   "metadata": {
    "collapsed": false,
    "slideshow": {
     "slide_type": "skip"
    }
   },
   "outputs": [
    {
     "name": "stdout",
     "output_type": "stream",
     "text": []
    }
   ],
   "source": [
    "cd ~\n",
    "rm -rf advanced_git_tmp\n",
    "mkdir advanced_git_tmp\n",
    "cd advanced_git_tmp"
   ]
  },
  {
   "cell_type": "markdown",
   "metadata": {
    "slideshow": {
     "slide_type": "slide"
    }
   },
   "source": [
    "# Configuration"
   ]
  },
  {
   "cell_type": "code",
   "execution_count": 2,
   "metadata": {
    "collapsed": false
   },
   "outputs": [
    {
     "name": "stdout",
     "output_type": "stream",
     "text": [
      "user.email=amueller@nyu.edu\r\n",
      "user.name=Andreas Mueller\r\n",
      "core.editor=vim\r\n",
      "core.pager=\r\n",
      "push.default=simple\r\n",
      "pager.grep=false\r\n",
      "color.ui=auto\r\n"
     ]
    }
   ],
   "source": [
    "git config --list"
   ]
  },
  {
   "cell_type": "markdown",
   "metadata": {
    "slideshow": {
     "slide_type": "slide"
    }
   },
   "source": [
    "# Initialization"
   ]
  },
  {
   "cell_type": "code",
   "execution_count": 3,
   "metadata": {
    "collapsed": false,
    "slideshow": {
     "slide_type": "subslide"
    }
   },
   "outputs": [
    {
     "name": "stdout",
     "output_type": "stream",
     "text": [
      "Initialized empty Git repository in /home/andy/advanced_git_tmp/myrepo/.git/\r\n"
     ]
    }
   ],
   "source": [
    "mkdir myrepo\n",
    "cd myrepo\n",
    "git init"
   ]
  },
  {
   "cell_type": "code",
   "execution_count": 4,
   "metadata": {
    "collapsed": false,
    "slideshow": {
     "slide_type": "subslide"
    }
   },
   "outputs": [
    {
     "name": "stdout",
     "output_type": "stream",
     "text": [
      ".  ..  .git\r\n"
     ]
    }
   ],
   "source": [
    "ls -a"
   ]
  },
  {
   "cell_type": "code",
   "execution_count": 5,
   "metadata": {
    "collapsed": false,
    "slideshow": {
     "slide_type": "subslide"
    }
   },
   "outputs": [
    {
     "name": "stdout",
     "output_type": "stream",
     "text": [
      "On branch master\r\n",
      "\r\n",
      "Initial commit\r\n",
      "\r\n",
      "nothing to commit (create/copy files and use \"git add\" to track)\r\n"
     ]
    }
   ],
   "source": [
    "git status"
   ]
  },
  {
   "cell_type": "markdown",
   "metadata": {
    "collapsed": true,
    "slideshow": {
     "slide_type": "slide"
    }
   },
   "source": [
    "# Adding and commiting"
   ]
  },
  {
   "cell_type": "code",
   "execution_count": 6,
   "metadata": {
    "collapsed": false
   },
   "outputs": [
    {
     "name": "stdout",
     "output_type": "stream",
     "text": [
      "On branch master\r\n",
      "\r\n",
      "Initial commit\r\n",
      "\r\n",
      "Untracked files:\r\n",
      "  (use \"git add <file>...\" to include in what will be committed)\r\n",
      "\r\n",
      "\t\u001b[31mmyfile.txt\u001b[m\r\n",
      "\r\n",
      "nothing added to commit but untracked files present (use \"git add\" to track)\r\n"
     ]
    }
   ],
   "source": [
    "echo \"fist line in file myfile\" > myfile.txt\n",
    "git status"
   ]
  },
  {
   "cell_type": "code",
   "execution_count": 7,
   "metadata": {
    "collapsed": false
   },
   "outputs": [
    {
     "name": "stdout",
     "output_type": "stream",
     "text": [
      "On branch master\r\n",
      "\r\n",
      "Initial commit\r\n",
      "\r\n",
      "Changes to be committed:\r\n",
      "  (use \"git rm --cached <file>...\" to unstage)\r\n",
      "\r\n",
      "\t\u001b[32mnew file:   myfile.txt\u001b[m\r\n",
      "\r\n"
     ]
    }
   ],
   "source": [
    "git add myfile.txt\n",
    "git status"
   ]
  },
  {
   "cell_type": "code",
   "execution_count": 8,
   "metadata": {
    "collapsed": false,
    "slideshow": {
     "slide_type": "subslide"
    }
   },
   "outputs": [
    {
     "name": "stdout",
     "output_type": "stream",
     "text": [
      "[master (root-commit) 6142882] added a first line to my file\r\n",
      " 1 file changed, 1 insertion(+)\r\n",
      " create mode 100644 myfile.txt\r\n",
      "On branch master\r\n",
      "nothing to commit, working directory clean\r\n"
     ]
    }
   ],
   "source": [
    "git commit -m \"added a first line to my file\"\n",
    "git status"
   ]
  },
  {
   "cell_type": "code",
   "execution_count": 9,
   "metadata": {
    "collapsed": false,
    "slideshow": {
     "slide_type": "subslide"
    }
   },
   "outputs": [
    {
     "name": "stdout",
     "output_type": "stream",
     "text": [
      "\u001b[33mcommit 61428823ef85050f125f4eb8dff3af64019a5391\u001b[m\r\n",
      "Author: Andreas Mueller <amueller@nyu.edu>\r\n",
      "Date:   Mon Mar 28 17:59:50 2016 -0400\r\n",
      "\r\n",
      "    added a first line to my file\r\n"
     ]
    }
   ],
   "source": [
    "git log"
   ]
  },
  {
   "cell_type": "markdown",
   "metadata": {
    "slideshow": {
     "slide_type": "slide"
    }
   },
   "source": [
    "# Changing and commiting again"
   ]
  },
  {
   "cell_type": "code",
   "execution_count": 10,
   "metadata": {
    "collapsed": false
   },
   "outputs": [
    {
     "name": "stdout",
     "output_type": "stream",
     "text": [
      "On branch master\r\n",
      "Changes not staged for commit:\r\n",
      "  (use \"git add <file>...\" to update what will be committed)\r\n",
      "  (use \"git checkout -- <file>...\" to discard changes in working directory)\r\n",
      "\r\n",
      "\t\u001b[31mmodified:   myfile.txt\u001b[m\r\n",
      "\r\n",
      "no changes added to commit (use \"git add\" and/or \"git commit -a\")\r\n"
     ]
    }
   ],
   "source": [
    "echo \"second line in myfile is not much more interesting\" >> myfile.txt\n",
    "git status"
   ]
  },
  {
   "cell_type": "code",
   "execution_count": 11,
   "metadata": {
    "collapsed": false
   },
   "outputs": [
    {
     "name": "stdout",
     "output_type": "stream",
     "text": [
      "On branch master\r\n",
      "Changes to be committed:\r\n",
      "  (use \"git reset HEAD <file>...\" to unstage)\r\n",
      "\r\n",
      "\t\u001b[32mmodified:   myfile.txt\u001b[m\r\n",
      "\r\n"
     ]
    }
   ],
   "source": [
    "git add myfile.txt\n",
    "git status"
   ]
  },
  {
   "cell_type": "code",
   "execution_count": 12,
   "metadata": {
    "collapsed": false
   },
   "outputs": [
    {
     "name": "stdout",
     "output_type": "stream",
     "text": [
      "[master ea1f19e] I added a second line\r\n",
      " 1 file changed, 1 insertion(+)\r\n",
      "\u001b[33mcommit ea1f19e5eeb57174687351df9871de7332aeeca2\u001b[m\r\n",
      "Author: Andreas Mueller <amueller@nyu.edu>\r\n",
      "Date:   Mon Mar 28 17:59:51 2016 -0400\r\n",
      "\r\n",
      "    I added a second line\r\n",
      "\r\n",
      "\u001b[33mcommit 61428823ef85050f125f4eb8dff3af64019a5391\u001b[m\r\n",
      "Author: Andreas Mueller <amueller@nyu.edu>\r\n",
      "Date:   Mon Mar 28 17:59:50 2016 -0400\r\n",
      "\r\n",
      "    added a first line to my file\r\n"
     ]
    }
   ],
   "source": [
    "git commit -m \"I added a second line\"\n",
    "git log"
   ]
  },
  {
   "cell_type": "markdown",
   "metadata": {
    "slideshow": {
     "slide_type": "slide"
    }
   },
   "source": [
    "# Reverting a file to an older version"
   ]
  },
  {
   "cell_type": "code",
   "execution_count": 13,
   "metadata": {
    "collapsed": false,
    "slideshow": {
     "slide_type": "subslide"
    }
   },
   "outputs": [
    {
     "name": "stdout",
     "output_type": "stream",
     "text": [
      "fist line in file myfile\r\n",
      "second line in myfile is not much more interesting\r\n",
      "omg a third line\r\n"
     ]
    }
   ],
   "source": [
    "echo \"omg a third line\" >> myfile.txt\n",
    "cat myfile.txt"
   ]
  },
  {
   "cell_type": "markdown",
   "metadata": {
    "slideshow": {
     "slide_type": "subslide"
    }
   },
   "source": [
    "Reverting to the last commit:"
   ]
  },
  {
   "cell_type": "code",
   "execution_count": 14,
   "metadata": {
    "collapsed": false,
    "slideshow": {
     "slide_type": "subslide"
    }
   },
   "outputs": [
    {
     "name": "stdout",
     "output_type": "stream",
     "text": [
      "fist line in file myfile\r\n",
      "second line in myfile is not much more interesting\r\n"
     ]
    }
   ],
   "source": [
    "git checkout myfile.txt\n",
    "cat myfile.txt"
   ]
  },
  {
   "cell_type": "markdown",
   "metadata": {
    "slideshow": {
     "slide_type": "subslide"
    }
   },
   "source": [
    "Reverting to a previous commit:"
   ]
  },
  {
   "cell_type": "code",
   "execution_count": 15,
   "metadata": {
    "collapsed": false,
    "slideshow": {
     "slide_type": "subslide"
    }
   },
   "outputs": [
    {
     "name": "stdout",
     "output_type": "stream",
     "text": [
      "fist line in file myfile\r\n"
     ]
    }
   ],
   "source": [
    "git checkout HEAD~1 myfile.txt\n",
    "cat myfile.txt"
   ]
  },
  {
   "cell_type": "code",
   "execution_count": 16,
   "metadata": {
    "collapsed": false,
    "slideshow": {
     "slide_type": "subslide"
    }
   },
   "outputs": [
    {
     "name": "stdout",
     "output_type": "stream",
     "text": [
      "On branch master\r\n",
      "Changes to be committed:\r\n",
      "  (use \"git reset HEAD <file>...\" to unstage)\r\n",
      "\r\n",
      "\t\u001b[32mmodified:   myfile.txt\u001b[m\r\n",
      "\r\n"
     ]
    }
   ],
   "source": [
    "git status"
   ]
  },
  {
   "cell_type": "code",
   "execution_count": 17,
   "metadata": {
    "collapsed": false,
    "slideshow": {
     "slide_type": "subslide"
    }
   },
   "outputs": [
    {
     "name": "stdout",
     "output_type": "stream",
     "text": [
      "[master 030f19f] checked out myfile from first commit\r\n",
      " 1 file changed, 1 deletion(-)\r\n",
      "\u001b[33mcommit 030f19fe1a1d590fa4bc75178989e6edc35dfdc8\u001b[m\r\n",
      "Author: Andreas Mueller <amueller@nyu.edu>\r\n",
      "Date:   Mon Mar 28 17:59:52 2016 -0400\r\n",
      "\r\n",
      "    checked out myfile from first commit\r\n",
      "\r\n",
      "\u001b[33mcommit ea1f19e5eeb57174687351df9871de7332aeeca2\u001b[m\r\n",
      "Author: Andreas Mueller <amueller@nyu.edu>\r\n",
      "Date:   Mon Mar 28 17:59:51 2016 -0400\r\n",
      "\r\n",
      "    I added a second line\r\n",
      "\r\n",
      "\u001b[33mcommit 61428823ef85050f125f4eb8dff3af64019a5391\u001b[m\r\n",
      "Author: Andreas Mueller <amueller@nyu.edu>\r\n",
      "Date:   Mon Mar 28 17:59:50 2016 -0400\r\n",
      "\r\n",
      "    added a first line to my file\r\n"
     ]
    }
   ],
   "source": [
    "git commit -m \"checked out myfile from first commit\"\n",
    "git log"
   ]
  },
  {
   "cell_type": "markdown",
   "metadata": {
    "slideshow": {
     "slide_type": "slide"
    }
   },
   "source": [
    "# Ignoring things"
   ]
  },
  {
   "cell_type": "code",
   "execution_count": 18,
   "metadata": {
    "collapsed": false
   },
   "outputs": [
    {
     "name": "stdout",
     "output_type": "stream",
     "text": [
      "On branch master\r\n",
      "Untracked files:\r\n",
      "  (use \"git add <file>...\" to include in what will be committed)\r\n",
      "\r\n",
      "\t\u001b[31mstupidtempfile.swp\u001b[m\r\n",
      "\t\u001b[31mwhycompiling.pyc\u001b[m\r\n",
      "\r\n",
      "nothing added to commit but untracked files present (use \"git add\" to track)\r\n"
     ]
    }
   ],
   "source": [
    "touch stupidtempfile.swp\n",
    "touch whycompiling.pyc\n",
    "git status"
   ]
  },
  {
   "cell_type": "code",
   "execution_count": 19,
   "metadata": {
    "collapsed": false
   },
   "outputs": [
    {
     "name": "stdout",
     "output_type": "stream",
     "text": []
    }
   ],
   "source": [
    "echo \"*.swp\" >> .gitignore\n",
    "echo \"*.pyc\" >> .gitignore"
   ]
  },
  {
   "cell_type": "code",
   "execution_count": 20,
   "metadata": {
    "collapsed": false
   },
   "outputs": [
    {
     "name": "stdout",
     "output_type": "stream",
     "text": [
      ".  ..  .git  .gitignore  myfile.txt  stupidtempfile.swp  whycompiling.pyc\r\n"
     ]
    }
   ],
   "source": [
    "ls -a"
   ]
  },
  {
   "cell_type": "code",
   "execution_count": 21,
   "metadata": {
    "collapsed": false
   },
   "outputs": [
    {
     "name": "stdout",
     "output_type": "stream",
     "text": [
      "On branch master\r\n",
      "Untracked files:\r\n",
      "  (use \"git add <file>...\" to include in what will be committed)\r\n",
      "\r\n",
      "\t\u001b[31m.gitignore\u001b[m\r\n",
      "\r\n",
      "nothing added to commit but untracked files present (use \"git add\" to track)\r\n"
     ]
    }
   ],
   "source": [
    "git status"
   ]
  },
  {
   "cell_type": "markdown",
   "metadata": {
    "slideshow": {
     "slide_type": "slide"
    }
   },
   "source": [
    "# Making Remotes"
   ]
  },
  {
   "cell_type": "code",
   "execution_count": 22,
   "metadata": {
    "collapsed": false
   },
   "outputs": [
    {
     "name": "stdout",
     "output_type": "stream",
     "text": [
      "/home/andy/advanced_git_tmp/myrepo\r\n"
     ]
    }
   ],
   "source": [
    "pwd"
   ]
  },
  {
   "cell_type": "code",
   "execution_count": 23,
   "metadata": {
    "collapsed": false
   },
   "outputs": [
    {
     "name": "stdout",
     "output_type": "stream",
     "text": []
    }
   ],
   "source": [
    "cd ..\n",
    "mkdir cloned_repo"
   ]
  },
  {
   "cell_type": "code",
   "execution_count": 24,
   "metadata": {
    "collapsed": false
   },
   "outputs": [
    {
     "name": "stdout",
     "output_type": "stream",
     "text": []
    }
   ],
   "source": [
    "cd cloned_repo"
   ]
  },
  {
   "cell_type": "code",
   "execution_count": 25,
   "metadata": {
    "collapsed": false
   },
   "outputs": [
    {
     "name": "stdout",
     "output_type": "stream",
     "text": [
      "Cloning into 'myrepo'...\r\n",
      "done.\r\n"
     ]
    }
   ],
   "source": [
    "git clone ../myrepo"
   ]
  },
  {
   "cell_type": "code",
   "execution_count": 26,
   "metadata": {
    "collapsed": false
   },
   "outputs": [
    {
     "name": "stdout",
     "output_type": "stream",
     "text": [
      "..\r\n",
      "├── cloned_repo\r\n",
      "│   └── myrepo\r\n",
      "│       └── myfile.txt\r\n",
      "└── myrepo\r\n",
      "    ├── myfile.txt\r\n",
      "    ├── stupidtempfile.swp\r\n",
      "    └── whycompiling.pyc\r\n",
      "\r\n",
      "3 directories, 4 files\r\n"
     ]
    }
   ],
   "source": [
    "tree .."
   ]
  },
  {
   "cell_type": "code",
   "execution_count": 27,
   "metadata": {
    "collapsed": false,
    "slideshow": {
     "slide_type": "slide"
    }
   },
   "outputs": [
    {
     "name": "stdout",
     "output_type": "stream",
     "text": [
      "myfile.txt\r\n"
     ]
    }
   ],
   "source": [
    "cd myrepo\n",
    "ls"
   ]
  },
  {
   "cell_type": "code",
   "execution_count": 28,
   "metadata": {
    "collapsed": false
   },
   "outputs": [
    {
     "name": "stdout",
     "output_type": "stream",
     "text": [
      "origin\t/home/andy/advanced_git_tmp/cloned_repo/../myrepo (fetch)\r\n",
      "origin\t/home/andy/advanced_git_tmp/cloned_repo/../myrepo (push)\r\n"
     ]
    }
   ],
   "source": [
    "git remote -v"
   ]
  },
  {
   "cell_type": "code",
   "execution_count": 29,
   "metadata": {
    "collapsed": false
   },
   "outputs": [
    {
     "name": "stdout",
     "output_type": "stream",
     "text": [
      "\u001b[33mcommit 030f19fe1a1d590fa4bc75178989e6edc35dfdc8\u001b[m\r\n",
      "Author: Andreas Mueller <amueller@nyu.edu>\r\n",
      "Date:   Mon Mar 28 17:59:52 2016 -0400\r\n",
      "\r\n",
      "    checked out myfile from first commit\r\n",
      "\r\n",
      "\u001b[33mcommit ea1f19e5eeb57174687351df9871de7332aeeca2\u001b[m\r\n",
      "Author: Andreas Mueller <amueller@nyu.edu>\r\n",
      "Date:   Mon Mar 28 17:59:51 2016 -0400\r\n",
      "\r\n",
      "    I added a second line\r\n",
      "\r\n",
      "\u001b[33mcommit 61428823ef85050f125f4eb8dff3af64019a5391\u001b[m\r\n",
      "Author: Andreas Mueller <amueller@nyu.edu>\r\n",
      "Date:   Mon Mar 28 17:59:50 2016 -0400\r\n",
      "\r\n",
      "    added a first line to my file\r\n"
     ]
    }
   ],
   "source": [
    "git log"
   ]
  },
  {
   "cell_type": "markdown",
   "metadata": {
    "slideshow": {
     "slide_type": "slide"
    }
   },
   "source": [
    "Change something in the original repo:"
   ]
  },
  {
   "cell_type": "code",
   "execution_count": 30,
   "metadata": {
    "collapsed": false,
    "slideshow": {
     "slide_type": "slide"
    }
   },
   "outputs": [
    {
     "name": "stdout",
     "output_type": "stream",
     "text": [
      "fist line in file myfile\r\n"
     ]
    }
   ],
   "source": [
    "cd ../../myrepo\n",
    "cat myfile.txt"
   ]
  },
  {
   "cell_type": "code",
   "execution_count": 31,
   "metadata": {
    "collapsed": false
   },
   "outputs": [
    {
     "name": "stdout",
     "output_type": "stream",
     "text": [
      "[master 0ba2126] new commit in the original repo\r\n",
      " 1 file changed, 1 insertion(+)\r\n"
     ]
    }
   ],
   "source": [
    "echo \"another line commited to the original repo\" >> myfile.txt\n",
    "git add myfile.txt\n",
    "git commit -m \"new commit in the original repo\""
   ]
  },
  {
   "cell_type": "code",
   "execution_count": 32,
   "metadata": {
    "collapsed": false
   },
   "outputs": [
    {
     "name": "stdout",
     "output_type": "stream",
     "text": [
      "\u001b[33mcommit 0ba21263730e5a606bebd82605ff8a0ada90061c\u001b[m\r\n",
      "Author: Andreas Mueller <amueller@nyu.edu>\r\n",
      "Date:   Mon Mar 28 17:59:56 2016 -0400\r\n",
      "\r\n",
      "    new commit in the original repo\r\n",
      "\r\n",
      "\u001b[33mcommit 030f19fe1a1d590fa4bc75178989e6edc35dfdc8\u001b[m\r\n",
      "Author: Andreas Mueller <amueller@nyu.edu>\r\n",
      "Date:   Mon Mar 28 17:59:52 2016 -0400\r\n",
      "\r\n",
      "    checked out myfile from first commit\r\n",
      "\r\n",
      "\u001b[33mcommit ea1f19e5eeb57174687351df9871de7332aeeca2\u001b[m\r\n",
      "Author: Andreas Mueller <amueller@nyu.edu>\r\n",
      "Date:   Mon Mar 28 17:59:51 2016 -0400\r\n",
      "\r\n",
      "    I added a second line\r\n",
      "\r\n",
      "\u001b[33mcommit 61428823ef85050f125f4eb8dff3af64019a5391\u001b[m\r\n",
      "Author: Andreas Mueller <amueller@nyu.edu>\r\n",
      "Date:   Mon Mar 28 17:59:50 2016 -0400\r\n",
      "\r\n",
      "    added a first line to my file\r\n"
     ]
    }
   ],
   "source": [
    "git log"
   ]
  },
  {
   "cell_type": "markdown",
   "metadata": {
    "slideshow": {
     "slide_type": "slide"
    }
   },
   "source": [
    "Update the cloned repo ..."
   ]
  },
  {
   "cell_type": "code",
   "execution_count": 33,
   "metadata": {
    "collapsed": false
   },
   "outputs": [
    {
     "name": "stdout",
     "output_type": "stream",
     "text": []
    }
   ],
   "source": [
    "cd ../cloned_repo/myrepo"
   ]
  },
  {
   "cell_type": "code",
   "execution_count": 34,
   "metadata": {
    "collapsed": false
   },
   "outputs": [
    {
     "name": "stdout",
     "output_type": "stream",
     "text": [
      "remote: Counting objects: 3, done.\u001b[K\r\n",
      "remote: Compressing objects:  50% (1/2)   \u001b[K\r",
      "remote: Compressing objects: 100% (2/2)   \u001b[K\r",
      "remote: Compressing objects: 100% (2/2), done.\u001b[K\r\n",
      "remote: Total 3 (delta 0), reused 0 (delta 0)\u001b[K\r\n",
      "Unpacking objects:  33% (1/3)   \r",
      "Unpacking objects:  66% (2/3)   \r",
      "Unpacking objects: 100% (3/3)   \r",
      "Unpacking objects: 100% (3/3), done.\r\n",
      "From /home/andy/advanced_git_tmp/cloned_repo/../myrepo\r\n",
      "   030f19f..0ba2126  master     -> origin/master\r\n",
      "Updating 030f19f..0ba2126\r\n",
      "Fast-forward\r\n",
      " myfile.txt | 1 \u001b[32m+\u001b[m\r\n",
      " 1 file changed, 1 insertion(+)\r\n"
     ]
    }
   ],
   "source": [
    "git pull origin"
   ]
  },
  {
   "cell_type": "code",
   "execution_count": 35,
   "metadata": {
    "collapsed": false
   },
   "outputs": [
    {
     "name": "stdout",
     "output_type": "stream",
     "text": [
      "\u001b[33mcommit 0ba21263730e5a606bebd82605ff8a0ada90061c\u001b[m\r\n",
      "Author: Andreas Mueller <amueller@nyu.edu>\r\n",
      "Date:   Mon Mar 28 17:59:56 2016 -0400\r\n",
      "\r\n",
      "    new commit in the original repo\r\n",
      "\r\n",
      "\u001b[33mcommit 030f19fe1a1d590fa4bc75178989e6edc35dfdc8\u001b[m\r\n",
      "Author: Andreas Mueller <amueller@nyu.edu>\r\n",
      "Date:   Mon Mar 28 17:59:52 2016 -0400\r\n",
      "\r\n",
      "    checked out myfile from first commit\r\n",
      "\r\n",
      "\u001b[33mcommit ea1f19e5eeb57174687351df9871de7332aeeca2\u001b[m\r\n",
      "Author: Andreas Mueller <amueller@nyu.edu>\r\n",
      "Date:   Mon Mar 28 17:59:51 2016 -0400\r\n",
      "\r\n",
      "    I added a second line\r\n",
      "\r\n",
      "\u001b[33mcommit 61428823ef85050f125f4eb8dff3af64019a5391\u001b[m\r\n",
      "Author: Andreas Mueller <amueller@nyu.edu>\r\n",
      "Date:   Mon Mar 28 17:59:50 2016 -0400\r\n",
      "\r\n",
      "    added a first line to my file\r\n"
     ]
    }
   ],
   "source": [
    "git log"
   ]
  },
  {
   "cell_type": "markdown",
   "metadata": {
    "slideshow": {
     "slide_type": "slide"
    }
   },
   "source": [
    "Change something in the cloned repo:"
   ]
  },
  {
   "cell_type": "code",
   "execution_count": 36,
   "metadata": {
    "collapsed": false
   },
   "outputs": [
    {
     "name": "stdout",
     "output_type": "stream",
     "text": [
      "[master d60ec92] new line in cloned repo\r\n",
      " 1 file changed, 1 insertion(+)\r\n"
     ]
    }
   ],
   "source": [
    "echo \"new line in cloned repo\" >> myfile.txt\n",
    "git add myfile.txt\n",
    "git commit -m \"new line in cloned repo\""
   ]
  },
  {
   "cell_type": "code",
   "execution_count": 37,
   "metadata": {
    "collapsed": false
   },
   "outputs": [
    {
     "name": "stdout",
     "output_type": "stream",
     "text": [
      "Counting objects: 3, done.\r\n",
      "Delta compression using up to 4 threads.\r\n",
      "Compressing objects:  50% (1/2)   \r",
      "Compressing objects: 100% (2/2)   \r",
      "Compressing objects: 100% (2/2), done.\r\n",
      "Writing objects:  33% (1/3)   \r",
      "Writing objects:  66% (2/3)   \r",
      "Writing objects: 100% (3/3)   \r",
      "Writing objects: 100% (3/3), 321 bytes | 0 bytes/s, done.\r\n",
      "Total 3 (delta 0), reused 0 (delta 0)\r\n",
      "remote: error: refusing to update checked out branch: refs/heads/master\u001b[K\r\n",
      "remote: error: By default, updating the current branch in a non-bare repository\u001b[K\r\n",
      "remote: error: is denied, because it will make the index and work tree inconsistent\u001b[K\r\n",
      "remote: error: with what you pushed, and will require 'git reset --hard' to match\u001b[K\r\n",
      "remote: error: the work tree to HEAD.\u001b[K\r\n",
      "remote: error: \u001b[K\r\n",
      "remote: error: You can set 'receive.denyCurrentBranch' configuration variable to\u001b[K\r\n",
      "remote: error: 'ignore' or 'warn' in the remote repository to allow pushing into\u001b[K\r\n",
      "remote: error: its current branch; however, this is not recommended unless you\u001b[K\r\n",
      "remote: error: arranged to update its work tree to match what you pushed in some\u001b[K\r\n",
      "remote: error: other way.\u001b[K\r\n",
      "remote: error: \u001b[K\r\n",
      "remote: error: To squelch this message and still keep the default behaviour, set\u001b[K\r\n",
      "remote: error: 'receive.denyCurrentBranch' configuration variable to 'refuse'.\u001b[K\r\n",
      "To /home/andy/advanced_git_tmp/cloned_repo/../myrepo\r\n",
      " ! [remote rejected] master -> master (branch is currently checked out)\r\n",
      "error: failed to push some refs to '/home/andy/advanced_git_tmp/cloned_repo/../myrepo'\r\n"
     ]
    }
   ],
   "source": [
    "git push origin\n",
    "true"
   ]
  },
  {
   "cell_type": "markdown",
   "metadata": {
    "slideshow": {
     "slide_type": "slide"
    }
   },
   "source": [
    "# ``bare`` repositories"
   ]
  },
  {
   "cell_type": "code",
   "execution_count": 38,
   "metadata": {
    "collapsed": false
   },
   "outputs": [
    {
     "name": "stdout",
     "output_type": "stream",
     "text": [
      "cloned_repo  myrepo\r\n"
     ]
    }
   ],
   "source": [
    "cd ../..\n",
    "ls"
   ]
  },
  {
   "cell_type": "code",
   "execution_count": 39,
   "metadata": {
    "collapsed": false
   },
   "outputs": [
    {
     "name": "stdout",
     "output_type": "stream",
     "text": [
      "Initialized empty Git repository in /home/andy/advanced_git_tmp/bare_repo/\r\n"
     ]
    }
   ],
   "source": [
    "mkdir bare_repo\n",
    "cd bare_repo\n",
    "git init --bare"
   ]
  },
  {
   "cell_type": "code",
   "execution_count": 40,
   "metadata": {
    "collapsed": false
   },
   "outputs": [
    {
     "name": "stdout",
     "output_type": "stream",
     "text": [
      "branches  config  description  HEAD  hooks  info  objects  refs\r\n"
     ]
    }
   ],
   "source": [
    "ls"
   ]
  },
  {
   "cell_type": "code",
   "execution_count": 41,
   "metadata": {
    "collapsed": false,
    "slideshow": {
     "slide_type": "slide"
    }
   },
   "outputs": [
    {
     "name": "stdout",
     "output_type": "stream",
     "text": []
    }
   ],
   "source": [
    "cd ../myrepo\n",
    "git remote add new_bare ../bare_repo"
   ]
  },
  {
   "cell_type": "code",
   "execution_count": 42,
   "metadata": {
    "collapsed": false
   },
   "outputs": [
    {
     "name": "stdout",
     "output_type": "stream",
     "text": [
      "new_bare\t../bare_repo (fetch)\r\n",
      "new_bare\t../bare_repo (push)\r\n"
     ]
    }
   ],
   "source": [
    "git remote -v"
   ]
  },
  {
   "cell_type": "code",
   "execution_count": 43,
   "metadata": {
    "collapsed": false
   },
   "outputs": [
    {
     "name": "stdout",
     "output_type": "stream",
     "text": [
      "Counting objects: 10, done.\r\n",
      "Delta compression using up to 4 threads.\r\n",
      "Compressing objects:  16% (1/6)   \r",
      "Compressing objects:  33% (2/6)   \r",
      "Compressing objects:  50% (3/6)   \r",
      "Compressing objects:  66% (4/6)   \r",
      "Compressing objects:  83% (5/6)   \r",
      "Compressing objects: 100% (6/6)   \r",
      "Compressing objects: 100% (6/6), done.\r\n",
      "Writing objects:  10% (1/10)   \r",
      "Writing objects:  20% (2/10)   \r",
      "Writing objects:  30% (3/10)   \r",
      "Writing objects:  40% (4/10)   \r",
      "Writing objects:  50% (5/10)   \r",
      "Writing objects:  60% (6/10)   \r",
      "Writing objects:  70% (7/10)   \r",
      "Writing objects:  80% (8/10)   \r",
      "Writing objects:  90% (9/10)   \r",
      "Writing objects: 100% (10/10)   \r",
      "Writing objects: 100% (10/10), 911 bytes | 0 bytes/s, done.\r\n",
      "Total 10 (delta 1), reused 0 (delta 0)\r\n",
      "To ../bare_repo\r\n",
      " * [new branch]      master -> master\r\n"
     ]
    }
   ],
   "source": [
    "git push new_bare master"
   ]
  },
  {
   "cell_type": "code",
   "execution_count": 44,
   "metadata": {
    "collapsed": false,
    "slideshow": {
     "slide_type": "slide"
    }
   },
   "outputs": [
    {
     "name": "stdout",
     "output_type": "stream",
     "text": []
    }
   ],
   "source": [
    "cd ../cloned_repo/myrepo"
   ]
  },
  {
   "cell_type": "code",
   "execution_count": 45,
   "metadata": {
    "collapsed": false
   },
   "outputs": [
    {
     "name": "stdout",
     "output_type": "stream",
     "text": []
    }
   ],
   "source": [
    "git remote add new_bare ../../bare_repo"
   ]
  },
  {
   "cell_type": "code",
   "execution_count": 46,
   "metadata": {
    "collapsed": false
   },
   "outputs": [
    {
     "name": "stdout",
     "output_type": "stream",
     "text": [
      "Counting objects: 3, done.\r\n",
      "Delta compression using up to 4 threads.\r\n",
      "Compressing objects:  50% (1/2)   \r",
      "Compressing objects: 100% (2/2)   \r",
      "Compressing objects: 100% (2/2), done.\r\n",
      "Writing objects:  33% (1/3)   \r",
      "Writing objects:  66% (2/3)   \r",
      "Writing objects: 100% (3/3)   \r",
      "Writing objects: 100% (3/3), 321 bytes | 0 bytes/s, done.\r\n",
      "Total 3 (delta 0), reused 0 (delta 0)\r\n",
      "To ../../bare_repo\r\n",
      "   0ba2126..d60ec92  master -> master\r\n"
     ]
    }
   ],
   "source": [
    "git push new_bare master"
   ]
  },
  {
   "cell_type": "code",
   "execution_count": 47,
   "metadata": {
    "collapsed": false,
    "slideshow": {
     "slide_type": "slide"
    }
   },
   "outputs": [
    {
     "name": "stdout",
     "output_type": "stream",
     "text": [
      "From ../bare_repo\r\n",
      " * branch            master     -> FETCH_HEAD\r\n",
      "   0ba2126..d60ec92  master     -> new_bare/master\r\n",
      "Updating 0ba2126..d60ec92\r\n",
      "Fast-forward\r\n",
      " myfile.txt | 1 \u001b[32m+\u001b[m\r\n",
      " 1 file changed, 1 insertion(+)\r\n"
     ]
    }
   ],
   "source": [
    "cd ../../myrepo\n",
    "git pull new_bare master"
   ]
  },
  {
   "cell_type": "code",
   "execution_count": 48,
   "metadata": {
    "collapsed": false
   },
   "outputs": [
    {
     "name": "stdout",
     "output_type": "stream",
     "text": [
      "\u001b[33mcommit d60ec92f8e646e40ca417ba3b70deed974b9e5c7\u001b[m\r\n",
      "Author: Andreas Mueller <amueller@nyu.edu>\r\n",
      "Date:   Mon Mar 28 17:59:57 2016 -0400\r\n",
      "\r\n",
      "    new line in cloned repo\r\n",
      "\r\n",
      "\u001b[33mcommit 0ba21263730e5a606bebd82605ff8a0ada90061c\u001b[m\r\n",
      "Author: Andreas Mueller <amueller@nyu.edu>\r\n",
      "Date:   Mon Mar 28 17:59:56 2016 -0400\r\n",
      "\r\n",
      "    new commit in the original repo\r\n",
      "\r\n",
      "\u001b[33mcommit 030f19fe1a1d590fa4bc75178989e6edc35dfdc8\u001b[m\r\n",
      "Author: Andreas Mueller <amueller@nyu.edu>\r\n",
      "Date:   Mon Mar 28 17:59:52 2016 -0400\r\n",
      "\r\n",
      "    checked out myfile from first commit\r\n",
      "\r\n",
      "\u001b[33mcommit ea1f19e5eeb57174687351df9871de7332aeeca2\u001b[m\r\n",
      "Author: Andreas Mueller <amueller@nyu.edu>\r\n",
      "Date:   Mon Mar 28 17:59:51 2016 -0400\r\n",
      "\r\n",
      "    I added a second line\r\n",
      "\r\n",
      "\u001b[33mcommit 61428823ef85050f125f4eb8dff3af64019a5391\u001b[m\r\n",
      "Author: Andreas Mueller <amueller@nyu.edu>\r\n",
      "Date:   Mon Mar 28 17:59:50 2016 -0400\r\n",
      "\r\n",
      "    added a first line to my file\r\n"
     ]
    }
   ],
   "source": [
    "git log"
   ]
  },
  {
   "cell_type": "markdown",
   "metadata": {
    "slideshow": {
     "slide_type": "slide"
    }
   },
   "source": [
    "# Undoing your mistakes sneak preview\n",
    "\n",
    "![xkcd](git_xkcd.png)"
   ]
  },
  {
   "cell_type": "code",
   "execution_count": 49,
   "metadata": {
    "collapsed": false
   },
   "outputs": [
    {
     "name": "stdout",
     "output_type": "stream",
     "text": []
    }
   ],
   "source": [
    "rm *\n",
    "ls"
   ]
  },
  {
   "cell_type": "code",
   "execution_count": 50,
   "metadata": {
    "collapsed": false
   },
   "outputs": [
    {
     "name": "stdout",
     "output_type": "stream",
     "text": [
      "HEAD is now at d60ec92 new line in cloned repo\r\n"
     ]
    }
   ],
   "source": [
    "git reset --hard"
   ]
  },
  {
   "cell_type": "code",
   "execution_count": 51,
   "metadata": {
    "collapsed": false
   },
   "outputs": [
    {
     "name": "stdout",
     "output_type": "stream",
     "text": [
      "HEAD is now at d60ec92 new line in cloned repo\r\n"
     ]
    }
   ],
   "source": [
    "git reset --hard new_bare/master"
   ]
  },
  {
   "cell_type": "markdown",
   "metadata": {
    "slideshow": {
     "slide_type": "slide"
    }
   },
   "source": [
    "# Branches"
   ]
  },
  {
   "cell_type": "code",
   "execution_count": 52,
   "metadata": {
    "collapsed": false
   },
   "outputs": [
    {
     "name": "stdout",
     "output_type": "stream",
     "text": [
      "Switched to a new branch 'new_branch_with_descriptive_name'\r\n"
     ]
    }
   ],
   "source": [
    "git checkout -b new_branch_with_descriptive_name"
   ]
  },
  {
   "cell_type": "code",
   "execution_count": 53,
   "metadata": {
    "collapsed": false
   },
   "outputs": [
    {
     "name": "stdout",
     "output_type": "stream",
     "text": []
    }
   ],
   "source": [
    "echo \"new stuff that is reeeeaaally cool and maybe even works\" > myfile.txt"
   ]
  },
  {
   "cell_type": "code",
   "execution_count": 54,
   "metadata": {
    "collapsed": false
   },
   "outputs": [
    {
     "name": "stdout",
     "output_type": "stream",
     "text": [
      "[new_branch_with_descriptive_name 75e1d21] hurray, new stuff.\r\n",
      " 1 file changed, 1 insertion(+), 3 deletions(-)\r\n"
     ]
    }
   ],
   "source": [
    "git add myfile.txt\n",
    "git commit -m \"hurray, new stuff.\""
   ]
  },
  {
   "cell_type": "code",
   "execution_count": 55,
   "metadata": {
    "collapsed": false
   },
   "outputs": [
    {
     "name": "stdout",
     "output_type": "stream",
     "text": [
      "\u001b[33mcommit 75e1d21cbb56b66c64e59cdaf837a54d78408327\u001b[m\r\n",
      "Author: Andreas Mueller <amueller@nyu.edu>\r\n",
      "Date:   Mon Mar 28 18:00:02 2016 -0400\r\n",
      "\r\n",
      "    hurray, new stuff.\r\n",
      "\r\n",
      "\u001b[33mcommit d60ec92f8e646e40ca417ba3b70deed974b9e5c7\u001b[m\r\n",
      "Author: Andreas Mueller <amueller@nyu.edu>\r\n",
      "Date:   Mon Mar 28 17:59:57 2016 -0400\r\n",
      "\r\n",
      "    new line in cloned repo\r\n",
      "\r\n",
      "\u001b[33mcommit 0ba21263730e5a606bebd82605ff8a0ada90061c\u001b[m\r\n",
      "Author: Andreas Mueller <amueller@nyu.edu>\r\n",
      "Date:   Mon Mar 28 17:59:56 2016 -0400\r\n",
      "\r\n",
      "    new commit in the original repo\r\n",
      "\r\n",
      "\u001b[33mcommit 030f19fe1a1d590fa4bc75178989e6edc35dfdc8\u001b[m\r\n",
      "Author: Andreas Mueller <amueller@nyu.edu>\r\n",
      "Date:   Mon Mar 28 17:59:52 2016 -0400\r\n",
      "\r\n",
      "    checked out myfile from first commit\r\n",
      "\r\n",
      "\u001b[33mcommit ea1f19e5eeb57174687351df9871de7332aeeca2\u001b[m\r\n",
      "Author: Andreas Mueller <amueller@nyu.edu>\r\n",
      "Date:   Mon Mar 28 17:59:51 2016 -0400\r\n",
      "\r\n",
      "    I added a second line\r\n",
      "\r\n",
      "\u001b[33mcommit 61428823ef85050f125f4eb8dff3af64019a5391\u001b[m\r\n",
      "Author: Andreas Mueller <amueller@nyu.edu>\r\n",
      "Date:   Mon Mar 28 17:59:50 2016 -0400\r\n",
      "\r\n",
      "    added a first line to my file\r\n"
     ]
    }
   ],
   "source": [
    "git log"
   ]
  },
  {
   "cell_type": "markdown",
   "metadata": {},
   "source": [
    "# Where is the branch?"
   ]
  },
  {
   "cell_type": "code",
   "execution_count": 56,
   "metadata": {
    "collapsed": false,
    "scrolled": true
   },
   "outputs": [
    {
     "name": "stdout",
     "output_type": "stream",
     "text": [
      "* \u001b[33m75e1d21\u001b[m\u001b[33m (\u001b[m\u001b[1;36mHEAD\u001b[m\u001b[33m -> \u001b[m\u001b[1;32mnew_branch_with_descriptive_name\u001b[m\u001b[33m)\u001b[m hurray, new stuff.\r\n",
      "* \u001b[33md60ec92\u001b[m\u001b[33m (\u001b[m\u001b[1;31mnew_bare/master\u001b[m\u001b[33m, \u001b[m\u001b[1;32mmaster\u001b[m\u001b[33m)\u001b[m new line in cloned repo\r\n",
      "* \u001b[33m0ba2126\u001b[m new commit in the original repo\r\n",
      "* \u001b[33m030f19f\u001b[m checked out myfile from first commit\r\n",
      "* \u001b[33mea1f19e\u001b[m I added a second line\r\n",
      "* \u001b[33m6142882\u001b[m added a first line to my file\r\n"
     ]
    }
   ],
   "source": [
    "git log --graph --decorate --all --oneline"
   ]
  },
  {
   "cell_type": "code",
   "execution_count": 57,
   "metadata": {
    "collapsed": false
   },
   "outputs": [
    {
     "name": "stdout",
     "output_type": "stream",
     "text": []
    }
   ],
   "source": [
    "alias nicelog=\"git log --graph --decorate --all --oneline\""
   ]
  },
  {
   "cell_type": "code",
   "execution_count": 58,
   "metadata": {
    "collapsed": false,
    "slideshow": {
     "slide_type": "subslide"
    }
   },
   "outputs": [
    {
     "name": "stdout",
     "output_type": "stream",
     "text": [
      "Switched to branch 'master'\r\n",
      "fist line in file myfile\r\n",
      "another line commited to the original repo\r\n",
      "new line in cloned repo\r\n"
     ]
    }
   ],
   "source": [
    "git checkout master\n",
    "cat myfile.txt"
   ]
  },
  {
   "cell_type": "code",
   "execution_count": 59,
   "metadata": {
    "collapsed": false,
    "slideshow": {
     "slide_type": "subslide"
    }
   },
   "outputs": [
    {
     "name": "stdout",
     "output_type": "stream",
     "text": [
      "[master 6d9bf3b] working on another file on the master branch\r\n",
      " 1 file changed, 1 insertion(+)\r\n",
      " create mode 100644 another_file.txt\r\n"
     ]
    }
   ],
   "source": [
    "echo \"add to the old stuff \" >> another_file.txt\n",
    "git add another_file.txt\n",
    "git commit -m \"working on another file on the master branch\""
   ]
  },
  {
   "cell_type": "code",
   "execution_count": 60,
   "metadata": {
    "collapsed": false,
    "slideshow": {
     "slide_type": "subslide"
    }
   },
   "outputs": [
    {
     "name": "stdout",
     "output_type": "stream",
     "text": [
      "* \u001b[33m6d9bf3b\u001b[m\u001b[33m (\u001b[m\u001b[1;36mHEAD\u001b[m\u001b[33m -> \u001b[m\u001b[1;32mmaster\u001b[m\u001b[33m)\u001b[m working on another file on the master branch\r\n",
      "\u001b[31m|\u001b[m * \u001b[33m75e1d21\u001b[m\u001b[33m (\u001b[m\u001b[1;32mnew_branch_with_descriptive_name\u001b[m\u001b[33m)\u001b[m hurray, new stuff.\r\n",
      "\u001b[31m|\u001b[m\u001b[31m/\u001b[m  \r\n",
      "* \u001b[33md60ec92\u001b[m\u001b[33m (\u001b[m\u001b[1;31mnew_bare/master\u001b[m\u001b[33m)\u001b[m new line in cloned repo\r\n",
      "* \u001b[33m0ba2126\u001b[m new commit in the original repo\r\n",
      "* \u001b[33m030f19f\u001b[m checked out myfile from first commit\r\n",
      "* \u001b[33mea1f19e\u001b[m I added a second line\r\n",
      "* \u001b[33m6142882\u001b[m added a first line to my file\r\n"
     ]
    }
   ],
   "source": [
    "git log --graph --decorate --all --oneline"
   ]
  },
  {
   "cell_type": "code",
   "execution_count": 61,
   "metadata": {
    "collapsed": false,
    "slideshow": {
     "slide_type": "slide"
    }
   },
   "outputs": [
    {
     "name": "stdout",
     "output_type": "stream",
     "text": [
      "another_file.txt  myfile.txt\r\n"
     ]
    }
   ],
   "source": [
    "ls"
   ]
  },
  {
   "cell_type": "code",
   "execution_count": 62,
   "metadata": {
    "collapsed": false
   },
   "outputs": [
    {
     "name": "stdout",
     "output_type": "stream",
     "text": [
      "Switched to branch 'new_branch_with_descriptive_name'\r\n"
     ]
    }
   ],
   "source": [
    "git checkout new_branch_with_descriptive_name"
   ]
  },
  {
   "cell_type": "code",
   "execution_count": 63,
   "metadata": {
    "collapsed": false
   },
   "outputs": [
    {
     "name": "stdout",
     "output_type": "stream",
     "text": [
      "myfile.txt\r\n"
     ]
    }
   ],
   "source": [
    "ls"
   ]
  },
  {
   "cell_type": "markdown",
   "metadata": {
    "slideshow": {
     "slide_type": "slide"
    }
   },
   "source": [
    "# Merging Branches"
   ]
  },
  {
   "cell_type": "code",
   "execution_count": 64,
   "metadata": {
    "collapsed": false
   },
   "outputs": [
    {
     "name": "stdout",
     "output_type": "stream",
     "text": [
      "Switched to branch 'master'\r\n"
     ]
    }
   ],
   "source": [
    "git checkout master"
   ]
  },
  {
   "cell_type": "code",
   "execution_count": 65,
   "metadata": {
    "collapsed": false
   },
   "outputs": [
    {
     "name": "stdout",
     "output_type": "stream",
     "text": [
      "Merge made by the 'recursive' strategy.\r\n",
      " myfile.txt | 4 \u001b[32m+\u001b[m\u001b[31m---\u001b[m\r\n",
      " 1 file changed, 1 insertion(+), 3 deletions(-)\r\n"
     ]
    }
   ],
   "source": [
    "git merge new_branch_with_descriptive_name -m \"merge descriptive branch with cool feature\""
   ]
  },
  {
   "cell_type": "code",
   "execution_count": 66,
   "metadata": {
    "collapsed": false
   },
   "outputs": [
    {
     "name": "stdout",
     "output_type": "stream",
     "text": [
      "On branch master\r\n",
      "Untracked files:\r\n",
      "  (use \"git add <file>...\" to include in what will be committed)\r\n",
      "\r\n",
      "\t\u001b[31m.gitignore\u001b[m\r\n",
      "\r\n",
      "nothing added to commit but untracked files present (use \"git add\" to track)\r\n"
     ]
    }
   ],
   "source": [
    "git status"
   ]
  },
  {
   "cell_type": "code",
   "execution_count": 67,
   "metadata": {
    "collapsed": false
   },
   "outputs": [
    {
     "name": "stdout",
     "output_type": "stream",
     "text": [
      "new stuff that is reeeeaaally cool and maybe even works\r\n"
     ]
    }
   ],
   "source": [
    "cat myfile.txt"
   ]
  },
  {
   "cell_type": "code",
   "execution_count": 68,
   "metadata": {
    "collapsed": false
   },
   "outputs": [
    {
     "name": "stdout",
     "output_type": "stream",
     "text": [
      "*   \u001b[33m6758cb1\u001b[m\u001b[33m (\u001b[m\u001b[1;36mHEAD\u001b[m\u001b[33m -> \u001b[m\u001b[1;32mmaster\u001b[m\u001b[33m)\u001b[m merge descriptive branch with cool feature\r\n",
      "\u001b[31m|\u001b[m\u001b[32m\\\u001b[m  \r\n",
      "\u001b[31m|\u001b[m * \u001b[33m75e1d21\u001b[m\u001b[33m (\u001b[m\u001b[1;32mnew_branch_with_descriptive_name\u001b[m\u001b[33m)\u001b[m hurray, new stuff.\r\n",
      "* \u001b[32m|\u001b[m \u001b[33m6d9bf3b\u001b[m working on another file on the master branch\r\n",
      "\u001b[32m|\u001b[m\u001b[32m/\u001b[m  \r\n",
      "* \u001b[33md60ec92\u001b[m\u001b[33m (\u001b[m\u001b[1;31mnew_bare/master\u001b[m\u001b[33m)\u001b[m new line in cloned repo\r\n",
      "* \u001b[33m0ba2126\u001b[m new commit in the original repo\r\n",
      "* \u001b[33m030f19f\u001b[m checked out myfile from first commit\r\n",
      "* \u001b[33mea1f19e\u001b[m I added a second line\r\n",
      "* \u001b[33m6142882\u001b[m added a first line to my file\r\n"
     ]
    }
   ],
   "source": [
    "git log --graph --decorate --all --oneline"
   ]
  },
  {
   "cell_type": "code",
   "execution_count": 69,
   "metadata": {
    "collapsed": false
   },
   "outputs": [
    {
     "name": "stdout",
     "output_type": "stream",
     "text": [
      "Switched to a new branch 'another_new_branch'\r\n"
     ]
    }
   ],
   "source": [
    "git checkout -b another_new_branch"
   ]
  },
  {
   "cell_type": "code",
   "execution_count": 70,
   "metadata": {
    "collapsed": false
   },
   "outputs": [
    {
     "name": "stdout",
     "output_type": "stream",
     "text": [
      "*   \u001b[33m6758cb1\u001b[m\u001b[33m (\u001b[m\u001b[1;36mHEAD\u001b[m\u001b[33m -> \u001b[m\u001b[1;32manother_new_branch\u001b[m\u001b[33m, \u001b[m\u001b[1;32mmaster\u001b[m\u001b[33m)\u001b[m merge descriptive branch with cool feature\r\n",
      "\u001b[31m|\u001b[m\u001b[32m\\\u001b[m  \r\n",
      "\u001b[31m|\u001b[m * \u001b[33m75e1d21\u001b[m\u001b[33m (\u001b[m\u001b[1;32mnew_branch_with_descriptive_name\u001b[m\u001b[33m)\u001b[m hurray, new stuff.\r\n",
      "* \u001b[32m|\u001b[m \u001b[33m6d9bf3b\u001b[m working on another file on the master branch\r\n",
      "\u001b[32m|\u001b[m\u001b[32m/\u001b[m  \r\n",
      "* \u001b[33md60ec92\u001b[m\u001b[33m (\u001b[m\u001b[1;31mnew_bare/master\u001b[m\u001b[33m)\u001b[m new line in cloned repo\r\n",
      "* \u001b[33m0ba2126\u001b[m new commit in the original repo\r\n",
      "* \u001b[33m030f19f\u001b[m checked out myfile from first commit\r\n",
      "* \u001b[33mea1f19e\u001b[m I added a second line\r\n",
      "* \u001b[33m6142882\u001b[m added a first line to my file\r\n"
     ]
    }
   ],
   "source": [
    "git log --graph --decorate --all --oneline"
   ]
  },
  {
   "cell_type": "markdown",
   "metadata": {
    "slideshow": {
     "slide_type": "slide"
    }
   },
   "source": [
    "# Creating branches starting at commits"
   ]
  },
  {
   "cell_type": "code",
   "execution_count": 71,
   "metadata": {
    "collapsed": false
   },
   "outputs": [
    {
     "name": "stdout",
     "output_type": "stream",
     "text": [
      "Switched to a new branch 'branch_started_further_back'\r\n"
     ]
    }
   ],
   "source": [
    "git checkout -b branch_started_further_back HEAD~3 "
   ]
  },
  {
   "cell_type": "code",
   "execution_count": 72,
   "metadata": {
    "collapsed": false
   },
   "outputs": [
    {
     "name": "stdout",
     "output_type": "stream",
     "text": [
      "*   \u001b[33m6758cb1\u001b[m\u001b[33m (\u001b[m\u001b[1;32mmaster\u001b[m\u001b[33m, \u001b[m\u001b[1;32manother_new_branch\u001b[m\u001b[33m)\u001b[m merge descriptive branch with cool feature\r\n",
      "\u001b[31m|\u001b[m\u001b[32m\\\u001b[m  \r\n",
      "\u001b[31m|\u001b[m * \u001b[33m75e1d21\u001b[m\u001b[33m (\u001b[m\u001b[1;32mnew_branch_with_descriptive_name\u001b[m\u001b[33m)\u001b[m hurray, new stuff.\r\n",
      "* \u001b[32m|\u001b[m \u001b[33m6d9bf3b\u001b[m working on another file on the master branch\r\n",
      "\u001b[32m|\u001b[m\u001b[32m/\u001b[m  \r\n",
      "* \u001b[33md60ec92\u001b[m\u001b[33m (\u001b[m\u001b[1;31mnew_bare/master\u001b[m\u001b[33m)\u001b[m new line in cloned repo\r\n",
      "* \u001b[33m0ba2126\u001b[m\u001b[33m (\u001b[m\u001b[1;36mHEAD\u001b[m\u001b[33m -> \u001b[m\u001b[1;32mbranch_started_further_back\u001b[m\u001b[33m)\u001b[m new commit in the original repo\r\n",
      "* \u001b[33m030f19f\u001b[m checked out myfile from first commit\r\n",
      "* \u001b[33mea1f19e\u001b[m I added a second line\r\n",
      "* \u001b[33m6142882\u001b[m added a first line to my file\r\n"
     ]
    }
   ],
   "source": [
    "git log --graph --decorate --all --oneline"
   ]
  },
  {
   "cell_type": "markdown",
   "metadata": {
    "slideshow": {
     "slide_type": "slide"
    }
   },
   "source": [
    "# Concept Review\n",
    "\n",
    "## DAG (directed acyclic graph) of commits = branches\n",
    "\n",
    "## Index vs staging area vs working tree\n",
    "\n",
    "## HEAD\n",
    "\n",
    "## Remotes\n",
    "\n",
    "So far we have:\n",
    "- Added commits to the DAG (``git commit``), branched (``git checkout -b``) and merged branches (``git merge``).\n",
    "- Moved the HEAD from branch to branch (``git checkout``)\n",
    "- Moved HEAD to a commit and started a branch there (``git checkout -b <branchname> <commit>``)\n",
    "- Pushed and pulled from Remotes (that kind of work like branches)\n",
    "\n",
    "Most commands impact the DAG, and some of the Index, staging area and working tree."
   ]
  },
  {
   "cell_type": "markdown",
   "metadata": {
    "slideshow": {
     "slide_type": "slide"
    }
   },
   "source": [
    "- The index stores **commits**.\n",
    "- The staging area stores a **diff** (lines added and removed).\n",
    "- The working tree stores **files**."
   ]
  },
  {
   "cell_type": "markdown",
   "metadata": {
    "slideshow": {
     "slide_type": "slide"
    }
   },
   "source": [
    "# Undoing your mistakes\n",
    "``git revert`` and ``git reset``"
   ]
  },
  {
   "cell_type": "code",
   "execution_count": 73,
   "metadata": {
    "collapsed": false
   },
   "outputs": [
    {
     "name": "stdout",
     "output_type": "stream",
     "text": [
      "Switched to branch 'master'\r\n",
      "*   \u001b[33m6758cb1\u001b[m\u001b[33m (\u001b[m\u001b[1;36mHEAD\u001b[m\u001b[33m -> \u001b[m\u001b[1;32mmaster\u001b[m\u001b[33m, \u001b[m\u001b[1;32manother_new_branch\u001b[m\u001b[33m)\u001b[m merge descriptive branch with cool feature\r\n",
      "\u001b[31m|\u001b[m\u001b[32m\\\u001b[m  \r\n",
      "\u001b[31m|\u001b[m * \u001b[33m75e1d21\u001b[m\u001b[33m (\u001b[m\u001b[1;32mnew_branch_with_descriptive_name\u001b[m\u001b[33m)\u001b[m hurray, new stuff.\r\n",
      "* \u001b[32m|\u001b[m \u001b[33m6d9bf3b\u001b[m working on another file on the master branch\r\n",
      "\u001b[32m|\u001b[m\u001b[32m/\u001b[m  \r\n",
      "* \u001b[33md60ec92\u001b[m\u001b[33m (\u001b[m\u001b[1;31mnew_bare/master\u001b[m\u001b[33m)\u001b[m new line in cloned repo\r\n",
      "* \u001b[33m0ba2126\u001b[m\u001b[33m (\u001b[m\u001b[1;32mbranch_started_further_back\u001b[m\u001b[33m)\u001b[m new commit in the original repo\r\n",
      "* \u001b[33m030f19f\u001b[m checked out myfile from first commit\r\n",
      "* \u001b[33mea1f19e\u001b[m I added a second line\r\n",
      "* \u001b[33m6142882\u001b[m added a first line to my file\r\n"
     ]
    }
   ],
   "source": [
    "git checkout master\n",
    "nicelog"
   ]
  },
  {
   "cell_type": "code",
   "execution_count": 74,
   "metadata": {
    "collapsed": false
   },
   "outputs": [
    {
     "name": "stdout",
     "output_type": "stream",
     "text": [
      "another_file.txt  myfile.txt\r\n"
     ]
    }
   ],
   "source": [
    "ls"
   ]
  },
  {
   "cell_type": "code",
   "execution_count": 75,
   "metadata": {
    "collapsed": false
   },
   "outputs": [
    {
     "name": "stdout",
     "output_type": "stream",
     "text": [
      "[master 162eca7] Revert \"working on another file on the master branch\"\r\n",
      " 1 file changed, 1 deletion(-)\r\n",
      " delete mode 100644 another_file.txt\r\n"
     ]
    }
   ],
   "source": [
    "git revert HEAD~1 --no-edit"
   ]
  },
  {
   "cell_type": "code",
   "execution_count": 76,
   "metadata": {
    "collapsed": false
   },
   "outputs": [
    {
     "name": "stdout",
     "output_type": "stream",
     "text": [
      "* \u001b[33m162eca7\u001b[m\u001b[33m (\u001b[m\u001b[1;36mHEAD\u001b[m\u001b[33m -> \u001b[m\u001b[1;32mmaster\u001b[m\u001b[33m)\u001b[m Revert \"working on another file on the master branch\"\r\n",
      "*   \u001b[33m6758cb1\u001b[m\u001b[33m (\u001b[m\u001b[1;32manother_new_branch\u001b[m\u001b[33m)\u001b[m merge descriptive branch with cool feature\r\n",
      "\u001b[32m|\u001b[m\u001b[33m\\\u001b[m  \r\n",
      "\u001b[32m|\u001b[m * \u001b[33m75e1d21\u001b[m\u001b[33m (\u001b[m\u001b[1;32mnew_branch_with_descriptive_name\u001b[m\u001b[33m)\u001b[m hurray, new stuff.\r\n",
      "* \u001b[33m|\u001b[m \u001b[33m6d9bf3b\u001b[m working on another file on the master branch\r\n",
      "\u001b[33m|\u001b[m\u001b[33m/\u001b[m  \r\n",
      "* \u001b[33md60ec92\u001b[m\u001b[33m (\u001b[m\u001b[1;31mnew_bare/master\u001b[m\u001b[33m)\u001b[m new line in cloned repo\r\n",
      "* \u001b[33m0ba2126\u001b[m\u001b[33m (\u001b[m\u001b[1;32mbranch_started_further_back\u001b[m\u001b[33m)\u001b[m new commit in the original repo\r\n",
      "* \u001b[33m030f19f\u001b[m checked out myfile from first commit\r\n",
      "* \u001b[33mea1f19e\u001b[m I added a second line\r\n",
      "* \u001b[33m6142882\u001b[m added a first line to my file\r\n"
     ]
    }
   ],
   "source": [
    "nicelog"
   ]
  },
  {
   "cell_type": "code",
   "execution_count": 77,
   "metadata": {
    "collapsed": false
   },
   "outputs": [
    {
     "name": "stdout",
     "output_type": "stream",
     "text": [
      "myfile.txt\r\n"
     ]
    }
   ],
   "source": [
    "ls"
   ]
  },
  {
   "cell_type": "markdown",
   "metadata": {
    "slideshow": {
     "slide_type": "slide"
    }
   },
   "source": [
    "# ``git reset``\n",
    "- hard: working dir & move HEAD\n",
    "- mixed (default): only move HEAD"
   ]
  },
  {
   "cell_type": "code",
   "execution_count": 78,
   "metadata": {
    "collapsed": false
   },
   "outputs": [
    {
     "name": "stdout",
     "output_type": "stream",
     "text": [
      "Unstaged changes after reset:\r\n",
      "M\tmyfile.txt\r\n"
     ]
    }
   ],
   "source": [
    "git reset branch_started_further_back"
   ]
  },
  {
   "cell_type": "code",
   "execution_count": 79,
   "metadata": {
    "collapsed": false
   },
   "outputs": [
    {
     "name": "stdout",
     "output_type": "stream",
     "text": [
      "*   \u001b[33m6758cb1\u001b[m\u001b[33m (\u001b[m\u001b[1;32manother_new_branch\u001b[m\u001b[33m)\u001b[m merge descriptive branch with cool feature\r\n",
      "\u001b[31m|\u001b[m\u001b[32m\\\u001b[m  \r\n",
      "\u001b[31m|\u001b[m * \u001b[33m75e1d21\u001b[m\u001b[33m (\u001b[m\u001b[1;32mnew_branch_with_descriptive_name\u001b[m\u001b[33m)\u001b[m hurray, new stuff.\r\n",
      "* \u001b[32m|\u001b[m \u001b[33m6d9bf3b\u001b[m working on another file on the master branch\r\n",
      "\u001b[32m|\u001b[m\u001b[32m/\u001b[m  \r\n",
      "* \u001b[33md60ec92\u001b[m\u001b[33m (\u001b[m\u001b[1;31mnew_bare/master\u001b[m\u001b[33m)\u001b[m new line in cloned repo\r\n",
      "* \u001b[33m0ba2126\u001b[m\u001b[33m (\u001b[m\u001b[1;36mHEAD\u001b[m\u001b[33m -> \u001b[m\u001b[1;32mmaster\u001b[m\u001b[33m, \u001b[m\u001b[1;32mbranch_started_further_back\u001b[m\u001b[33m)\u001b[m new commit in the original repo\r\n",
      "* \u001b[33m030f19f\u001b[m checked out myfile from first commit\r\n",
      "* \u001b[33mea1f19e\u001b[m I added a second line\r\n",
      "* \u001b[33m6142882\u001b[m added a first line to my file\r\n"
     ]
    }
   ],
   "source": [
    "nicelog"
   ]
  },
  {
   "cell_type": "code",
   "execution_count": 80,
   "metadata": {
    "collapsed": false
   },
   "outputs": [
    {
     "name": "stdout",
     "output_type": "stream",
     "text": [
      "On branch master\r\n",
      "Changes not staged for commit:\r\n",
      "  (use \"git add <file>...\" to update what will be committed)\r\n",
      "  (use \"git checkout -- <file>...\" to discard changes in working directory)\r\n",
      "\r\n",
      "\t\u001b[31mmodified:   myfile.txt\u001b[m\r\n",
      "\r\n",
      "Untracked files:\r\n",
      "  (use \"git add <file>...\" to include in what will be committed)\r\n",
      "\r\n",
      "\t\u001b[31m.gitignore\u001b[m\r\n",
      "\r\n",
      "no changes added to commit (use \"git add\" and/or \"git commit -a\")\r\n"
     ]
    }
   ],
   "source": [
    "git status"
   ]
  },
  {
   "cell_type": "code",
   "execution_count": 81,
   "metadata": {
    "collapsed": false
   },
   "outputs": [
    {
     "name": "stdout",
     "output_type": "stream",
     "text": [
      "new stuff that is reeeeaaally cool and maybe even works\r\n"
     ]
    }
   ],
   "source": [
    "cat myfile.txt"
   ]
  },
  {
   "cell_type": "code",
   "execution_count": 82,
   "metadata": {
    "collapsed": false
   },
   "outputs": [
    {
     "name": "stdout",
     "output_type": "stream",
     "text": [
      "[master bd574dc] new stuff from the feature branch that I did stuff with\r\n",
      " 1 file changed, 1 insertion(+), 2 deletions(-)\r\n"
     ]
    }
   ],
   "source": [
    "git add myfile.txt\n",
    "git commit -m \"new stuff from the feature branch that I did stuff with\""
   ]
  },
  {
   "cell_type": "code",
   "execution_count": 83,
   "metadata": {
    "collapsed": false
   },
   "outputs": [
    {
     "name": "stdout",
     "output_type": "stream",
     "text": [
      "* \u001b[33mbd574dc\u001b[m\u001b[33m (\u001b[m\u001b[1;36mHEAD\u001b[m\u001b[33m -> \u001b[m\u001b[1;32mmaster\u001b[m\u001b[33m)\u001b[m new stuff from the feature branch that I did stuff with\r\n",
      "\u001b[31m|\u001b[m *   \u001b[33m6758cb1\u001b[m\u001b[33m (\u001b[m\u001b[1;32manother_new_branch\u001b[m\u001b[33m)\u001b[m merge descriptive branch with cool feature\r\n",
      "\u001b[31m|\u001b[m \u001b[32m|\u001b[m\u001b[33m\\\u001b[m  \r\n",
      "\u001b[31m|\u001b[m \u001b[32m|\u001b[m * \u001b[33m75e1d21\u001b[m\u001b[33m (\u001b[m\u001b[1;32mnew_branch_with_descriptive_name\u001b[m\u001b[33m)\u001b[m hurray, new stuff.\r\n",
      "\u001b[31m|\u001b[m * \u001b[33m|\u001b[m \u001b[33m6d9bf3b\u001b[m working on another file on the master branch\r\n",
      "\u001b[31m|\u001b[m \u001b[33m|\u001b[m\u001b[33m/\u001b[m  \r\n",
      "\u001b[31m|\u001b[m * \u001b[33md60ec92\u001b[m\u001b[33m (\u001b[m\u001b[1;31mnew_bare/master\u001b[m\u001b[33m)\u001b[m new line in cloned repo\r\n",
      "\u001b[31m|\u001b[m\u001b[31m/\u001b[m  \r\n",
      "* \u001b[33m0ba2126\u001b[m\u001b[33m (\u001b[m\u001b[1;32mbranch_started_further_back\u001b[m\u001b[33m)\u001b[m new commit in the original repo\r\n",
      "* \u001b[33m030f19f\u001b[m checked out myfile from first commit\r\n",
      "* \u001b[33mea1f19e\u001b[m I added a second line\r\n",
      "* \u001b[33m6142882\u001b[m added a first line to my file\r\n"
     ]
    }
   ],
   "source": [
    "nicelog"
   ]
  },
  {
   "cell_type": "markdown",
   "metadata": {
    "slideshow": {
     "slide_type": "slide"
    }
   },
   "source": [
    "``--hard`` fixes (aka destroys) everything!"
   ]
  },
  {
   "cell_type": "code",
   "execution_count": 84,
   "metadata": {
    "collapsed": false
   },
   "outputs": [
    {
     "name": "stdout",
     "output_type": "stream",
     "text": [
      "Switched to a new branch 'branch_well_move_back'\r\n"
     ]
    }
   ],
   "source": [
    "git checkout -b branch_well_move_back"
   ]
  },
  {
   "cell_type": "code",
   "execution_count": 85,
   "metadata": {
    "collapsed": false
   },
   "outputs": [
    {
     "name": "stdout",
     "output_type": "stream",
     "text": [
      "* \u001b[33mbd574dc\u001b[m\u001b[33m (\u001b[m\u001b[1;36mHEAD\u001b[m\u001b[33m -> \u001b[m\u001b[1;32mbranch_well_move_back\u001b[m\u001b[33m, \u001b[m\u001b[1;32mmaster\u001b[m\u001b[33m)\u001b[m new stuff from the feature branch that I did stuff with\r\n",
      "\u001b[31m|\u001b[m *   \u001b[33m6758cb1\u001b[m\u001b[33m (\u001b[m\u001b[1;32manother_new_branch\u001b[m\u001b[33m)\u001b[m merge descriptive branch with cool feature\r\n",
      "\u001b[31m|\u001b[m \u001b[32m|\u001b[m\u001b[33m\\\u001b[m  \r\n",
      "\u001b[31m|\u001b[m \u001b[32m|\u001b[m * \u001b[33m75e1d21\u001b[m\u001b[33m (\u001b[m\u001b[1;32mnew_branch_with_descriptive_name\u001b[m\u001b[33m)\u001b[m hurray, new stuff.\r\n",
      "\u001b[31m|\u001b[m * \u001b[33m|\u001b[m \u001b[33m6d9bf3b\u001b[m working on another file on the master branch\r\n",
      "\u001b[31m|\u001b[m \u001b[33m|\u001b[m\u001b[33m/\u001b[m  \r\n",
      "\u001b[31m|\u001b[m * \u001b[33md60ec92\u001b[m\u001b[33m (\u001b[m\u001b[1;31mnew_bare/master\u001b[m\u001b[33m)\u001b[m new line in cloned repo\r\n",
      "\u001b[31m|\u001b[m\u001b[31m/\u001b[m  \r\n",
      "* \u001b[33m0ba2126\u001b[m\u001b[33m (\u001b[m\u001b[1;32mbranch_started_further_back\u001b[m\u001b[33m)\u001b[m new commit in the original repo\r\n",
      "* \u001b[33m030f19f\u001b[m checked out myfile from first commit\r\n",
      "* \u001b[33mea1f19e\u001b[m I added a second line\r\n",
      "* \u001b[33m6142882\u001b[m added a first line to my file\r\n"
     ]
    }
   ],
   "source": [
    "nicelog"
   ]
  },
  {
   "cell_type": "code",
   "execution_count": 86,
   "metadata": {
    "collapsed": false
   },
   "outputs": [
    {
     "name": "stdout",
     "output_type": "stream",
     "text": [
      "HEAD is now at ea1f19e I added a second line\r\n"
     ]
    }
   ],
   "source": [
    "git reset --hard HEAD~3"
   ]
  },
  {
   "cell_type": "code",
   "execution_count": 87,
   "metadata": {
    "collapsed": false
   },
   "outputs": [
    {
     "name": "stdout",
     "output_type": "stream",
     "text": [
      "On branch branch_well_move_back\r\n",
      "Untracked files:\r\n",
      "  (use \"git add <file>...\" to include in what will be committed)\r\n",
      "\r\n",
      "\t\u001b[31m.gitignore\u001b[m\r\n",
      "\r\n",
      "nothing added to commit but untracked files present (use \"git add\" to track)\r\n"
     ]
    }
   ],
   "source": [
    "git status"
   ]
  },
  {
   "cell_type": "code",
   "execution_count": 88,
   "metadata": {
    "collapsed": false
   },
   "outputs": [
    {
     "name": "stdout",
     "output_type": "stream",
     "text": [
      "* \u001b[33mbd574dc\u001b[m\u001b[33m (\u001b[m\u001b[1;32mmaster\u001b[m\u001b[33m)\u001b[m new stuff from the feature branch that I did stuff with\r\n",
      "\u001b[31m|\u001b[m *   \u001b[33m6758cb1\u001b[m\u001b[33m (\u001b[m\u001b[1;32manother_new_branch\u001b[m\u001b[33m)\u001b[m merge descriptive branch with cool feature\r\n",
      "\u001b[31m|\u001b[m \u001b[32m|\u001b[m\u001b[33m\\\u001b[m  \r\n",
      "\u001b[31m|\u001b[m \u001b[32m|\u001b[m * \u001b[33m75e1d21\u001b[m\u001b[33m (\u001b[m\u001b[1;32mnew_branch_with_descriptive_name\u001b[m\u001b[33m)\u001b[m hurray, new stuff.\r\n",
      "\u001b[31m|\u001b[m * \u001b[33m|\u001b[m \u001b[33m6d9bf3b\u001b[m working on another file on the master branch\r\n",
      "\u001b[31m|\u001b[m \u001b[33m|\u001b[m\u001b[33m/\u001b[m  \r\n",
      "\u001b[31m|\u001b[m * \u001b[33md60ec92\u001b[m\u001b[33m (\u001b[m\u001b[1;31mnew_bare/master\u001b[m\u001b[33m)\u001b[m new line in cloned repo\r\n",
      "\u001b[31m|\u001b[m\u001b[31m/\u001b[m  \r\n",
      "* \u001b[33m0ba2126\u001b[m\u001b[33m (\u001b[m\u001b[1;32mbranch_started_further_back\u001b[m\u001b[33m)\u001b[m new commit in the original repo\r\n",
      "* \u001b[33m030f19f\u001b[m checked out myfile from first commit\r\n",
      "* \u001b[33mea1f19e\u001b[m\u001b[33m (\u001b[m\u001b[1;36mHEAD\u001b[m\u001b[33m -> \u001b[m\u001b[1;32mbranch_well_move_back\u001b[m\u001b[33m)\u001b[m I added a second line\r\n",
      "* \u001b[33m6142882\u001b[m added a first line to my file\r\n"
     ]
    }
   ],
   "source": [
    "nicelog"
   ]
  },
  {
   "cell_type": "code",
   "execution_count": null,
   "metadata": {
    "collapsed": true
   },
   "outputs": [],
   "source": []
  }
 ],
 "metadata": {
  "celltoolbar": "Slideshow",
  "kernelspec": {
   "display_name": "Bash",
   "language": "bash",
   "name": "bash"
  },
  "language_info": {
   "codemirror_mode": "shell",
   "file_extension": ".sh",
   "mimetype": "text/x-sh",
   "name": "bash"
  }
 },
 "nbformat": 4,
 "nbformat_minor": 0
}
