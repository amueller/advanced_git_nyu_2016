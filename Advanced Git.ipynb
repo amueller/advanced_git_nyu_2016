{
 "cells": [
  {
   "cell_type": "markdown",
   "metadata": {
    "slideshow": {
     "slide_type": "slide"
    }
   },
   "source": [
    "# Advanced Git\n",
    "Or: more than you wanted to know, but just touching the surface"
   ]
  },
  {
   "cell_type": "markdown",
   "metadata": {
    "slideshow": {
     "slide_type": "slide"
    }
   },
   "source": [
    "<img src=\"linus_Decreux.jpeg\" width=500px>"
   ]
  },
  {
   "cell_type": "markdown",
   "metadata": {
    "slideshow": {
     "slide_type": "slide"
    }
   },
   "source": [
    "# Overview\n",
    "- quick recap\n",
    "- Github Forks\n",
    "- Issues and Pull Requests\n",
    "- My github workflow\n",
    "\n",
    "- Ignoring Files with ``.gitignore``\n",
    "- Hosting your own repositories with ``bare repositories``\n",
    "- Branches (with ``git checkout``)\n",
    "- Undoing your mistakes with ``git reset`` and ``git revert``\n",
    "- Rewriting history with ``git rebase``\n",
    "- Rewriting history, like, totally. with ``git rebase -i``\n",
    "- The last resort: ``git reflog``"
   ]
  },
  {
   "cell_type": "markdown",
   "metadata": {
    "slideshow": {
     "slide_type": "slide"
    }
   },
   "source": [
    "# Help\n",
    "Use\n",
    "```\n",
    "git somecommand --help\n",
    "```\n",
    "for unhelpful help."
   ]
  },
  {
   "cell_type": "markdown",
   "metadata": {
    "slideshow": {
     "slide_type": "slide"
    }
   },
   "source": [
    "# Quick Recap"
   ]
  },
  {
   "cell_type": "code",
   "execution_count": 1,
   "metadata": {
    "collapsed": false,
    "slideshow": {
     "slide_type": "skip"
    }
   },
   "outputs": [
    {
     "name": "stdout",
     "output_type": "stream",
     "text": []
    }
   ],
   "source": [
    "cd ~\n",
    "rm -rf advanced_git_tmp\n",
    "mkdir advanced_git_tmp\n",
    "cd advanced_git_tmp"
   ]
  },
  {
   "cell_type": "markdown",
   "metadata": {
    "slideshow": {
     "slide_type": "slide"
    }
   },
   "source": [
    "# Configuration"
   ]
  },
  {
   "cell_type": "code",
   "execution_count": 2,
   "metadata": {
    "collapsed": false
   },
   "outputs": [
    {
     "name": "stdout",
     "output_type": "stream",
     "text": [
      "user.email=amueller@nyu.edu\r\n",
      "user.name=Andreas Mueller\r\n",
      "core.editor=vim\r\n",
      "core.pager=\r\n",
      "push.default=simple\r\n",
      "pager.grep=false\r\n",
      "color.ui=auto\r\n"
     ]
    }
   ],
   "source": [
    "git config --list"
   ]
  },
  {
   "cell_type": "markdown",
   "metadata": {
    "slideshow": {
     "slide_type": "slide"
    }
   },
   "source": [
    "# Initialization"
   ]
  },
  {
   "cell_type": "code",
   "execution_count": 3,
   "metadata": {
    "collapsed": false,
    "slideshow": {
     "slide_type": "fragment"
    }
   },
   "outputs": [
    {
     "name": "stdout",
     "output_type": "stream",
     "text": [
      "Initialized empty Git repository in /home/andy/advanced_git_tmp/myrepo/.git/\r\n"
     ]
    }
   ],
   "source": [
    "mkdir myrepo\n",
    "cd myrepo\n",
    "git init"
   ]
  },
  {
   "cell_type": "code",
   "execution_count": 4,
   "metadata": {
    "collapsed": false,
    "slideshow": {
     "slide_type": "fragment"
    }
   },
   "outputs": [
    {
     "name": "stdout",
     "output_type": "stream",
     "text": [
      ".  ..  .git\r\n"
     ]
    }
   ],
   "source": [
    "ls -a"
   ]
  },
  {
   "cell_type": "code",
   "execution_count": 5,
   "metadata": {
    "collapsed": false,
    "slideshow": {
     "slide_type": "fragment"
    }
   },
   "outputs": [
    {
     "name": "stdout",
     "output_type": "stream",
     "text": [
      "On branch master\r\n",
      "\r\n",
      "Initial commit\r\n",
      "\r\n",
      "nothing to commit (create/copy files and use \"git add\" to track)\r\n"
     ]
    }
   ],
   "source": [
    "git status"
   ]
  },
  {
   "cell_type": "markdown",
   "metadata": {
    "collapsed": true,
    "slideshow": {
     "slide_type": "slide"
    }
   },
   "source": [
    "# Adding and commiting"
   ]
  },
  {
   "cell_type": "code",
   "execution_count": 6,
   "metadata": {
    "collapsed": false
   },
   "outputs": [
    {
     "name": "stdout",
     "output_type": "stream",
     "text": [
      "On branch master\r\n",
      "\r\n",
      "Initial commit\r\n",
      "\r\n",
      "Untracked files:\r\n",
      "  (use \"git add <file>...\" to include in what will be committed)\r\n",
      "\r\n",
      "\t\u001b[31mmyfile.txt\u001b[m\r\n",
      "\r\n",
      "nothing added to commit but untracked files present (use \"git add\" to track)\r\n"
     ]
    }
   ],
   "source": [
    "echo \"fist line in file myfile\" > myfile.txt\n",
    "git status"
   ]
  },
  {
   "cell_type": "code",
   "execution_count": 7,
   "metadata": {
    "collapsed": false
   },
   "outputs": [
    {
     "name": "stdout",
     "output_type": "stream",
     "text": [
      "On branch master\r\n",
      "\r\n",
      "Initial commit\r\n",
      "\r\n",
      "Changes to be committed:\r\n",
      "  (use \"git rm --cached <file>...\" to unstage)\r\n",
      "\r\n",
      "\t\u001b[32mnew file:   myfile.txt\u001b[m\r\n",
      "\r\n"
     ]
    }
   ],
   "source": [
    "git add myfile.txt\n",
    "git status"
   ]
  },
  {
   "cell_type": "code",
   "execution_count": 8,
   "metadata": {
    "collapsed": false,
    "slideshow": {
     "slide_type": "fragment"
    }
   },
   "outputs": [
    {
     "name": "stdout",
     "output_type": "stream",
     "text": [
      "[master (root-commit) 7e4d620] added a first line to my file\r\n",
      " 1 file changed, 1 insertion(+)\r\n",
      " create mode 100644 myfile.txt\r\n",
      "On branch master\r\n",
      "nothing to commit, working directory clean\r\n"
     ]
    }
   ],
   "source": [
    "git commit -m \"added a first line to my file\"\n",
    "git status"
   ]
  },
  {
   "cell_type": "code",
   "execution_count": 9,
   "metadata": {
    "collapsed": false,
    "slideshow": {
     "slide_type": "fragment"
    }
   },
   "outputs": [
    {
     "name": "stdout",
     "output_type": "stream",
     "text": [
      "\u001b[33mcommit 7e4d6208c11e3daa867eff0a9d494e90a7510a1d\u001b[m\r\n",
      "Author: Andreas Mueller <amueller@nyu.edu>\r\n",
      "Date:   Tue Mar 29 11:32:47 2016 -0400\r\n",
      "\r\n",
      "    added a first line to my file\r\n"
     ]
    }
   ],
   "source": [
    "git log"
   ]
  },
  {
   "cell_type": "markdown",
   "metadata": {
    "slideshow": {
     "slide_type": "slide"
    }
   },
   "source": [
    "# Changing and commiting again"
   ]
  },
  {
   "cell_type": "code",
   "execution_count": 10,
   "metadata": {
    "collapsed": false
   },
   "outputs": [
    {
     "name": "stdout",
     "output_type": "stream",
     "text": [
      "On branch master\r\n",
      "Changes not staged for commit:\r\n",
      "  (use \"git add <file>...\" to update what will be committed)\r\n",
      "  (use \"git checkout -- <file>...\" to discard changes in working directory)\r\n",
      "\r\n",
      "\t\u001b[31mmodified:   myfile.txt\u001b[m\r\n",
      "\r\n",
      "no changes added to commit (use \"git add\" and/or \"git commit -a\")\r\n"
     ]
    }
   ],
   "source": [
    "echo \"second line in myfile is not much more interesting\" >> myfile.txt\n",
    "git status"
   ]
  },
  {
   "cell_type": "code",
   "execution_count": 11,
   "metadata": {
    "collapsed": false
   },
   "outputs": [
    {
     "name": "stdout",
     "output_type": "stream",
     "text": [
      "On branch master\r\n",
      "Changes to be committed:\r\n",
      "  (use \"git reset HEAD <file>...\" to unstage)\r\n",
      "\r\n",
      "\t\u001b[32mmodified:   myfile.txt\u001b[m\r\n",
      "\r\n"
     ]
    }
   ],
   "source": [
    "git add myfile.txt\n",
    "git status"
   ]
  },
  {
   "cell_type": "code",
   "execution_count": 12,
   "metadata": {
    "collapsed": false
   },
   "outputs": [
    {
     "name": "stdout",
     "output_type": "stream",
     "text": [
      "[master 344a292] I added a second line\r\n",
      " 1 file changed, 1 insertion(+)\r\n",
      "\u001b[33mcommit 344a292cc5a57060e0767f31aa020a16c8b5600a\u001b[m\r\n",
      "Author: Andreas Mueller <amueller@nyu.edu>\r\n",
      "Date:   Tue Mar 29 11:32:48 2016 -0400\r\n",
      "\r\n",
      "    I added a second line\r\n",
      "\r\n",
      "\u001b[33mcommit 7e4d6208c11e3daa867eff0a9d494e90a7510a1d\u001b[m\r\n",
      "Author: Andreas Mueller <amueller@nyu.edu>\r\n",
      "Date:   Tue Mar 29 11:32:47 2016 -0400\r\n",
      "\r\n",
      "    added a first line to my file\r\n"
     ]
    }
   ],
   "source": [
    "git commit -m \"I added a second line\"\n",
    "git log"
   ]
  },
  {
   "cell_type": "markdown",
   "metadata": {
    "slideshow": {
     "slide_type": "slide"
    }
   },
   "source": [
    "# Reverting a file to an older version"
   ]
  },
  {
   "cell_type": "code",
   "execution_count": 13,
   "metadata": {
    "collapsed": false,
    "slideshow": {
     "slide_type": "fragment"
    }
   },
   "outputs": [
    {
     "name": "stdout",
     "output_type": "stream",
     "text": [
      "fist line in file myfile\r\n",
      "second line in myfile is not much more interesting\r\n",
      "omg a third line\r\n"
     ]
    }
   ],
   "source": [
    "echo \"omg a third line\" >> myfile.txt\n",
    "cat myfile.txt"
   ]
  },
  {
   "cell_type": "markdown",
   "metadata": {
    "slideshow": {
     "slide_type": "fragment"
    }
   },
   "source": [
    "Reverting to the last commit:"
   ]
  },
  {
   "cell_type": "code",
   "execution_count": 14,
   "metadata": {
    "collapsed": false,
    "slideshow": {
     "slide_type": "fragment"
    }
   },
   "outputs": [
    {
     "name": "stdout",
     "output_type": "stream",
     "text": [
      "fist line in file myfile\r\n",
      "second line in myfile is not much more interesting\r\n"
     ]
    }
   ],
   "source": [
    "git checkout myfile.txt\n",
    "cat myfile.txt"
   ]
  },
  {
   "cell_type": "markdown",
   "metadata": {
    "slideshow": {
     "slide_type": "fragment"
    }
   },
   "source": [
    "Reverting to a previous commit:"
   ]
  },
  {
   "cell_type": "code",
   "execution_count": 15,
   "metadata": {
    "collapsed": false,
    "slideshow": {
     "slide_type": "fragment"
    }
   },
   "outputs": [
    {
     "name": "stdout",
     "output_type": "stream",
     "text": [
      "fist line in file myfile\r\n"
     ]
    }
   ],
   "source": [
    "git checkout HEAD~1 myfile.txt\n",
    "cat myfile.txt"
   ]
  },
  {
   "cell_type": "code",
   "execution_count": 16,
   "metadata": {
    "collapsed": false,
    "slideshow": {
     "slide_type": "fragment"
    }
   },
   "outputs": [
    {
     "name": "stdout",
     "output_type": "stream",
     "text": [
      "On branch master\r\n",
      "Changes to be committed:\r\n",
      "  (use \"git reset HEAD <file>...\" to unstage)\r\n",
      "\r\n",
      "\t\u001b[32mmodified:   myfile.txt\u001b[m\r\n",
      "\r\n"
     ]
    }
   ],
   "source": [
    "git status"
   ]
  },
  {
   "cell_type": "code",
   "execution_count": 17,
   "metadata": {
    "collapsed": false,
    "slideshow": {
     "slide_type": "fragment"
    }
   },
   "outputs": [
    {
     "name": "stdout",
     "output_type": "stream",
     "text": [
      "[master 59d540c] checked out myfile from first commit\r\n",
      " 1 file changed, 1 deletion(-)\r\n",
      "\u001b[33mcommit 59d540c6d105d3d9b11ec7f0b2e662fc73c43532\u001b[m\r\n",
      "Author: Andreas Mueller <amueller@nyu.edu>\r\n",
      "Date:   Tue Mar 29 11:32:49 2016 -0400\r\n",
      "\r\n",
      "    checked out myfile from first commit\r\n",
      "\r\n",
      "\u001b[33mcommit 344a292cc5a57060e0767f31aa020a16c8b5600a\u001b[m\r\n",
      "Author: Andreas Mueller <amueller@nyu.edu>\r\n",
      "Date:   Tue Mar 29 11:32:48 2016 -0400\r\n",
      "\r\n",
      "    I added a second line\r\n",
      "\r\n",
      "\u001b[33mcommit 7e4d6208c11e3daa867eff0a9d494e90a7510a1d\u001b[m\r\n",
      "Author: Andreas Mueller <amueller@nyu.edu>\r\n",
      "Date:   Tue Mar 29 11:32:47 2016 -0400\r\n",
      "\r\n",
      "    added a first line to my file\r\n"
     ]
    }
   ],
   "source": [
    "git commit -m \"checked out myfile from first commit\"\n",
    "git log"
   ]
  },
  {
   "cell_type": "markdown",
   "metadata": {
    "slideshow": {
     "slide_type": "slide"
    }
   },
   "source": [
    "# Comparing files between versions"
   ]
  },
  {
   "cell_type": "markdown",
   "metadata": {},
   "source": [
    "Compare all files to the previous commit (HEAD \"minus\" one)."
   ]
  },
  {
   "cell_type": "code",
   "execution_count": 18,
   "metadata": {
    "collapsed": false
   },
   "outputs": [
    {
     "name": "stdout",
     "output_type": "stream",
     "text": [
      "\u001b[1mdiff --git a/myfile.txt b/myfile.txt\u001b[m\r\n",
      "\u001b[1mindex d6cb53f..dad84b7 100644\u001b[m\r\n",
      "\u001b[1m--- a/myfile.txt\u001b[m\r\n",
      "\u001b[1m+++ b/myfile.txt\u001b[m\r\n",
      "\u001b[36m@@ -1,2 +1 @@\u001b[m\r\n",
      " fist line in file myfile\u001b[m\r\n",
      "\u001b[31m-second line in myfile is not much more interesting\u001b[m\r\n"
     ]
    }
   ],
   "source": [
    "git diff HEAD~1"
   ]
  },
  {
   "cell_type": "markdown",
   "metadata": {},
   "source": [
    "Compare only ``myfile.txt`` to the previous commit."
   ]
  },
  {
   "cell_type": "code",
   "execution_count": 19,
   "metadata": {
    "collapsed": false
   },
   "outputs": [
    {
     "name": "stdout",
     "output_type": "stream",
     "text": [
      "\u001b[1mdiff --git a/myfile.txt b/myfile.txt\u001b[m\r\n",
      "\u001b[1mindex d6cb53f..dad84b7 100644\u001b[m\r\n",
      "\u001b[1m--- a/myfile.txt\u001b[m\r\n",
      "\u001b[1m+++ b/myfile.txt\u001b[m\r\n",
      "\u001b[36m@@ -1,2 +1 @@\u001b[m\r\n",
      " fist line in file myfile\u001b[m\r\n",
      "\u001b[31m-second line in myfile is not much more interesting\u001b[m\r\n"
     ]
    }
   ],
   "source": [
    "git diff HEAD~1 myfile.txt"
   ]
  },
  {
   "cell_type": "markdown",
   "metadata": {
    "slideshow": {
     "slide_type": "slide"
    }
   },
   "source": [
    "# Github\n",
    "Github is a way to host and share repos, but also a social network.\n",
    "Github makes it easy to contribute to existing repositories."
   ]
  },
  {
   "cell_type": "markdown",
   "metadata": {
    "slideshow": {
     "slide_type": "slide"
    }
   },
   "source": [
    "# Github Recap\n",
    "To work on a project with a project partner you:\n",
    "\n",
    "- create a repo\n",
    "- push your code to the repo\n",
    "- have them ``pull`` from your repo\n",
    "- add them as a \"collaborator\" on github\n",
    "- now they can ``push`` their changes"
   ]
  },
  {
   "cell_type": "markdown",
   "metadata": {
    "slideshow": {
     "slide_type": "slide"
    }
   },
   "source": [
    "# Problems with the pull / push model:\n",
    "- Lack of transparency (you need to study the log)\n",
    "- Need to give out write permission to collaborators"
   ]
  },
  {
   "cell_type": "markdown",
   "metadata": {
    "slideshow": {
     "slide_type": "fragment"
    }
   },
   "source": [
    "## Alternative model: Forks and Pull requests\n",
    "To work on someone else's project you:\n",
    "\n",
    "* Fork (make your own copy) of the project\n",
    "* Change your project\n",
    "* Ask then to ``pull`` your changes into the main project - the **pull request**"
   ]
  },
  {
   "cell_type": "markdown",
   "metadata": {
    "slideshow": {
     "slide_type": "slide"
    }
   },
   "source": [
    "# Exercise:\n",
    "* Fork my repository at http://github.com/amueller/repo_to_fork\n",
    "* Clone your forked version of the project (so you have a copy on your hard disk)\n",
    "* Create a new file, add and commit it.\n",
    "* Push the file to your forked repository.\n",
    "* Create a Pull Request to my original repository.\n",
    "\n",
    "AKA \"the simplified workflow\""
   ]
  },
  {
   "cell_type": "markdown",
   "metadata": {
    "slideshow": {
     "slide_type": "slide"
    }
   },
   "source": [
    "# Back to the command line!"
   ]
  },
  {
   "cell_type": "markdown",
   "metadata": {
    "slideshow": {
     "slide_type": "slide"
    }
   },
   "source": [
    "# Ignoring things"
   ]
  },
  {
   "cell_type": "code",
   "execution_count": 20,
   "metadata": {
    "collapsed": false
   },
   "outputs": [
    {
     "name": "stdout",
     "output_type": "stream",
     "text": [
      "On branch master\r\n",
      "Untracked files:\r\n",
      "  (use \"git add <file>...\" to include in what will be committed)\r\n",
      "\r\n",
      "\t\u001b[31mstupidtempfile.swp\u001b[m\r\n",
      "\t\u001b[31mwhycompiling.pyc\u001b[m\r\n",
      "\r\n",
      "nothing added to commit but untracked files present (use \"git add\" to track)\r\n"
     ]
    }
   ],
   "source": [
    "touch stupidtempfile.swp\n",
    "touch whycompiling.pyc\n",
    "git status"
   ]
  },
  {
   "cell_type": "markdown",
   "metadata": {},
   "source": [
    "Each line in ``.gitignore`` specifies one (kind of) file to ignore:"
   ]
  },
  {
   "cell_type": "code",
   "execution_count": 21,
   "metadata": {
    "collapsed": false
   },
   "outputs": [
    {
     "name": "stdout",
     "output_type": "stream",
     "text": []
    }
   ],
   "source": [
    "echo \"*.swp\" >> .gitignore\n",
    "echo \"*.pyc\" >> .gitignore"
   ]
  },
  {
   "cell_type": "code",
   "execution_count": 22,
   "metadata": {
    "collapsed": false
   },
   "outputs": [
    {
     "name": "stdout",
     "output_type": "stream",
     "text": [
      ".  ..  .git  .gitignore  myfile.txt  stupidtempfile.swp  whycompiling.pyc\r\n"
     ]
    }
   ],
   "source": [
    "ls -a"
   ]
  },
  {
   "cell_type": "markdown",
   "metadata": {},
   "source": [
    "Ignored files will not show up in ``git status`` and will not be added when doing ``git add -all``"
   ]
  },
  {
   "cell_type": "code",
   "execution_count": 23,
   "metadata": {
    "collapsed": false
   },
   "outputs": [
    {
     "name": "stdout",
     "output_type": "stream",
     "text": [
      "On branch master\r\n",
      "Untracked files:\r\n",
      "  (use \"git add <file>...\" to include in what will be committed)\r\n",
      "\r\n",
      "\t\u001b[31m.gitignore\u001b[m\r\n",
      "\r\n",
      "nothing added to commit but untracked files present (use \"git add\" to track)\r\n"
     ]
    }
   ],
   "source": [
    "git status"
   ]
  },
  {
   "cell_type": "markdown",
   "metadata": {
    "slideshow": {
     "slide_type": "slide"
    }
   },
   "source": [
    "# Exercise\n",
    "* Create a new repo\n",
    "* Add file ``awesome_content.txt`` you want to commit.\n",
    "* Add a file ``local_notes.txt`` that you don't want to track.\n",
    "* do a ``git status``\n",
    "* add ``local_notes.txt`` to ``.gitignore``\n",
    "* do a ``git status``\n",
    "* ``local_notes.txt`` should not show up in the status.\n",
    "* Add and commit ``awesome_content.txt``.\n",
    "* Try adding ``local_notes.txt``.\n",
    "* Should you add ``.gitignore``?"
   ]
  },
  {
   "cell_type": "markdown",
   "metadata": {
    "slideshow": {
     "slide_type": "slide"
    }
   },
   "source": [
    "# Making Remotes"
   ]
  },
  {
   "cell_type": "code",
   "execution_count": 24,
   "metadata": {
    "collapsed": false
   },
   "outputs": [
    {
     "name": "stdout",
     "output_type": "stream",
     "text": [
      "/home/andy/advanced_git_tmp/myrepo\r\n"
     ]
    }
   ],
   "source": [
    "pwd"
   ]
  },
  {
   "cell_type": "code",
   "execution_count": 25,
   "metadata": {
    "collapsed": false
   },
   "outputs": [
    {
     "name": "stdout",
     "output_type": "stream",
     "text": []
    }
   ],
   "source": [
    "cd ..\n",
    "mkdir cloned_repo"
   ]
  },
  {
   "cell_type": "code",
   "execution_count": 26,
   "metadata": {
    "collapsed": false
   },
   "outputs": [
    {
     "name": "stdout",
     "output_type": "stream",
     "text": []
    }
   ],
   "source": [
    "cd cloned_repo"
   ]
  },
  {
   "cell_type": "markdown",
   "metadata": {},
   "source": [
    "I can clone a local directory!"
   ]
  },
  {
   "cell_type": "code",
   "execution_count": 27,
   "metadata": {
    "collapsed": false
   },
   "outputs": [
    {
     "name": "stdout",
     "output_type": "stream",
     "text": [
      "Cloning into 'myrepo'...\r\n",
      "done.\r\n"
     ]
    }
   ],
   "source": [
    "git clone ../myrepo"
   ]
  },
  {
   "cell_type": "code",
   "execution_count": 28,
   "metadata": {
    "collapsed": false
   },
   "outputs": [
    {
     "name": "stdout",
     "output_type": "stream",
     "text": [
      "..\r\n",
      "├── cloned_repo\r\n",
      "│   └── myrepo\r\n",
      "│       └── myfile.txt\r\n",
      "└── myrepo\r\n",
      "    ├── myfile.txt\r\n",
      "    ├── stupidtempfile.swp\r\n",
      "    └── whycompiling.pyc\r\n",
      "\r\n",
      "3 directories, 4 files\r\n"
     ]
    }
   ],
   "source": [
    "tree .."
   ]
  },
  {
   "cell_type": "code",
   "execution_count": 29,
   "metadata": {
    "collapsed": false,
    "slideshow": {
     "slide_type": "slide"
    }
   },
   "outputs": [
    {
     "name": "stdout",
     "output_type": "stream",
     "text": [
      "myfile.txt\r\n"
     ]
    }
   ],
   "source": [
    "cd myrepo\n",
    "ls"
   ]
  },
  {
   "cell_type": "code",
   "execution_count": 30,
   "metadata": {
    "collapsed": false
   },
   "outputs": [
    {
     "name": "stdout",
     "output_type": "stream",
     "text": [
      "origin\t/home/andy/advanced_git_tmp/cloned_repo/../myrepo (fetch)\r\n",
      "origin\t/home/andy/advanced_git_tmp/cloned_repo/../myrepo (push)\r\n"
     ]
    }
   ],
   "source": [
    "git remote -v"
   ]
  },
  {
   "cell_type": "code",
   "execution_count": 31,
   "metadata": {
    "collapsed": false
   },
   "outputs": [
    {
     "name": "stdout",
     "output_type": "stream",
     "text": [
      "\u001b[33mcommit 59d540c6d105d3d9b11ec7f0b2e662fc73c43532\u001b[m\r\n",
      "Author: Andreas Mueller <amueller@nyu.edu>\r\n",
      "Date:   Tue Mar 29 11:32:49 2016 -0400\r\n",
      "\r\n",
      "    checked out myfile from first commit\r\n",
      "\r\n",
      "\u001b[33mcommit 344a292cc5a57060e0767f31aa020a16c8b5600a\u001b[m\r\n",
      "Author: Andreas Mueller <amueller@nyu.edu>\r\n",
      "Date:   Tue Mar 29 11:32:48 2016 -0400\r\n",
      "\r\n",
      "    I added a second line\r\n",
      "\r\n",
      "\u001b[33mcommit 7e4d6208c11e3daa867eff0a9d494e90a7510a1d\u001b[m\r\n",
      "Author: Andreas Mueller <amueller@nyu.edu>\r\n",
      "Date:   Tue Mar 29 11:32:47 2016 -0400\r\n",
      "\r\n",
      "    added a first line to my file\r\n"
     ]
    }
   ],
   "source": [
    "git log"
   ]
  },
  {
   "cell_type": "markdown",
   "metadata": {
    "slideshow": {
     "slide_type": "slide"
    }
   },
   "source": [
    "Change something in the original repo:"
   ]
  },
  {
   "cell_type": "code",
   "execution_count": 32,
   "metadata": {
    "collapsed": false,
    "slideshow": {
     "slide_type": "slide"
    }
   },
   "outputs": [
    {
     "name": "stdout",
     "output_type": "stream",
     "text": [
      "fist line in file myfile\r\n"
     ]
    }
   ],
   "source": [
    "cd ../../myrepo\n",
    "cat myfile.txt"
   ]
  },
  {
   "cell_type": "code",
   "execution_count": 33,
   "metadata": {
    "collapsed": false
   },
   "outputs": [
    {
     "name": "stdout",
     "output_type": "stream",
     "text": [
      "[master 18a3a33] new commit in the original repo\r\n",
      " 1 file changed, 1 insertion(+)\r\n"
     ]
    }
   ],
   "source": [
    "echo \"another line commited to the original repo\" >> myfile.txt\n",
    "git add myfile.txt\n",
    "git commit -m \"new commit in the original repo\""
   ]
  },
  {
   "cell_type": "code",
   "execution_count": 34,
   "metadata": {
    "collapsed": false
   },
   "outputs": [
    {
     "name": "stdout",
     "output_type": "stream",
     "text": [
      "\u001b[33mcommit 18a3a33467da956c792681a283effcd7c72d1864\u001b[m\r\n",
      "Author: Andreas Mueller <amueller@nyu.edu>\r\n",
      "Date:   Tue Mar 29 11:32:54 2016 -0400\r\n",
      "\r\n",
      "    new commit in the original repo\r\n",
      "\r\n",
      "\u001b[33mcommit 59d540c6d105d3d9b11ec7f0b2e662fc73c43532\u001b[m\r\n",
      "Author: Andreas Mueller <amueller@nyu.edu>\r\n",
      "Date:   Tue Mar 29 11:32:49 2016 -0400\r\n",
      "\r\n",
      "    checked out myfile from first commit\r\n",
      "\r\n",
      "\u001b[33mcommit 344a292cc5a57060e0767f31aa020a16c8b5600a\u001b[m\r\n",
      "Author: Andreas Mueller <amueller@nyu.edu>\r\n",
      "Date:   Tue Mar 29 11:32:48 2016 -0400\r\n",
      "\r\n",
      "    I added a second line\r\n",
      "\r\n",
      "\u001b[33mcommit 7e4d6208c11e3daa867eff0a9d494e90a7510a1d\u001b[m\r\n",
      "Author: Andreas Mueller <amueller@nyu.edu>\r\n",
      "Date:   Tue Mar 29 11:32:47 2016 -0400\r\n",
      "\r\n",
      "    added a first line to my file\r\n"
     ]
    }
   ],
   "source": [
    "git log"
   ]
  },
  {
   "cell_type": "markdown",
   "metadata": {
    "slideshow": {
     "slide_type": "slide"
    }
   },
   "source": [
    "Update the cloned repo ..."
   ]
  },
  {
   "cell_type": "code",
   "execution_count": 35,
   "metadata": {
    "collapsed": false
   },
   "outputs": [
    {
     "name": "stdout",
     "output_type": "stream",
     "text": []
    }
   ],
   "source": [
    "cd ../cloned_repo/myrepo"
   ]
  },
  {
   "cell_type": "code",
   "execution_count": 36,
   "metadata": {
    "collapsed": false
   },
   "outputs": [
    {
     "name": "stdout",
     "output_type": "stream",
     "text": [
      "remote: Counting objects: 3, done.\u001b[K\r\n",
      "remote: Compressing objects:  50% (1/2)   \u001b[K\r",
      "remote: Compressing objects: 100% (2/2)   \u001b[K\r",
      "remote: Compressing objects: 100% (2/2), done.\u001b[K\r\n",
      "remote: Total 3 (delta 0), reused 0 (delta 0)\u001b[K\r\n",
      "Unpacking objects:  33% (1/3)   \r",
      "Unpacking objects:  66% (2/3)   \r",
      "Unpacking objects: 100% (3/3)   \r",
      "Unpacking objects: 100% (3/3), done.\r\n",
      "From /home/andy/advanced_git_tmp/cloned_repo/../myrepo\r\n",
      "   59d540c..18a3a33  master     -> origin/master\r\n",
      "Updating 59d540c..18a3a33\r\n",
      "Fast-forward\r\n",
      " myfile.txt | 1 \u001b[32m+\u001b[m\r\n",
      " 1 file changed, 1 insertion(+)\r\n"
     ]
    }
   ],
   "source": [
    "git pull origin"
   ]
  },
  {
   "cell_type": "code",
   "execution_count": 37,
   "metadata": {
    "collapsed": false
   },
   "outputs": [
    {
     "name": "stdout",
     "output_type": "stream",
     "text": [
      "\u001b[33mcommit 18a3a33467da956c792681a283effcd7c72d1864\u001b[m\r\n",
      "Author: Andreas Mueller <amueller@nyu.edu>\r\n",
      "Date:   Tue Mar 29 11:32:54 2016 -0400\r\n",
      "\r\n",
      "    new commit in the original repo\r\n",
      "\r\n",
      "\u001b[33mcommit 59d540c6d105d3d9b11ec7f0b2e662fc73c43532\u001b[m\r\n",
      "Author: Andreas Mueller <amueller@nyu.edu>\r\n",
      "Date:   Tue Mar 29 11:32:49 2016 -0400\r\n",
      "\r\n",
      "    checked out myfile from first commit\r\n",
      "\r\n",
      "\u001b[33mcommit 344a292cc5a57060e0767f31aa020a16c8b5600a\u001b[m\r\n",
      "Author: Andreas Mueller <amueller@nyu.edu>\r\n",
      "Date:   Tue Mar 29 11:32:48 2016 -0400\r\n",
      "\r\n",
      "    I added a second line\r\n",
      "\r\n",
      "\u001b[33mcommit 7e4d6208c11e3daa867eff0a9d494e90a7510a1d\u001b[m\r\n",
      "Author: Andreas Mueller <amueller@nyu.edu>\r\n",
      "Date:   Tue Mar 29 11:32:47 2016 -0400\r\n",
      "\r\n",
      "    added a first line to my file\r\n"
     ]
    }
   ],
   "source": [
    "git log"
   ]
  },
  {
   "cell_type": "markdown",
   "metadata": {
    "slideshow": {
     "slide_type": "slide"
    }
   },
   "source": [
    "Change something in the cloned repo:"
   ]
  },
  {
   "cell_type": "code",
   "execution_count": 38,
   "metadata": {
    "collapsed": false
   },
   "outputs": [
    {
     "name": "stdout",
     "output_type": "stream",
     "text": [
      "[master b84d28d] new line in cloned repo\r\n",
      " 1 file changed, 1 insertion(+)\r\n"
     ]
    }
   ],
   "source": [
    "echo \"new line in cloned repo\" >> myfile.txt\n",
    "git add myfile.txt\n",
    "git commit -m \"new line in cloned repo\""
   ]
  },
  {
   "cell_type": "markdown",
   "metadata": {},
   "source": [
    "But I can't push to the original repo. (Someone might have edited the files but not checked them in)"
   ]
  },
  {
   "cell_type": "code",
   "execution_count": 39,
   "metadata": {
    "collapsed": false
   },
   "outputs": [
    {
     "name": "stdout",
     "output_type": "stream",
     "text": [
      "Counting objects: 3, done.\r\n",
      "Delta compression using up to 4 threads.\r\n",
      "Compressing objects:  50% (1/2)   \r",
      "Compressing objects: 100% (2/2)   \r",
      "Compressing objects: 100% (2/2), done.\r\n",
      "Writing objects:  33% (1/3)   \r",
      "Writing objects:  66% (2/3)   \r",
      "Writing objects: 100% (3/3)   \r",
      "Writing objects: 100% (3/3), 320 bytes | 0 bytes/s, done.\r\n",
      "Total 3 (delta 0), reused 0 (delta 0)\r\n",
      "remote: error: refusing to update checked out branch: refs/heads/master\u001b[K\r\n",
      "remote: error: By default, updating the current branch in a non-bare repository\u001b[K\r\n",
      "remote: error: is denied, because it will make the index and work tree inconsistent\u001b[K\r\n",
      "remote: error: with what you pushed, and will require 'git reset --hard' to match\u001b[K\r\n",
      "remote: error: the work tree to HEAD.\u001b[K\r\n",
      "remote: error: \u001b[K\r\n",
      "remote: error: You can set 'receive.denyCurrentBranch' configuration variable to\u001b[K\r\n",
      "remote: error: 'ignore' or 'warn' in the remote repository to allow pushing into\u001b[K\r\n",
      "remote: error: its current branch; however, this is not recommended unless you\u001b[K\r\n",
      "remote: error: arranged to update its work tree to match what you pushed in some\u001b[K\r\n",
      "remote: error: other way.\u001b[K\r\n",
      "remote: error: \u001b[K\r\n",
      "remote: error: To squelch this message and still keep the default behaviour, set\u001b[K\r\n",
      "remote: error: 'receive.denyCurrentBranch' configuration variable to 'refuse'.\u001b[K\r\n",
      "To /home/andy/advanced_git_tmp/cloned_repo/../myrepo\r\n",
      " ! [remote rejected] master -> master (branch is currently checked out)\r\n",
      "error: failed to push some refs to '/home/andy/advanced_git_tmp/cloned_repo/../myrepo'\r\n"
     ]
    }
   ],
   "source": [
    "git push origin\n",
    "true"
   ]
  },
  {
   "cell_type": "markdown",
   "metadata": {
    "slideshow": {
     "slide_type": "slide"
    }
   },
   "source": [
    "# ``bare`` repositories\n",
    "Allow pushing to them, but not directly editing them. They are used only as remotes."
   ]
  },
  {
   "cell_type": "code",
   "execution_count": 40,
   "metadata": {
    "collapsed": false
   },
   "outputs": [
    {
     "name": "stdout",
     "output_type": "stream",
     "text": [
      "cloned_repo  myrepo\r\n"
     ]
    }
   ],
   "source": [
    "cd ../..\n",
    "ls"
   ]
  },
  {
   "cell_type": "code",
   "execution_count": 41,
   "metadata": {
    "collapsed": false
   },
   "outputs": [
    {
     "name": "stdout",
     "output_type": "stream",
     "text": [
      "Initialized empty Git repository in /home/andy/advanced_git_tmp/bare_repo/\r\n"
     ]
    }
   ],
   "source": [
    "mkdir bare_repo\n",
    "cd bare_repo\n",
    "git init --bare"
   ]
  },
  {
   "cell_type": "markdown",
   "metadata": {},
   "source": [
    "Bare repos don't look like the content of the repository:"
   ]
  },
  {
   "cell_type": "code",
   "execution_count": 42,
   "metadata": {
    "collapsed": false
   },
   "outputs": [
    {
     "name": "stdout",
     "output_type": "stream",
     "text": [
      "branches  config  description  HEAD  hooks  info  objects  refs\r\n"
     ]
    }
   ],
   "source": [
    "ls"
   ]
  },
  {
   "cell_type": "markdown",
   "metadata": {},
   "source": [
    "Adding the ``bare`` repository as a remote to the existing repository ``myrepo``:"
   ]
  },
  {
   "cell_type": "code",
   "execution_count": 43,
   "metadata": {
    "collapsed": false,
    "slideshow": {
     "slide_type": "slide"
    }
   },
   "outputs": [
    {
     "name": "stdout",
     "output_type": "stream",
     "text": []
    }
   ],
   "source": [
    "cd ../myrepo\n",
    "git remote add new_bare ../bare_repo"
   ]
  },
  {
   "cell_type": "code",
   "execution_count": 44,
   "metadata": {
    "collapsed": false
   },
   "outputs": [
    {
     "name": "stdout",
     "output_type": "stream",
     "text": [
      "new_bare\t../bare_repo (fetch)\r\n",
      "new_bare\t../bare_repo (push)\r\n"
     ]
    }
   ],
   "source": [
    "git remote -v"
   ]
  },
  {
   "cell_type": "markdown",
   "metadata": {},
   "source": [
    "Pushing master of ``myrepo`` to the ``bare_repo``:"
   ]
  },
  {
   "cell_type": "code",
   "execution_count": 45,
   "metadata": {
    "collapsed": false
   },
   "outputs": [
    {
     "name": "stdout",
     "output_type": "stream",
     "text": [
      "Counting objects: 10, done.\r\n",
      "Delta compression using up to 4 threads.\r\n",
      "Compressing objects:  16% (1/6)   \r",
      "Compressing objects:  33% (2/6)   \r",
      "Compressing objects:  50% (3/6)   \r",
      "Compressing objects:  66% (4/6)   \r",
      "Compressing objects:  83% (5/6)   \r",
      "Compressing objects: 100% (6/6)   \r",
      "Compressing objects: 100% (6/6), done.\r\n",
      "Writing objects:  10% (1/10)   \r",
      "Writing objects:  20% (2/10)   \r",
      "Writing objects:  30% (3/10)   \r",
      "Writing objects:  40% (4/10)   \r",
      "Writing objects:  50% (5/10)   \r",
      "Writing objects:  60% (6/10)   \r",
      "Writing objects:  70% (7/10)   \r",
      "Writing objects:  80% (8/10)   \r",
      "Writing objects:  90% (9/10)   \r",
      "Writing objects: 100% (10/10)   \r",
      "Writing objects: 100% (10/10), 907 bytes | 0 bytes/s, done.\r\n",
      "Total 10 (delta 1), reused 0 (delta 0)\r\n",
      "To ../bare_repo\r\n",
      " * [new branch]      master -> master\r\n"
     ]
    }
   ],
   "source": [
    "git push new_bare master"
   ]
  },
  {
   "cell_type": "markdown",
   "metadata": {},
   "source": [
    "Add ``bare_repo`` as a remote in the cloned repo:"
   ]
  },
  {
   "cell_type": "code",
   "execution_count": 46,
   "metadata": {
    "collapsed": false,
    "slideshow": {
     "slide_type": "slide"
    }
   },
   "outputs": [
    {
     "name": "stdout",
     "output_type": "stream",
     "text": []
    }
   ],
   "source": [
    "cd ../cloned_repo/myrepo"
   ]
  },
  {
   "cell_type": "code",
   "execution_count": 47,
   "metadata": {
    "collapsed": false
   },
   "outputs": [
    {
     "name": "stdout",
     "output_type": "stream",
     "text": []
    }
   ],
   "source": [
    "git remote add new_bare ../../bare_repo"
   ]
  },
  {
   "cell_type": "markdown",
   "metadata": {},
   "source": [
    "Push the new changes we made in the clone to the bare repo:"
   ]
  },
  {
   "cell_type": "code",
   "execution_count": 48,
   "metadata": {
    "collapsed": false
   },
   "outputs": [
    {
     "name": "stdout",
     "output_type": "stream",
     "text": [
      "Counting objects: 3, done.\r\n",
      "Delta compression using up to 4 threads.\r\n",
      "Compressing objects:  50% (1/2)   \r",
      "Compressing objects: 100% (2/2)   \r",
      "Compressing objects: 100% (2/2), done.\r\n",
      "Writing objects:  33% (1/3)   \r",
      "Writing objects:  66% (2/3)   \r",
      "Writing objects: 100% (3/3)   \r",
      "Writing objects: 100% (3/3), 320 bytes | 0 bytes/s, done.\r\n",
      "Total 3 (delta 0), reused 0 (delta 0)\r\n",
      "To ../../bare_repo\r\n",
      "   18a3a33..b84d28d  master -> master\r\n"
     ]
    }
   ],
   "source": [
    "git push new_bare master"
   ]
  },
  {
   "cell_type": "markdown",
   "metadata": {},
   "source": [
    "Pull the changes from the clone to the original repo via the bare repo:"
   ]
  },
  {
   "cell_type": "code",
   "execution_count": 49,
   "metadata": {
    "collapsed": false,
    "slideshow": {
     "slide_type": "slide"
    }
   },
   "outputs": [
    {
     "name": "stdout",
     "output_type": "stream",
     "text": [
      "From ../bare_repo\r\n",
      " * branch            master     -> FETCH_HEAD\r\n",
      "   18a3a33..b84d28d  master     -> new_bare/master\r\n",
      "Updating 18a3a33..b84d28d\r\n",
      "Fast-forward\r\n",
      " myfile.txt | 1 \u001b[32m+\u001b[m\r\n",
      " 1 file changed, 1 insertion(+)\r\n"
     ]
    }
   ],
   "source": [
    "cd ../../myrepo\n",
    "git pull new_bare master"
   ]
  },
  {
   "cell_type": "code",
   "execution_count": 50,
   "metadata": {
    "collapsed": false
   },
   "outputs": [
    {
     "name": "stdout",
     "output_type": "stream",
     "text": [
      "\u001b[33mcommit b84d28dff6036a3f958752576dac5e9ea209598d\u001b[m\r\n",
      "Author: Andreas Mueller <amueller@nyu.edu>\r\n",
      "Date:   Tue Mar 29 11:32:55 2016 -0400\r\n",
      "\r\n",
      "    new line in cloned repo\r\n",
      "\r\n",
      "\u001b[33mcommit 18a3a33467da956c792681a283effcd7c72d1864\u001b[m\r\n",
      "Author: Andreas Mueller <amueller@nyu.edu>\r\n",
      "Date:   Tue Mar 29 11:32:54 2016 -0400\r\n",
      "\r\n",
      "    new commit in the original repo\r\n",
      "\r\n",
      "\u001b[33mcommit 59d540c6d105d3d9b11ec7f0b2e662fc73c43532\u001b[m\r\n",
      "Author: Andreas Mueller <amueller@nyu.edu>\r\n",
      "Date:   Tue Mar 29 11:32:49 2016 -0400\r\n",
      "\r\n",
      "    checked out myfile from first commit\r\n",
      "\r\n",
      "\u001b[33mcommit 344a292cc5a57060e0767f31aa020a16c8b5600a\u001b[m\r\n",
      "Author: Andreas Mueller <amueller@nyu.edu>\r\n",
      "Date:   Tue Mar 29 11:32:48 2016 -0400\r\n",
      "\r\n",
      "    I added a second line\r\n",
      "\r\n",
      "\u001b[33mcommit 7e4d6208c11e3daa867eff0a9d494e90a7510a1d\u001b[m\r\n",
      "Author: Andreas Mueller <amueller@nyu.edu>\r\n",
      "Date:   Tue Mar 29 11:32:47 2016 -0400\r\n",
      "\r\n",
      "    added a first line to my file\r\n"
     ]
    }
   ],
   "source": [
    "git log"
   ]
  },
  {
   "cell_type": "markdown",
   "metadata": {
    "slideshow": {
     "slide_type": "slide"
    }
   },
   "source": [
    "## Bare repos are like your own personal github! (kinda)"
   ]
  },
  {
   "cell_type": "markdown",
   "metadata": {
    "slideshow": {
     "slide_type": "slide"
    }
   },
   "source": [
    "# Exercise\n",
    "- Create a new bare repo and push to it form your original repository.\n",
    "- ``clone`` the bare repo.\n",
    "- change the clone and push to the bare repo.\n",
    "- Go to your original repository and pull from the bare repo."
   ]
  },
  {
   "cell_type": "markdown",
   "metadata": {
    "slideshow": {
     "slide_type": "slide"
    }
   },
   "source": [
    "# Undoing your mistakes sneak preview\n",
    "\n",
    "![xkcd](git_xkcd.png)"
   ]
  },
  {
   "cell_type": "markdown",
   "metadata": {},
   "source": [
    "Remove all files:"
   ]
  },
  {
   "cell_type": "code",
   "execution_count": 51,
   "metadata": {
    "collapsed": false
   },
   "outputs": [
    {
     "name": "stdout",
     "output_type": "stream",
     "text": []
    }
   ],
   "source": [
    "rm *\n",
    "ls"
   ]
  },
  {
   "cell_type": "markdown",
   "metadata": {},
   "source": [
    "Get them back!\n",
    "\n",
    "From the last commit:"
   ]
  },
  {
   "cell_type": "code",
   "execution_count": 52,
   "metadata": {
    "collapsed": false
   },
   "outputs": [
    {
     "name": "stdout",
     "output_type": "stream",
     "text": [
      "HEAD is now at b84d28d new line in cloned repo\r\n"
     ]
    }
   ],
   "source": [
    "git reset --hard"
   ]
  },
  {
   "cell_type": "markdown",
   "metadata": {},
   "source": [
    "From any commit or remote:"
   ]
  },
  {
   "cell_type": "code",
   "execution_count": 53,
   "metadata": {
    "collapsed": false
   },
   "outputs": [
    {
     "name": "stdout",
     "output_type": "stream",
     "text": [
      "HEAD is now at b84d28d new line in cloned repo\r\n"
     ]
    }
   ],
   "source": [
    "git reset --hard new_bare/master"
   ]
  },
  {
   "cell_type": "markdown",
   "metadata": {},
   "source": [
    "The last line rescues you after screwing up your local copy."
   ]
  },
  {
   "cell_type": "markdown",
   "metadata": {
    "slideshow": {
     "slide_type": "slide"
    }
   },
   "source": [
    "# Branches\n",
    "Allow parallel lines of development."
   ]
  },
  {
   "cell_type": "markdown",
   "metadata": {
    "slideshow": {
     "slide_type": "fragment"
    }
   },
   "source": [
    "Create new branches with ``git checkout -b``"
   ]
  },
  {
   "cell_type": "code",
   "execution_count": 54,
   "metadata": {
    "collapsed": false
   },
   "outputs": [
    {
     "name": "stdout",
     "output_type": "stream",
     "text": [
      "Switched to a new branch 'new_branch_with_descriptive_name'\r\n"
     ]
    }
   ],
   "source": [
    "git checkout -b new_branch_with_descriptive_name"
   ]
  },
  {
   "cell_type": "code",
   "execution_count": 55,
   "metadata": {
    "collapsed": false
   },
   "outputs": [
    {
     "name": "stdout",
     "output_type": "stream",
     "text": []
    }
   ],
   "source": [
    "echo \"new stuff that is reeeeaaally cool and maybe even works\" > myfile.txt"
   ]
  },
  {
   "cell_type": "code",
   "execution_count": 56,
   "metadata": {
    "collapsed": false
   },
   "outputs": [
    {
     "name": "stdout",
     "output_type": "stream",
     "text": [
      "[new_branch_with_descriptive_name 3a2169a] hurray, new stuff.\r\n",
      " 1 file changed, 1 insertion(+), 3 deletions(-)\r\n"
     ]
    }
   ],
   "source": [
    "git add myfile.txt\n",
    "git commit -m \"hurray, new stuff.\""
   ]
  },
  {
   "cell_type": "code",
   "execution_count": 57,
   "metadata": {
    "collapsed": false
   },
   "outputs": [
    {
     "name": "stdout",
     "output_type": "stream",
     "text": [
      "\u001b[33mcommit 3a2169aab7f3cf48b2926b35f19e03fbf5cfe3fb\u001b[m\r\n",
      "Author: Andreas Mueller <amueller@nyu.edu>\r\n",
      "Date:   Tue Mar 29 11:32:59 2016 -0400\r\n",
      "\r\n",
      "    hurray, new stuff.\r\n",
      "\r\n",
      "\u001b[33mcommit b84d28dff6036a3f958752576dac5e9ea209598d\u001b[m\r\n",
      "Author: Andreas Mueller <amueller@nyu.edu>\r\n",
      "Date:   Tue Mar 29 11:32:55 2016 -0400\r\n",
      "\r\n",
      "    new line in cloned repo\r\n",
      "\r\n",
      "\u001b[33mcommit 18a3a33467da956c792681a283effcd7c72d1864\u001b[m\r\n",
      "Author: Andreas Mueller <amueller@nyu.edu>\r\n",
      "Date:   Tue Mar 29 11:32:54 2016 -0400\r\n",
      "\r\n",
      "    new commit in the original repo\r\n",
      "\r\n",
      "\u001b[33mcommit 59d540c6d105d3d9b11ec7f0b2e662fc73c43532\u001b[m\r\n",
      "Author: Andreas Mueller <amueller@nyu.edu>\r\n",
      "Date:   Tue Mar 29 11:32:49 2016 -0400\r\n",
      "\r\n",
      "    checked out myfile from first commit\r\n",
      "\r\n",
      "\u001b[33mcommit 344a292cc5a57060e0767f31aa020a16c8b5600a\u001b[m\r\n",
      "Author: Andreas Mueller <amueller@nyu.edu>\r\n",
      "Date:   Tue Mar 29 11:32:48 2016 -0400\r\n",
      "\r\n",
      "    I added a second line\r\n",
      "\r\n",
      "\u001b[33mcommit 7e4d6208c11e3daa867eff0a9d494e90a7510a1d\u001b[m\r\n",
      "Author: Andreas Mueller <amueller@nyu.edu>\r\n",
      "Date:   Tue Mar 29 11:32:47 2016 -0400\r\n",
      "\r\n",
      "    added a first line to my file\r\n"
     ]
    }
   ],
   "source": [
    "git log"
   ]
  },
  {
   "cell_type": "markdown",
   "metadata": {},
   "source": [
    "# Where is the branch?"
   ]
  },
  {
   "cell_type": "code",
   "execution_count": 58,
   "metadata": {
    "collapsed": false,
    "scrolled": true,
    "slideshow": {
     "slide_type": "fragment"
    }
   },
   "outputs": [
    {
     "name": "stdout",
     "output_type": "stream",
     "text": [
      "* \u001b[33m3a2169a\u001b[m\u001b[33m (\u001b[m\u001b[1;36mHEAD\u001b[m\u001b[33m -> \u001b[m\u001b[1;32mnew_branch_with_descriptive_name\u001b[m\u001b[33m)\u001b[m hurray, new stuff.\r\n",
      "* \u001b[33mb84d28d\u001b[m\u001b[33m (\u001b[m\u001b[1;31mnew_bare/master\u001b[m\u001b[33m, \u001b[m\u001b[1;32mmaster\u001b[m\u001b[33m)\u001b[m new line in cloned repo\r\n",
      "* \u001b[33m18a3a33\u001b[m new commit in the original repo\r\n",
      "* \u001b[33m59d540c\u001b[m checked out myfile from first commit\r\n",
      "* \u001b[33m344a292\u001b[m I added a second line\r\n",
      "* \u001b[33m7e4d620\u001b[m added a first line to my file\r\n"
     ]
    }
   ],
   "source": [
    "git log --graph --decorate --all --oneline"
   ]
  },
  {
   "cell_type": "markdown",
   "metadata": {},
   "source": [
    "``master`` is at \"new line in cloned repo\", ``new_branch_with_descriptive_name`` is at \"hurray, new stuff\"\n",
    "\n",
    "``HEAD`` points to ``new_branch_with_descriptive_name``."
   ]
  },
  {
   "cell_type": "code",
   "execution_count": 59,
   "metadata": {
    "collapsed": false
   },
   "outputs": [
    {
     "name": "stdout",
     "output_type": "stream",
     "text": []
    }
   ],
   "source": [
    "alias nicelog=\"git log --graph --decorate --all --oneline\""
   ]
  },
  {
   "cell_type": "markdown",
   "metadata": {},
   "source": [
    "Move to another branch with ``git checkout``"
   ]
  },
  {
   "cell_type": "code",
   "execution_count": 60,
   "metadata": {
    "collapsed": false,
    "slideshow": {
     "slide_type": "fragment"
    }
   },
   "outputs": [
    {
     "name": "stdout",
     "output_type": "stream",
     "text": [
      "Switched to branch 'master'\r\n"
     ]
    }
   ],
   "source": [
    "git checkout master"
   ]
  },
  {
   "cell_type": "code",
   "execution_count": 61,
   "metadata": {
    "collapsed": false,
    "slideshow": {
     "slide_type": "fragment"
    }
   },
   "outputs": [
    {
     "name": "stdout",
     "output_type": "stream",
     "text": [
      "* \u001b[33m3a2169a\u001b[m\u001b[33m (\u001b[m\u001b[1;32mnew_branch_with_descriptive_name\u001b[m\u001b[33m)\u001b[m hurray, new stuff.\r\n",
      "* \u001b[33mb84d28d\u001b[m\u001b[33m (\u001b[m\u001b[1;36mHEAD\u001b[m\u001b[33m -> \u001b[m\u001b[1;32mmaster\u001b[m\u001b[33m, \u001b[m\u001b[1;31mnew_bare/master\u001b[m\u001b[33m)\u001b[m new line in cloned repo\r\n",
      "* \u001b[33m18a3a33\u001b[m new commit in the original repo\r\n",
      "* \u001b[33m59d540c\u001b[m checked out myfile from first commit\r\n",
      "* \u001b[33m344a292\u001b[m I added a second line\r\n",
      "* \u001b[33m7e4d620\u001b[m added a first line to my file\r\n"
     ]
    }
   ],
   "source": [
    "git log --graph --decorate --all --oneline"
   ]
  },
  {
   "cell_type": "markdown",
   "metadata": {
    "slideshow": {
     "slide_type": "-"
    }
   },
   "source": [
    "``HEAD`` points at ``master``."
   ]
  },
  {
   "cell_type": "markdown",
   "metadata": {
    "slideshow": {
     "slide_type": "fragment"
    }
   },
   "source": [
    "The content of ``myfile.txt`` is the one at \"new line in cloned repo\", not \"hurray, new stuff\":"
   ]
  },
  {
   "cell_type": "code",
   "execution_count": 62,
   "metadata": {
    "collapsed": false
   },
   "outputs": [
    {
     "name": "stdout",
     "output_type": "stream",
     "text": [
      "fist line in file myfile\r\n",
      "another line commited to the original repo\r\n",
      "new line in cloned repo\r\n"
     ]
    }
   ],
   "source": [
    "cat myfile.txt"
   ]
  },
  {
   "cell_type": "markdown",
   "metadata": {
    "slideshow": {
     "slide_type": "fragment"
    }
   },
   "source": [
    "We add another commit to ``master``:"
   ]
  },
  {
   "cell_type": "code",
   "execution_count": 63,
   "metadata": {
    "collapsed": false,
    "slideshow": {
     "slide_type": "-"
    }
   },
   "outputs": [
    {
     "name": "stdout",
     "output_type": "stream",
     "text": [
      "[master 35e6fa4] working on another file on the master\r\n",
      " 1 file changed, 1 insertion(+)\r\n",
      " create mode 100644 another_file.txt\r\n"
     ]
    }
   ],
   "source": [
    "echo \"add to the old stuff \" >> another_file.txt\n",
    "git add another_file.txt\n",
    "git commit -m \"working on another file on the master\""
   ]
  },
  {
   "cell_type": "markdown",
   "metadata": {
    "slideshow": {
     "slide_type": "fragment"
    }
   },
   "source": [
    "An now we see why it's called branch!"
   ]
  },
  {
   "cell_type": "code",
   "execution_count": 64,
   "metadata": {
    "collapsed": false,
    "slideshow": {
     "slide_type": "-"
    }
   },
   "outputs": [
    {
     "name": "stdout",
     "output_type": "stream",
     "text": [
      "* \u001b[33m35e6fa4\u001b[m\u001b[33m (\u001b[m\u001b[1;36mHEAD\u001b[m\u001b[33m -> \u001b[m\u001b[1;32mmaster\u001b[m\u001b[33m)\u001b[m working on another file on the master\r\n",
      "\u001b[31m|\u001b[m * \u001b[33m3a2169a\u001b[m\u001b[33m (\u001b[m\u001b[1;32mnew_branch_with_descriptive_name\u001b[m\u001b[33m)\u001b[m hurray, new stuff.\r\n",
      "\u001b[31m|\u001b[m\u001b[31m/\u001b[m  \r\n",
      "* \u001b[33mb84d28d\u001b[m\u001b[33m (\u001b[m\u001b[1;31mnew_bare/master\u001b[m\u001b[33m)\u001b[m new line in cloned repo\r\n",
      "* \u001b[33m18a3a33\u001b[m new commit in the original repo\r\n",
      "* \u001b[33m59d540c\u001b[m checked out myfile from first commit\r\n",
      "* \u001b[33m344a292\u001b[m I added a second line\r\n",
      "* \u001b[33m7e4d620\u001b[m added a first line to my file\r\n"
     ]
    }
   ],
   "source": [
    "git log --graph --decorate --all --oneline"
   ]
  },
  {
   "cell_type": "code",
   "execution_count": 65,
   "metadata": {
    "collapsed": false,
    "slideshow": {
     "slide_type": "slide"
    }
   },
   "outputs": [
    {
     "name": "stdout",
     "output_type": "stream",
     "text": [
      "another_file.txt  myfile.txt\r\n"
     ]
    }
   ],
   "source": [
    "ls"
   ]
  },
  {
   "cell_type": "markdown",
   "metadata": {
    "slideshow": {
     "slide_type": "fragment"
    }
   },
   "source": [
    "Check out the \"new_branch\" again:"
   ]
  },
  {
   "cell_type": "code",
   "execution_count": 67,
   "metadata": {
    "collapsed": false
   },
   "outputs": [
    {
     "name": "stdout",
     "output_type": "stream",
     "text": [
      "Switched to branch 'new_branch_with_descriptive_name'\r\n"
     ]
    }
   ],
   "source": [
    "git checkout new_branch_with_descriptive_name"
   ]
  },
  {
   "cell_type": "markdown",
   "metadata": {
    "slideshow": {
     "slide_type": "fragment"
    }
   },
   "source": [
    "``another_file.txt`` has disappeared:"
   ]
  },
  {
   "cell_type": "code",
   "execution_count": 68,
   "metadata": {
    "collapsed": false
   },
   "outputs": [
    {
     "name": "stdout",
     "output_type": "stream",
     "text": [
      "myfile.txt\r\n"
     ]
    }
   ],
   "source": [
    "ls"
   ]
  },
  {
   "cell_type": "markdown",
   "metadata": {
    "slideshow": {
     "slide_type": "slide"
    }
   },
   "source": [
    "# Merging Branches\n",
    "Or reuniting the lines of development."
   ]
  },
  {
   "cell_type": "code",
   "execution_count": 69,
   "metadata": {
    "collapsed": false
   },
   "outputs": [
    {
     "name": "stdout",
     "output_type": "stream",
     "text": [
      "Switched to branch 'master'\r\n"
     ]
    }
   ],
   "source": [
    "git checkout master"
   ]
  },
  {
   "cell_type": "markdown",
   "metadata": {
    "slideshow": {
     "slide_type": "fragment"
    }
   },
   "source": [
    "Merge branches with ``git merge``. Provide a message with ``-m``."
   ]
  },
  {
   "cell_type": "code",
   "execution_count": 70,
   "metadata": {
    "collapsed": false
   },
   "outputs": [
    {
     "name": "stdout",
     "output_type": "stream",
     "text": [
      "Merge made by the 'recursive' strategy.\r\n",
      " myfile.txt | 4 \u001b[32m+\u001b[m\u001b[31m---\u001b[m\r\n",
      " 1 file changed, 1 insertion(+), 3 deletions(-)\r\n"
     ]
    }
   ],
   "source": [
    "git merge new_branch_with_descriptive_name -m \"merge descriptive branch with cool feature\""
   ]
  },
  {
   "cell_type": "markdown",
   "metadata": {
    "slideshow": {
     "slide_type": "fragment"
    }
   },
   "source": [
    "``git merge --abort`` is your friend if there are many conflicts and you start to panic."
   ]
  },
  {
   "cell_type": "markdown",
   "metadata": {
    "slideshow": {
     "slide_type": "slide"
    }
   },
   "source": [
    "After a successful merge, all is clean:"
   ]
  },
  {
   "cell_type": "code",
   "execution_count": 71,
   "metadata": {
    "collapsed": false
   },
   "outputs": [
    {
     "name": "stdout",
     "output_type": "stream",
     "text": [
      "On branch master\r\n",
      "Untracked files:\r\n",
      "  (use \"git add <file>...\" to include in what will be committed)\r\n",
      "\r\n",
      "\t\u001b[31m.gitignore\u001b[m\r\n",
      "\r\n",
      "nothing added to commit but untracked files present (use \"git add\" to track)\r\n"
     ]
    }
   ],
   "source": [
    "git status"
   ]
  },
  {
   "cell_type": "markdown",
   "metadata": {
    "slideshow": {
     "slide_type": "fragment"
    }
   },
   "source": [
    "Changes from both branches are there:"
   ]
  },
  {
   "cell_type": "code",
   "execution_count": 72,
   "metadata": {
    "collapsed": false
   },
   "outputs": [
    {
     "name": "stdout",
     "output_type": "stream",
     "text": [
      "new stuff that is reeeeaaally cool and maybe even works\r\n"
     ]
    }
   ],
   "source": [
    "cat myfile.txt"
   ]
  },
  {
   "cell_type": "code",
   "execution_count": 73,
   "metadata": {
    "collapsed": false
   },
   "outputs": [
    {
     "name": "stdout",
     "output_type": "stream",
     "text": [
      "*   \u001b[33m266bd72\u001b[m\u001b[33m (\u001b[m\u001b[1;36mHEAD\u001b[m\u001b[33m -> \u001b[m\u001b[1;32mmaster\u001b[m\u001b[33m)\u001b[m merge descriptive branch with cool feature\r\n",
      "\u001b[31m|\u001b[m\u001b[32m\\\u001b[m  \r\n",
      "\u001b[31m|\u001b[m * \u001b[33m3a2169a\u001b[m\u001b[33m (\u001b[m\u001b[1;32mnew_branch_with_descriptive_name\u001b[m\u001b[33m)\u001b[m hurray, new stuff.\r\n",
      "* \u001b[32m|\u001b[m \u001b[33m35e6fa4\u001b[m working on another file on the master\r\n",
      "\u001b[32m|\u001b[m\u001b[32m/\u001b[m  \r\n",
      "* \u001b[33mb84d28d\u001b[m\u001b[33m (\u001b[m\u001b[1;31mnew_bare/master\u001b[m\u001b[33m)\u001b[m new line in cloned repo\r\n",
      "* \u001b[33m18a3a33\u001b[m new commit in the original repo\r\n",
      "* \u001b[33m59d540c\u001b[m checked out myfile from first commit\r\n",
      "* \u001b[33m344a292\u001b[m I added a second line\r\n",
      "* \u001b[33m7e4d620\u001b[m added a first line to my file\r\n"
     ]
    }
   ],
   "source": [
    "git log --graph --decorate --all --oneline"
   ]
  },
  {
   "cell_type": "markdown",
   "metadata": {
    "slideshow": {
     "slide_type": "slide"
    }
   },
   "source": [
    "# Creating branches starting at commits"
   ]
  },
  {
   "cell_type": "code",
   "execution_count": 74,
   "metadata": {
    "collapsed": false
   },
   "outputs": [
    {
     "name": "stdout",
     "output_type": "stream",
     "text": [
      "Switched to a new branch 'branch_started_further_back'\r\n"
     ]
    }
   ],
   "source": [
    "git checkout -b branch_started_further_back HEAD~3 "
   ]
  },
  {
   "cell_type": "code",
   "execution_count": 75,
   "metadata": {
    "collapsed": false
   },
   "outputs": [
    {
     "name": "stdout",
     "output_type": "stream",
     "text": [
      "*   \u001b[33m266bd72\u001b[m\u001b[33m (\u001b[m\u001b[1;32mmaster\u001b[m\u001b[33m)\u001b[m merge descriptive branch with cool feature\r\n",
      "\u001b[31m|\u001b[m\u001b[32m\\\u001b[m  \r\n",
      "\u001b[31m|\u001b[m * \u001b[33m3a2169a\u001b[m\u001b[33m (\u001b[m\u001b[1;32mnew_branch_with_descriptive_name\u001b[m\u001b[33m)\u001b[m hurray, new stuff.\r\n",
      "* \u001b[32m|\u001b[m \u001b[33m35e6fa4\u001b[m working on another file on the master\r\n",
      "\u001b[32m|\u001b[m\u001b[32m/\u001b[m  \r\n",
      "* \u001b[33mb84d28d\u001b[m\u001b[33m (\u001b[m\u001b[1;31mnew_bare/master\u001b[m\u001b[33m)\u001b[m new line in cloned repo\r\n",
      "* \u001b[33m18a3a33\u001b[m\u001b[33m (\u001b[m\u001b[1;36mHEAD\u001b[m\u001b[33m -> \u001b[m\u001b[1;32mbranch_started_further_back\u001b[m\u001b[33m)\u001b[m new commit in the original repo\r\n",
      "* \u001b[33m59d540c\u001b[m checked out myfile from first commit\r\n",
      "* \u001b[33m344a292\u001b[m I added a second line\r\n",
      "* \u001b[33m7e4d620\u001b[m added a first line to my file\r\n"
     ]
    }
   ],
   "source": [
    "git log --graph --decorate --all --oneline"
   ]
  },
  {
   "cell_type": "markdown",
   "metadata": {
    "slideshow": {
     "slide_type": "slide"
    }
   },
   "source": [
    "# Deleting branches"
   ]
  },
  {
   "cell_type": "code",
   "execution_count": 76,
   "metadata": {
    "collapsed": false
   },
   "outputs": [
    {
     "name": "stdout",
     "output_type": "stream",
     "text": [
      "Switched to a new branch 'another_new_branch'\r\n"
     ]
    }
   ],
   "source": [
    "git checkout -b another_new_branch"
   ]
  },
  {
   "cell_type": "code",
   "execution_count": 77,
   "metadata": {
    "collapsed": false
   },
   "outputs": [
    {
     "name": "stdout",
     "output_type": "stream",
     "text": [
      "*   \u001b[33m266bd72\u001b[m\u001b[33m (\u001b[m\u001b[1;32mmaster\u001b[m\u001b[33m)\u001b[m merge descriptive branch with cool feature\r\n",
      "\u001b[31m|\u001b[m\u001b[32m\\\u001b[m  \r\n",
      "\u001b[31m|\u001b[m * \u001b[33m3a2169a\u001b[m\u001b[33m (\u001b[m\u001b[1;32mnew_branch_with_descriptive_name\u001b[m\u001b[33m)\u001b[m hurray, new stuff.\r\n",
      "* \u001b[32m|\u001b[m \u001b[33m35e6fa4\u001b[m working on another file on the master\r\n",
      "\u001b[32m|\u001b[m\u001b[32m/\u001b[m  \r\n",
      "* \u001b[33mb84d28d\u001b[m\u001b[33m (\u001b[m\u001b[1;31mnew_bare/master\u001b[m\u001b[33m)\u001b[m new line in cloned repo\r\n",
      "* \u001b[33m18a3a33\u001b[m\u001b[33m (\u001b[m\u001b[1;36mHEAD\u001b[m\u001b[33m -> \u001b[m\u001b[1;32manother_new_branch\u001b[m\u001b[33m, \u001b[m\u001b[1;32mbranch_started_further_back\u001b[m\u001b[33m)\u001b[m new commit in the original repo\r\n",
      "* \u001b[33m59d540c\u001b[m checked out myfile from first commit\r\n",
      "* \u001b[33m344a292\u001b[m I added a second line\r\n",
      "* \u001b[33m7e4d620\u001b[m added a first line to my file\r\n"
     ]
    }
   ],
   "source": [
    "git log --graph --decorate --all --oneline"
   ]
  },
  {
   "cell_type": "markdown",
   "metadata": {
    "slideshow": {
     "slide_type": "fragment"
    }
   },
   "source": [
    "We can't delete the branch we're on so we go back to master:"
   ]
  },
  {
   "cell_type": "code",
   "execution_count": 80,
   "metadata": {
    "collapsed": false,
    "slideshow": {
     "slide_type": "-"
    }
   },
   "outputs": [
    {
     "name": "stdout",
     "output_type": "stream",
     "text": [
      "Already on 'master'\r\n"
     ]
    }
   ],
   "source": [
    "git checkout master"
   ]
  },
  {
   "cell_type": "code",
   "execution_count": 81,
   "metadata": {
    "collapsed": false,
    "slideshow": {
     "slide_type": "-"
    }
   },
   "outputs": [
    {
     "name": "stdout",
     "output_type": "stream",
     "text": [
      "Deleted branch another_new_branch (was 18a3a33).\r\n"
     ]
    }
   ],
   "source": [
    "git branch -D another_new_branch"
   ]
  },
  {
   "cell_type": "markdown",
   "metadata": {
    "slideshow": {
     "slide_type": "slide"
    }
   },
   "source": [
    "# Concept Review\n",
    "\n",
    "## DAG (directed acyclic graph) of commits = branches\n",
    "\n",
    "## Index vs staging area vs working tree\n",
    "\n",
    "## HEAD\n",
    "\n",
    "## Remotes\n",
    "\n",
    "So far we have:\n",
    "- Added commits to the DAG (``git commit``), branched (``git checkout -b``) and merged branches (``git merge``).\n",
    "- Moved the HEAD from branch to branch (``git checkout``)\n",
    "- Moved HEAD to a commit and started a branch there (``git checkout -b <branchname> <commit>``)\n",
    "- Pushed and pulled from Remotes (that kind of work like branches)\n",
    "\n",
    "Most commands impact the DAG, and some of the Index, staging area and working tree."
   ]
  },
  {
   "cell_type": "markdown",
   "metadata": {
    "slideshow": {
     "slide_type": "slide"
    }
   },
   "source": [
    "- The index stores **commits**.\n",
    "- The staging area stores a **diff** (lines added and removed).\n",
    "- The working tree stores **files**."
   ]
  },
  {
   "cell_type": "markdown",
   "metadata": {
    "slideshow": {
     "slide_type": "slide"
    }
   },
   "source": [
    "# Undoing your mistakes\n",
    "``git revert`` and ``git reset``"
   ]
  },
  {
   "cell_type": "code",
   "execution_count": 82,
   "metadata": {
    "collapsed": false
   },
   "outputs": [
    {
     "name": "stdout",
     "output_type": "stream",
     "text": [
      "Already on 'master'\r\n",
      "*   \u001b[33m266bd72\u001b[m\u001b[33m (\u001b[m\u001b[1;36mHEAD\u001b[m\u001b[33m -> \u001b[m\u001b[1;32mmaster\u001b[m\u001b[33m)\u001b[m merge descriptive branch with cool feature\r\n",
      "\u001b[31m|\u001b[m\u001b[32m\\\u001b[m  \r\n",
      "\u001b[31m|\u001b[m * \u001b[33m3a2169a\u001b[m\u001b[33m (\u001b[m\u001b[1;32mnew_branch_with_descriptive_name\u001b[m\u001b[33m)\u001b[m hurray, new stuff.\r\n",
      "* \u001b[32m|\u001b[m \u001b[33m35e6fa4\u001b[m working on another file on the master\r\n",
      "\u001b[32m|\u001b[m\u001b[32m/\u001b[m  \r\n",
      "* \u001b[33mb84d28d\u001b[m\u001b[33m (\u001b[m\u001b[1;31mnew_bare/master\u001b[m\u001b[33m)\u001b[m new line in cloned repo\r\n",
      "* \u001b[33m18a3a33\u001b[m\u001b[33m (\u001b[m\u001b[1;32mbranch_started_further_back\u001b[m\u001b[33m)\u001b[m new commit in the original repo\r\n",
      "* \u001b[33m59d540c\u001b[m checked out myfile from first commit\r\n",
      "* \u001b[33m344a292\u001b[m I added a second line\r\n",
      "* \u001b[33m7e4d620\u001b[m added a first line to my file\r\n"
     ]
    }
   ],
   "source": [
    "git checkout master\n",
    "git log --graph --decorate --all --oneline"
   ]
  },
  {
   "cell_type": "code",
   "execution_count": 83,
   "metadata": {
    "collapsed": false
   },
   "outputs": [
    {
     "name": "stdout",
     "output_type": "stream",
     "text": [
      "another_file.txt  myfile.txt\r\n"
     ]
    }
   ],
   "source": [
    "ls"
   ]
  },
  {
   "cell_type": "code",
   "execution_count": 84,
   "metadata": {
    "collapsed": false
   },
   "outputs": [
    {
     "name": "stdout",
     "output_type": "stream",
     "text": [
      "[master 64c8100] Revert \"working on another file on the master\"\r\n",
      " 1 file changed, 1 deletion(-)\r\n",
      " delete mode 100644 another_file.txt\r\n"
     ]
    }
   ],
   "source": [
    "git revert HEAD~1 --no-edit"
   ]
  },
  {
   "cell_type": "code",
   "execution_count": 85,
   "metadata": {
    "collapsed": false
   },
   "outputs": [
    {
     "name": "stdout",
     "output_type": "stream",
     "text": [
      "* \u001b[33m64c8100\u001b[m\u001b[33m (\u001b[m\u001b[1;36mHEAD\u001b[m\u001b[33m -> \u001b[m\u001b[1;32mmaster\u001b[m\u001b[33m)\u001b[m Revert \"working on another file on the master\"\r\n",
      "*   \u001b[33m266bd72\u001b[m merge descriptive branch with cool feature\r\n",
      "\u001b[32m|\u001b[m\u001b[33m\\\u001b[m  \r\n",
      "\u001b[32m|\u001b[m * \u001b[33m3a2169a\u001b[m\u001b[33m (\u001b[m\u001b[1;32mnew_branch_with_descriptive_name\u001b[m\u001b[33m)\u001b[m hurray, new stuff.\r\n",
      "* \u001b[33m|\u001b[m \u001b[33m35e6fa4\u001b[m working on another file on the master\r\n",
      "\u001b[33m|\u001b[m\u001b[33m/\u001b[m  \r\n",
      "* \u001b[33mb84d28d\u001b[m\u001b[33m (\u001b[m\u001b[1;31mnew_bare/master\u001b[m\u001b[33m)\u001b[m new line in cloned repo\r\n",
      "* \u001b[33m18a3a33\u001b[m\u001b[33m (\u001b[m\u001b[1;32mbranch_started_further_back\u001b[m\u001b[33m)\u001b[m new commit in the original repo\r\n",
      "* \u001b[33m59d540c\u001b[m checked out myfile from first commit\r\n",
      "* \u001b[33m344a292\u001b[m I added a second line\r\n",
      "* \u001b[33m7e4d620\u001b[m added a first line to my file\r\n"
     ]
    }
   ],
   "source": [
    "git log --graph --decorate --all --oneline"
   ]
  },
  {
   "cell_type": "code",
   "execution_count": 86,
   "metadata": {
    "collapsed": false
   },
   "outputs": [
    {
     "name": "stdout",
     "output_type": "stream",
     "text": [
      "myfile.txt\r\n"
     ]
    }
   ],
   "source": [
    "ls"
   ]
  },
  {
   "cell_type": "markdown",
   "metadata": {
    "slideshow": {
     "slide_type": "slide"
    }
   },
   "source": [
    "# ``git reset``\n",
    "- hard: working dir & move HEAD\n",
    "- mixed (default): only move HEAD\n",
    "\n",
    "Moving head when on a branch (not headless) also moves where the branch is pointing!"
   ]
  },
  {
   "cell_type": "code",
   "execution_count": 87,
   "metadata": {
    "collapsed": false
   },
   "outputs": [
    {
     "name": "stdout",
     "output_type": "stream",
     "text": [
      "Unstaged changes after reset:\r\n",
      "M\tmyfile.txt\r\n"
     ]
    }
   ],
   "source": [
    "git reset branch_started_further_back"
   ]
  },
  {
   "cell_type": "code",
   "execution_count": 88,
   "metadata": {
    "collapsed": false
   },
   "outputs": [
    {
     "name": "stdout",
     "output_type": "stream",
     "text": [
      "* \u001b[33m3a2169a\u001b[m\u001b[33m (\u001b[m\u001b[1;32mnew_branch_with_descriptive_name\u001b[m\u001b[33m)\u001b[m hurray, new stuff.\r\n",
      "* \u001b[33mb84d28d\u001b[m\u001b[33m (\u001b[m\u001b[1;31mnew_bare/master\u001b[m\u001b[33m)\u001b[m new line in cloned repo\r\n",
      "* \u001b[33m18a3a33\u001b[m\u001b[33m (\u001b[m\u001b[1;36mHEAD\u001b[m\u001b[33m -> \u001b[m\u001b[1;32mmaster\u001b[m\u001b[33m, \u001b[m\u001b[1;32mbranch_started_further_back\u001b[m\u001b[33m)\u001b[m new commit in the original repo\r\n",
      "* \u001b[33m59d540c\u001b[m checked out myfile from first commit\r\n",
      "* \u001b[33m344a292\u001b[m I added a second line\r\n",
      "* \u001b[33m7e4d620\u001b[m added a first line to my file\r\n"
     ]
    }
   ],
   "source": [
    "git log --graph --decorate --all --oneline"
   ]
  },
  {
   "cell_type": "code",
   "execution_count": 89,
   "metadata": {
    "collapsed": false
   },
   "outputs": [
    {
     "name": "stdout",
     "output_type": "stream",
     "text": [
      "On branch master\r\n",
      "Changes not staged for commit:\r\n",
      "  (use \"git add <file>...\" to update what will be committed)\r\n",
      "  (use \"git checkout -- <file>...\" to discard changes in working directory)\r\n",
      "\r\n",
      "\t\u001b[31mmodified:   myfile.txt\u001b[m\r\n",
      "\r\n",
      "Untracked files:\r\n",
      "  (use \"git add <file>...\" to include in what will be committed)\r\n",
      "\r\n",
      "\t\u001b[31m.gitignore\u001b[m\r\n",
      "\r\n",
      "no changes added to commit (use \"git add\" and/or \"git commit -a\")\r\n"
     ]
    }
   ],
   "source": [
    "git status"
   ]
  },
  {
   "cell_type": "code",
   "execution_count": 90,
   "metadata": {
    "collapsed": false
   },
   "outputs": [
    {
     "name": "stdout",
     "output_type": "stream",
     "text": [
      "new stuff that is reeeeaaally cool and maybe even works\r\n"
     ]
    }
   ],
   "source": [
    "cat myfile.txt"
   ]
  },
  {
   "cell_type": "code",
   "execution_count": 91,
   "metadata": {
    "collapsed": false
   },
   "outputs": [
    {
     "name": "stdout",
     "output_type": "stream",
     "text": [
      "[master 00cf774] new stuff from the feature branch that I did stuff with\r\n",
      " 1 file changed, 1 insertion(+), 2 deletions(-)\r\n"
     ]
    }
   ],
   "source": [
    "git add myfile.txt\n",
    "git commit -m \"new stuff from the feature branch that I did stuff with\""
   ]
  },
  {
   "cell_type": "code",
   "execution_count": 92,
   "metadata": {
    "collapsed": false
   },
   "outputs": [
    {
     "name": "stdout",
     "output_type": "stream",
     "text": [
      "* \u001b[33m00cf774\u001b[m\u001b[33m (\u001b[m\u001b[1;36mHEAD\u001b[m\u001b[33m -> \u001b[m\u001b[1;32mmaster\u001b[m\u001b[33m)\u001b[m new stuff from the feature branch that I did stuff with\r\n",
      "\u001b[31m|\u001b[m * \u001b[33m3a2169a\u001b[m\u001b[33m (\u001b[m\u001b[1;32mnew_branch_with_descriptive_name\u001b[m\u001b[33m)\u001b[m hurray, new stuff.\r\n",
      "\u001b[31m|\u001b[m * \u001b[33mb84d28d\u001b[m\u001b[33m (\u001b[m\u001b[1;31mnew_bare/master\u001b[m\u001b[33m)\u001b[m new line in cloned repo\r\n",
      "\u001b[31m|\u001b[m\u001b[31m/\u001b[m  \r\n",
      "* \u001b[33m18a3a33\u001b[m\u001b[33m (\u001b[m\u001b[1;32mbranch_started_further_back\u001b[m\u001b[33m)\u001b[m new commit in the original repo\r\n",
      "* \u001b[33m59d540c\u001b[m checked out myfile from first commit\r\n",
      "* \u001b[33m344a292\u001b[m I added a second line\r\n",
      "* \u001b[33m7e4d620\u001b[m added a first line to my file\r\n"
     ]
    }
   ],
   "source": [
    "git log --graph --decorate --all --oneline"
   ]
  },
  {
   "cell_type": "markdown",
   "metadata": {
    "slideshow": {
     "slide_type": "slide"
    }
   },
   "source": [
    "``--hard`` fixes (aka destroys) everything!"
   ]
  },
  {
   "cell_type": "code",
   "execution_count": 93,
   "metadata": {
    "collapsed": false
   },
   "outputs": [
    {
     "name": "stdout",
     "output_type": "stream",
     "text": [
      "Switched to a new branch 'branch_well_move_back'\r\n"
     ]
    }
   ],
   "source": [
    "git checkout -b branch_well_move_back"
   ]
  },
  {
   "cell_type": "code",
   "execution_count": 94,
   "metadata": {
    "collapsed": false
   },
   "outputs": [
    {
     "name": "stdout",
     "output_type": "stream",
     "text": [
      "* \u001b[33m00cf774\u001b[m\u001b[33m (\u001b[m\u001b[1;36mHEAD\u001b[m\u001b[33m -> \u001b[m\u001b[1;32mbranch_well_move_back\u001b[m\u001b[33m, \u001b[m\u001b[1;32mmaster\u001b[m\u001b[33m)\u001b[m new stuff from the feature branch that I did stuff with\r\n",
      "\u001b[31m|\u001b[m * \u001b[33m3a2169a\u001b[m\u001b[33m (\u001b[m\u001b[1;32mnew_branch_with_descriptive_name\u001b[m\u001b[33m)\u001b[m hurray, new stuff.\r\n",
      "\u001b[31m|\u001b[m * \u001b[33mb84d28d\u001b[m\u001b[33m (\u001b[m\u001b[1;31mnew_bare/master\u001b[m\u001b[33m)\u001b[m new line in cloned repo\r\n",
      "\u001b[31m|\u001b[m\u001b[31m/\u001b[m  \r\n",
      "* \u001b[33m18a3a33\u001b[m\u001b[33m (\u001b[m\u001b[1;32mbranch_started_further_back\u001b[m\u001b[33m)\u001b[m new commit in the original repo\r\n",
      "* \u001b[33m59d540c\u001b[m checked out myfile from first commit\r\n",
      "* \u001b[33m344a292\u001b[m I added a second line\r\n",
      "* \u001b[33m7e4d620\u001b[m added a first line to my file\r\n"
     ]
    }
   ],
   "source": [
    "git log --graph --decorate --all --oneline"
   ]
  },
  {
   "cell_type": "code",
   "execution_count": 95,
   "metadata": {
    "collapsed": false
   },
   "outputs": [
    {
     "name": "stdout",
     "output_type": "stream",
     "text": [
      "HEAD is now at 344a292 I added a second line\r\n"
     ]
    }
   ],
   "source": [
    "git reset --hard HEAD~3"
   ]
  },
  {
   "cell_type": "code",
   "execution_count": 96,
   "metadata": {
    "collapsed": false
   },
   "outputs": [
    {
     "name": "stdout",
     "output_type": "stream",
     "text": [
      "On branch branch_well_move_back\r\n",
      "Untracked files:\r\n",
      "  (use \"git add <file>...\" to include in what will be committed)\r\n",
      "\r\n",
      "\t\u001b[31m.gitignore\u001b[m\r\n",
      "\r\n",
      "nothing added to commit but untracked files present (use \"git add\" to track)\r\n"
     ]
    }
   ],
   "source": [
    "git status"
   ]
  },
  {
   "cell_type": "code",
   "execution_count": 97,
   "metadata": {
    "collapsed": false
   },
   "outputs": [
    {
     "name": "stdout",
     "output_type": "stream",
     "text": [
      "* \u001b[33m00cf774\u001b[m\u001b[33m (\u001b[m\u001b[1;32mmaster\u001b[m\u001b[33m)\u001b[m new stuff from the feature branch that I did stuff with\r\n",
      "\u001b[31m|\u001b[m * \u001b[33m3a2169a\u001b[m\u001b[33m (\u001b[m\u001b[1;32mnew_branch_with_descriptive_name\u001b[m\u001b[33m)\u001b[m hurray, new stuff.\r\n",
      "\u001b[31m|\u001b[m * \u001b[33mb84d28d\u001b[m\u001b[33m (\u001b[m\u001b[1;31mnew_bare/master\u001b[m\u001b[33m)\u001b[m new line in cloned repo\r\n",
      "\u001b[31m|\u001b[m\u001b[31m/\u001b[m  \r\n",
      "* \u001b[33m18a3a33\u001b[m\u001b[33m (\u001b[m\u001b[1;32mbranch_started_further_back\u001b[m\u001b[33m)\u001b[m new commit in the original repo\r\n",
      "* \u001b[33m59d540c\u001b[m checked out myfile from first commit\r\n",
      "* \u001b[33m344a292\u001b[m\u001b[33m (\u001b[m\u001b[1;36mHEAD\u001b[m\u001b[33m -> \u001b[m\u001b[1;32mbranch_well_move_back\u001b[m\u001b[33m)\u001b[m I added a second line\r\n",
      "* \u001b[33m7e4d620\u001b[m added a first line to my file\r\n"
     ]
    }
   ],
   "source": [
    "git log --graph --decorate --all --oneline"
   ]
  },
  {
   "cell_type": "markdown",
   "metadata": {
    "collapsed": true,
    "slideshow": {
     "slide_type": "slide"
    }
   },
   "source": [
    "# ``git rebase``\n",
    "## or: how to really shoot yourself in the foot even more!\n"
   ]
  },
  {
   "cell_type": "markdown",
   "metadata": {},
   "source": [
    "rebase **only works on the DAG** (and moves HEAD)"
   ]
  },
  {
   "cell_type": "markdown",
   "metadata": {},
   "source": [
    "rebase basically **does every possible thing with the DAG**\n",
    "\n",
    "changing the tree means changing hashes!"
   ]
  },
  {
   "cell_type": "markdown",
   "metadata": {
    "slideshow": {
     "slide_type": "slide"
    }
   },
   "source": [
    "\"simple\" form:\n",
    "```\n",
    "git rebase basebranch otherbranch\n",
    "```\n",
    "equivalently\n",
    "```\n",
    "git checkout otherbranch\n",
    "git rebase basebranch\n",
    "```\n",
    "Put everything in otherbranch that is not in basebranch on top of otherbranch.\n",
    "(compute common root, cut of there)"
   ]
  },
  {
   "cell_type": "code",
   "execution_count": 98,
   "metadata": {
    "collapsed": false
   },
   "outputs": [
    {
     "name": "stdout",
     "output_type": "stream",
     "text": [
      "* \u001b[33m00cf774\u001b[m\u001b[33m (\u001b[m\u001b[1;32mmaster\u001b[m\u001b[33m)\u001b[m new stuff from the feature branch that I did stuff with\r\n",
      "\u001b[31m|\u001b[m * \u001b[33m3a2169a\u001b[m\u001b[33m (\u001b[m\u001b[1;32mnew_branch_with_descriptive_name\u001b[m\u001b[33m)\u001b[m hurray, new stuff.\r\n",
      "\u001b[31m|\u001b[m * \u001b[33mb84d28d\u001b[m\u001b[33m (\u001b[m\u001b[1;31mnew_bare/master\u001b[m\u001b[33m)\u001b[m new line in cloned repo\r\n",
      "\u001b[31m|\u001b[m\u001b[31m/\u001b[m  \r\n",
      "* \u001b[33m18a3a33\u001b[m\u001b[33m (\u001b[m\u001b[1;32mbranch_started_further_back\u001b[m\u001b[33m)\u001b[m new commit in the original repo\r\n",
      "* \u001b[33m59d540c\u001b[m checked out myfile from first commit\r\n",
      "* \u001b[33m344a292\u001b[m\u001b[33m (\u001b[m\u001b[1;36mHEAD\u001b[m\u001b[33m -> \u001b[m\u001b[1;32mbranch_well_move_back\u001b[m\u001b[33m)\u001b[m I added a second line\r\n",
      "* \u001b[33m7e4d620\u001b[m added a first line to my file\r\n"
     ]
    }
   ],
   "source": [
    "git log --graph --decorate --all --oneline"
   ]
  },
  {
   "cell_type": "code",
   "execution_count": 99,
   "metadata": {
    "collapsed": false
   },
   "outputs": [
    {
     "name": "stdout",
     "output_type": "stream",
     "text": [
      "Switched to branch 'branch_started_further_back'\r\n"
     ]
    }
   ],
   "source": [
    "git checkout branch_started_further_back"
   ]
  },
  {
   "cell_type": "code",
   "execution_count": 100,
   "metadata": {
    "collapsed": false
   },
   "outputs": [
    {
     "name": "stdout",
     "output_type": "stream",
     "text": [
      "[branch_started_further_back 50d5233] added a file in the branch_started_further_back\r\n",
      " 1 file changed, 1 insertion(+)\r\n",
      " create mode 100644 new_file_in_back_branch.txt\r\n",
      "[branch_started_further_back 12be701] second commit in the branch_started_further_back\r\n",
      " 1 file changed, 1 insertion(+)\r\n"
     ]
    }
   ],
   "source": [
    "echo \"Change in back branch\" > new_file_in_back_branch.txt\n",
    "git add new_file_in_back_branch.txt\n",
    "git commit -m \"added a file in the branch_started_further_back\"\n",
    "\n",
    "echo \"more lines\" >> new_file_in_back_branch.txt\n",
    "git add new_file_in_back_branch.txt\n",
    "git commit -m \"second commit in the branch_started_further_back\""
   ]
  },
  {
   "cell_type": "code",
   "execution_count": 101,
   "metadata": {
    "collapsed": false
   },
   "outputs": [
    {
     "name": "stdout",
     "output_type": "stream",
     "text": [
      "* \u001b[33m12be701\u001b[m\u001b[33m (\u001b[m\u001b[1;36mHEAD\u001b[m\u001b[33m -> \u001b[m\u001b[1;32mbranch_started_further_back\u001b[m\u001b[33m)\u001b[m second commit in the branch_started_further_back\r\n",
      "* \u001b[33m50d5233\u001b[m added a file in the branch_started_further_back\r\n",
      "\u001b[31m|\u001b[m * \u001b[33m00cf774\u001b[m\u001b[33m (\u001b[m\u001b[1;32mmaster\u001b[m\u001b[33m)\u001b[m new stuff from the feature branch that I did stuff with\r\n",
      "\u001b[31m|\u001b[m\u001b[31m/\u001b[m  \r\n",
      "\u001b[31m|\u001b[m * \u001b[33m3a2169a\u001b[m\u001b[33m (\u001b[m\u001b[1;32mnew_branch_with_descriptive_name\u001b[m\u001b[33m)\u001b[m hurray, new stuff.\r\n",
      "\u001b[31m|\u001b[m * \u001b[33mb84d28d\u001b[m\u001b[33m (\u001b[m\u001b[1;31mnew_bare/master\u001b[m\u001b[33m)\u001b[m new line in cloned repo\r\n",
      "\u001b[31m|\u001b[m\u001b[31m/\u001b[m  \r\n",
      "* \u001b[33m18a3a33\u001b[m new commit in the original repo\r\n",
      "* \u001b[33m59d540c\u001b[m checked out myfile from first commit\r\n",
      "* \u001b[33m344a292\u001b[m\u001b[33m (\u001b[m\u001b[1;32mbranch_well_move_back\u001b[m\u001b[33m)\u001b[m I added a second line\r\n",
      "* \u001b[33m7e4d620\u001b[m added a first line to my file\r\n"
     ]
    }
   ],
   "source": [
    "git log --graph --decorate --all --oneline"
   ]
  },
  {
   "cell_type": "code",
   "execution_count": 102,
   "metadata": {
    "collapsed": false,
    "slideshow": {
     "slide_type": "slide"
    }
   },
   "outputs": [
    {
     "name": "stdout",
     "output_type": "stream",
     "text": [
      "First, rewinding head to replay your work on top of it...\r\n",
      "Applying: added a file in the branch_started_further_back\r\n",
      "Applying: second commit in the branch_started_further_back\r\n"
     ]
    }
   ],
   "source": [
    "git rebase master"
   ]
  },
  {
   "cell_type": "code",
   "execution_count": 103,
   "metadata": {
    "collapsed": false
   },
   "outputs": [
    {
     "name": "stdout",
     "output_type": "stream",
     "text": [
      "* \u001b[33m59d2f69\u001b[m\u001b[33m (\u001b[m\u001b[1;36mHEAD\u001b[m\u001b[33m -> \u001b[m\u001b[1;32mbranch_started_further_back\u001b[m\u001b[33m)\u001b[m second commit in the branch_started_further_back\r\n",
      "* \u001b[33m0258c9e\u001b[m added a file in the branch_started_further_back\r\n",
      "* \u001b[33m00cf774\u001b[m\u001b[33m (\u001b[m\u001b[1;32mmaster\u001b[m\u001b[33m)\u001b[m new stuff from the feature branch that I did stuff with\r\n",
      "\u001b[31m|\u001b[m * \u001b[33m3a2169a\u001b[m\u001b[33m (\u001b[m\u001b[1;32mnew_branch_with_descriptive_name\u001b[m\u001b[33m)\u001b[m hurray, new stuff.\r\n",
      "\u001b[31m|\u001b[m * \u001b[33mb84d28d\u001b[m\u001b[33m (\u001b[m\u001b[1;31mnew_bare/master\u001b[m\u001b[33m)\u001b[m new line in cloned repo\r\n",
      "\u001b[31m|\u001b[m\u001b[31m/\u001b[m  \r\n",
      "* \u001b[33m18a3a33\u001b[m new commit in the original repo\r\n",
      "* \u001b[33m59d540c\u001b[m checked out myfile from first commit\r\n",
      "* \u001b[33m344a292\u001b[m\u001b[33m (\u001b[m\u001b[1;32mbranch_well_move_back\u001b[m\u001b[33m)\u001b[m I added a second line\r\n",
      "* \u001b[33m7e4d620\u001b[m added a first line to my file\r\n"
     ]
    }
   ],
   "source": [
    "git log --graph --decorate --all --oneline"
   ]
  },
  {
   "cell_type": "markdown",
   "metadata": {
    "slideshow": {
     "slide_type": "slide"
    }
   },
   "source": [
    "# \"advanced form\"\n",
    "using ``--onto``\n",
    "\n",
    "Three parts in rebase:\n",
    "- The branch to move (current HEAD or second in command)\n",
    "- The branch to compute the common parent with\n",
    "- The branch to put the stuff on top of\n",
    "\n",
    "For the \"simple\" version 2 and 3 are the same.\n",
    "For the ``--onto`` verion, you can specify 3 separately."
   ]
  },
  {
   "cell_type": "code",
   "execution_count": 104,
   "metadata": {
    "collapsed": false,
    "slideshow": {
     "slide_type": "slide"
    }
   },
   "outputs": [
    {
     "name": "stdout",
     "output_type": "stream",
     "text": [
      "* \u001b[33m59d2f69\u001b[m\u001b[33m (\u001b[m\u001b[1;36mHEAD\u001b[m\u001b[33m -> \u001b[m\u001b[1;32mbranch_started_further_back\u001b[m\u001b[33m)\u001b[m second commit in the branch_started_further_back\r\n",
      "* \u001b[33m0258c9e\u001b[m added a file in the branch_started_further_back\r\n",
      "* \u001b[33m00cf774\u001b[m\u001b[33m (\u001b[m\u001b[1;32mmaster\u001b[m\u001b[33m)\u001b[m new stuff from the feature branch that I did stuff with\r\n",
      "\u001b[31m|\u001b[m * \u001b[33m3a2169a\u001b[m\u001b[33m (\u001b[m\u001b[1;32mnew_branch_with_descriptive_name\u001b[m\u001b[33m)\u001b[m hurray, new stuff.\r\n",
      "\u001b[31m|\u001b[m * \u001b[33mb84d28d\u001b[m\u001b[33m (\u001b[m\u001b[1;31mnew_bare/master\u001b[m\u001b[33m)\u001b[m new line in cloned repo\r\n",
      "\u001b[31m|\u001b[m\u001b[31m/\u001b[m  \r\n",
      "* \u001b[33m18a3a33\u001b[m new commit in the original repo\r\n",
      "* \u001b[33m59d540c\u001b[m checked out myfile from first commit\r\n",
      "* \u001b[33m344a292\u001b[m\u001b[33m (\u001b[m\u001b[1;32mbranch_well_move_back\u001b[m\u001b[33m)\u001b[m I added a second line\r\n",
      "* \u001b[33m7e4d620\u001b[m added a first line to my file\r\n"
     ]
    }
   ],
   "source": [
    "git log --graph --decorate --all --oneline"
   ]
  },
  {
   "cell_type": "code",
   "execution_count": 105,
   "metadata": {
    "collapsed": false
   },
   "outputs": [
    {
     "name": "stdout",
     "output_type": "stream",
     "text": [
      "First, rewinding head to replay your work on top of it...\r\n",
      "Applying: added a file in the branch_started_further_back\r\n",
      "Applying: second commit in the branch_started_further_back\r\n"
     ]
    }
   ],
   "source": [
    "git rebase master --onto new_branch_with_descriptive_name"
   ]
  },
  {
   "cell_type": "code",
   "execution_count": 106,
   "metadata": {
    "collapsed": false
   },
   "outputs": [
    {
     "name": "stdout",
     "output_type": "stream",
     "text": [
      "* \u001b[33m157de4a\u001b[m\u001b[33m (\u001b[m\u001b[1;36mHEAD\u001b[m\u001b[33m -> \u001b[m\u001b[1;32mbranch_started_further_back\u001b[m\u001b[33m)\u001b[m second commit in the branch_started_further_back\r\n",
      "* \u001b[33m08211a4\u001b[m added a file in the branch_started_further_back\r\n",
      "* \u001b[33m3a2169a\u001b[m\u001b[33m (\u001b[m\u001b[1;32mnew_branch_with_descriptive_name\u001b[m\u001b[33m)\u001b[m hurray, new stuff.\r\n",
      "* \u001b[33mb84d28d\u001b[m\u001b[33m (\u001b[m\u001b[1;31mnew_bare/master\u001b[m\u001b[33m)\u001b[m new line in cloned repo\r\n",
      "\u001b[31m|\u001b[m * \u001b[33m00cf774\u001b[m\u001b[33m (\u001b[m\u001b[1;32mmaster\u001b[m\u001b[33m)\u001b[m new stuff from the feature branch that I did stuff with\r\n",
      "\u001b[31m|\u001b[m\u001b[31m/\u001b[m  \r\n",
      "* \u001b[33m18a3a33\u001b[m new commit in the original repo\r\n",
      "* \u001b[33m59d540c\u001b[m checked out myfile from first commit\r\n",
      "* \u001b[33m344a292\u001b[m\u001b[33m (\u001b[m\u001b[1;32mbranch_well_move_back\u001b[m\u001b[33m)\u001b[m I added a second line\r\n",
      "* \u001b[33m7e4d620\u001b[m added a first line to my file\r\n"
     ]
    }
   ],
   "source": [
    "git log --graph --decorate --all --oneline"
   ]
  },
  {
   "cell_type": "markdown",
   "metadata": {
    "slideshow": {
     "slide_type": "slide"
    }
   },
   "source": [
    "# Interactive rebase\n",
    "(or you could apply a rusty nail to your retina)\n",
    "\n",
    "We'll only discuss squashing and skipping.\n",
    "Needs to be done on the command line!\n"
   ]
  },
  {
   "cell_type": "code",
   "execution_count": 107,
   "metadata": {
    "collapsed": false
   },
   "outputs": [
    {
     "name": "stdout",
     "output_type": "stream",
     "text": []
    }
   ],
   "source": [
    "# git rebase -i new_branch_with_descriptive_name\n",
    "false"
   ]
  },
  {
   "cell_type": "code",
   "execution_count": 108,
   "metadata": {
    "collapsed": false
   },
   "outputs": [
    {
     "name": "stdout",
     "output_type": "stream",
     "text": [
      "* \u001b[33m4ec5822\u001b[m\u001b[33m (\u001b[m\u001b[1;36mHEAD\u001b[m\u001b[33m -> \u001b[m\u001b[1;32mbranch_started_further_back\u001b[m\u001b[33m)\u001b[m all the changes I ever wanted!\r\n",
      "* \u001b[33m3a2169a\u001b[m\u001b[33m (\u001b[m\u001b[1;32mnew_branch_with_descriptive_name\u001b[m\u001b[33m)\u001b[m hurray, new stuff.\r\n",
      "* \u001b[33mb84d28d\u001b[m\u001b[33m (\u001b[m\u001b[1;31mnew_bare/master\u001b[m\u001b[33m)\u001b[m new line in cloned repo\r\n",
      "\u001b[31m|\u001b[m * \u001b[33m00cf774\u001b[m\u001b[33m (\u001b[m\u001b[1;32mmaster\u001b[m\u001b[33m)\u001b[m new stuff from the feature branch that I did stuff with\r\n",
      "\u001b[31m|\u001b[m\u001b[31m/\u001b[m  \r\n",
      "* \u001b[33m18a3a33\u001b[m new commit in the original repo\r\n",
      "* \u001b[33m59d540c\u001b[m checked out myfile from first commit\r\n",
      "* \u001b[33m344a292\u001b[m\u001b[33m (\u001b[m\u001b[1;32mbranch_well_move_back\u001b[m\u001b[33m)\u001b[m I added a second line\r\n",
      "* \u001b[33m7e4d620\u001b[m added a first line to my file\r\n"
     ]
    }
   ],
   "source": [
    "git log --graph --decorate --all --oneline"
   ]
  },
  {
   "cell_type": "markdown",
   "metadata": {
    "slideshow": {
     "slide_type": "slide"
    }
   },
   "source": [
    "# Git reflog\n",
    "*Seek and ye shall find*"
   ]
  },
  {
   "cell_type": "code",
   "execution_count": 109,
   "metadata": {
    "collapsed": false,
    "slideshow": {
     "slide_type": "fragment"
    }
   },
   "outputs": [
    {
     "name": "stdout",
     "output_type": "stream",
     "text": [
      "\u001b[33m4ec5822\u001b[m HEAD@{0}: rebase -i (finish): returning to refs/heads/branch_started_further_back\r\n",
      "\u001b[33m4ec5822\u001b[m HEAD@{1}: rebase -i (squash): all the changes I ever wanted!\r\n",
      "\u001b[33m08211a4\u001b[m HEAD@{2}: rebase -i (start): checkout new_branch_with_descriptive_name\r\n",
      "\u001b[33m157de4a\u001b[m HEAD@{3}: rebase finished: returning to refs/heads/branch_started_further_back\r\n",
      "\u001b[33m157de4a\u001b[m HEAD@{4}: rebase: second commit in the branch_started_further_back\r\n",
      "\u001b[33m08211a4\u001b[m HEAD@{5}: rebase: added a file in the branch_started_further_back\r\n",
      "\u001b[33m3a2169a\u001b[m HEAD@{6}: rebase: checkout new_branch_with_descriptive_name\r\n",
      "\u001b[33m59d2f69\u001b[m HEAD@{7}: rebase finished: returning to refs/heads/branch_started_further_back\r\n",
      "\u001b[33m59d2f69\u001b[m HEAD@{8}: rebase: second commit in the branch_started_further_back\r\n",
      "\u001b[33m0258c9e\u001b[m HEAD@{9}: rebase: added a file in the branch_started_further_back\r\n"
     ]
    }
   ],
   "source": [
    "git reflog -n 10"
   ]
  },
  {
   "cell_type": "code",
   "execution_count": 110,
   "metadata": {
    "collapsed": false,
    "slideshow": {
     "slide_type": "fragment"
    }
   },
   "outputs": [
    {
     "name": "stdout",
     "output_type": "stream",
     "text": [
      "Switched to a new branch 'before_interactive_rebase'\r\n"
     ]
    }
   ],
   "source": [
    "git checkout -b before_interactive_rebase HEAD@{3}"
   ]
  },
  {
   "cell_type": "code",
   "execution_count": 111,
   "metadata": {
    "collapsed": false,
    "slideshow": {
     "slide_type": "fragment"
    }
   },
   "outputs": [
    {
     "name": "stdout",
     "output_type": "stream",
     "text": [
      "* \u001b[33m4ec5822\u001b[m\u001b[33m (\u001b[m\u001b[1;32mbranch_started_further_back\u001b[m\u001b[33m)\u001b[m all the changes I ever wanted!\r\n",
      "\u001b[31m|\u001b[m * \u001b[33m157de4a\u001b[m\u001b[33m (\u001b[m\u001b[1;36mHEAD\u001b[m\u001b[33m -> \u001b[m\u001b[1;32mbefore_interactive_rebase\u001b[m\u001b[33m)\u001b[m second commit in the branch_started_further_back\r\n",
      "\u001b[31m|\u001b[m * \u001b[33m08211a4\u001b[m added a file in the branch_started_further_back\r\n",
      "\u001b[31m|\u001b[m\u001b[31m/\u001b[m  \r\n",
      "* \u001b[33m3a2169a\u001b[m\u001b[33m (\u001b[m\u001b[1;32mnew_branch_with_descriptive_name\u001b[m\u001b[33m)\u001b[m hurray, new stuff.\r\n",
      "* \u001b[33mb84d28d\u001b[m\u001b[33m (\u001b[m\u001b[1;31mnew_bare/master\u001b[m\u001b[33m)\u001b[m new line in cloned repo\r\n",
      "\u001b[32m|\u001b[m * \u001b[33m00cf774\u001b[m\u001b[33m (\u001b[m\u001b[1;32mmaster\u001b[m\u001b[33m)\u001b[m new stuff from the feature branch that I did stuff with\r\n",
      "\u001b[32m|\u001b[m\u001b[32m/\u001b[m  \r\n",
      "* \u001b[33m18a3a33\u001b[m new commit in the original repo\r\n",
      "* \u001b[33m59d540c\u001b[m checked out myfile from first commit\r\n",
      "* \u001b[33m344a292\u001b[m\u001b[33m (\u001b[m\u001b[1;32mbranch_well_move_back\u001b[m\u001b[33m)\u001b[m I added a second line\r\n",
      "* \u001b[33m7e4d620\u001b[m added a first line to my file\r\n"
     ]
    }
   ],
   "source": [
    "git log --graph --decorate --all --oneline"
   ]
  },
  {
   "cell_type": "markdown",
   "metadata": {
    "slideshow": {
     "slide_type": "slide"
    }
   },
   "source": [
    "\n",
    "# Rebasing requires force-push!!"
   ]
  },
  {
   "cell_type": "markdown",
   "metadata": {
    "slideshow": {
     "slide_type": "slide"
    }
   },
   "source": [
    "# The Real Github Workflow\n",
    "(to make the project maintainer love you)\n",
    "\n",
    "* Fork and clone the repository (you did that already)\n",
    "* Create a **feature branch** that contains your changes.\n",
    "* Work on your changes.\n",
    "* Push to your repository.\n",
    "* Create a pull request.\n",
    "\n",
    "Do it!"
   ]
  },
  {
   "cell_type": "markdown",
   "metadata": {
    "slideshow": {
     "slide_type": "slide"
    }
   },
   "source": [
    "# While you where away\n",
    "* Oh no! While you were working, someone added a *conflicting change* - your pull request can't be merged!\n",
    "* You need to resolve the conflict!\n",
    "* Syncing with the original (aka upstream) repo:\n",
    "    add git@github.com:amueller/repo_to_fork.git as a remote to your cloned repo\n",
    "    check out local master. Pull upstream master. This is why you don't want to change master. Ever!\n",
    "* Rebase your branch on top of master. Oh no, the conflict!\n",
    "* Resolve the conflict.\n",
    "* Look at your log. Damn lies! (but pretty)\n",
    "* Push to your remote. (You have to force it)\n",
    "* Your PR can now be merged!"
   ]
  },
  {
   "cell_type": "markdown",
   "metadata": {
    "slideshow": {
     "slide_type": "slide"
    }
   },
   "source": [
    "# The end(?)"
   ]
  }
 ],
 "metadata": {
  "celltoolbar": "Slideshow",
  "kernelspec": {
   "display_name": "Bash",
   "language": "bash",
   "name": "bash"
  },
  "language_info": {
   "codemirror_mode": "shell",
   "file_extension": ".sh",
   "mimetype": "text/x-sh",
   "name": "bash"
  }
 },
 "nbformat": 4,
 "nbformat_minor": 0
}
