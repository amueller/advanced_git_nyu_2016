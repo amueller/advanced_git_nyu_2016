{
 "cells": [
  {
   "cell_type": "markdown",
   "metadata": {
    "slideshow": {
     "slide_type": "slide"
    }
   },
   "source": [
    "# Advanced Git"
   ]
  },
  {
   "cell_type": "markdown",
   "metadata": {
    "slideshow": {
     "slide_type": "slide"
    }
   },
   "source": [
    "<img src=\"linus_Decreux.jpeg\" width=500px>"
   ]
  },
  {
   "cell_type": "markdown",
   "metadata": {
    "slideshow": {
     "slide_type": "slide"
    }
   },
   "source": [
    "# Overview\n",
    "- Recap\n",
    "- Ignoring Files with ``.gitignore``\n",
    "- Hosting your own repositories with ``bare repositories``\n",
    "- Branches (with ``git checkout``)\n",
    "- Going back (for real) with ``git reset``\n",
    "- Rewriting history with ``git rebase``\n",
    "- Rewriting history, like, totally. with ``git rebase -i``\n",
    "\n",
    "- "
   ]
  },
  {
   "cell_type": "markdown",
   "metadata": {
    "slideshow": {
     "slide_type": "slide"
    }
   },
   "source": [
    "# Quick Recap"
   ]
  },
  {
   "cell_type": "code",
   "execution_count": 1,
   "metadata": {
    "collapsed": false,
    "slideshow": {
     "slide_type": "skip"
    }
   },
   "outputs": [
    {
     "name": "stdout",
     "output_type": "stream",
     "text": []
    }
   ],
   "source": [
    "cd ~\n",
    "rm -rf advanced_git_tmp\n",
    "mkdir advanced_git_tmp\n",
    "cd advanced_git_tmp"
   ]
  },
  {
   "cell_type": "markdown",
   "metadata": {
    "slideshow": {
     "slide_type": "slide"
    }
   },
   "source": [
    "# Configuration"
   ]
  },
  {
   "cell_type": "code",
   "execution_count": 2,
   "metadata": {
    "collapsed": false
   },
   "outputs": [
    {
     "name": "stdout",
     "output_type": "stream",
     "text": [
      "user.email=amueller@nyu.edu\r\n",
      "user.name=Andreas Mueller\r\n",
      "core.editor=vim\r\n",
      "core.pager=\r\n",
      "push.default=simple\r\n",
      "pager.grep=false\r\n",
      "color.ui=auto\r\n"
     ]
    }
   ],
   "source": [
    "git config --list"
   ]
  },
  {
   "cell_type": "markdown",
   "metadata": {
    "slideshow": {
     "slide_type": "slide"
    }
   },
   "source": [
    "# Initialization"
   ]
  },
  {
   "cell_type": "code",
   "execution_count": 3,
   "metadata": {
    "collapsed": false,
    "slideshow": {
     "slide_type": "subslide"
    }
   },
   "outputs": [
    {
     "name": "stdout",
     "output_type": "stream",
     "text": [
      "Initialized empty Git repository in /home/andy/advanced_git_tmp/myrepo/.git/\r\n"
     ]
    }
   ],
   "source": [
    "mkdir myrepo\n",
    "cd myrepo\n",
    "git init"
   ]
  },
  {
   "cell_type": "code",
   "execution_count": 4,
   "metadata": {
    "collapsed": false,
    "slideshow": {
     "slide_type": "subslide"
    }
   },
   "outputs": [
    {
     "name": "stdout",
     "output_type": "stream",
     "text": [
      ".  ..  .git\r\n"
     ]
    }
   ],
   "source": [
    "ls -a"
   ]
  },
  {
   "cell_type": "code",
   "execution_count": 5,
   "metadata": {
    "collapsed": false,
    "slideshow": {
     "slide_type": "subslide"
    }
   },
   "outputs": [
    {
     "name": "stdout",
     "output_type": "stream",
     "text": [
      "On branch master\r\n",
      "\r\n",
      "Initial commit\r\n",
      "\r\n",
      "nothing to commit (create/copy files and use \"git add\" to track)\r\n"
     ]
    }
   ],
   "source": [
    "git status"
   ]
  },
  {
   "cell_type": "markdown",
   "metadata": {
    "collapsed": true,
    "slideshow": {
     "slide_type": "slide"
    }
   },
   "source": [
    "# Adding and commiting"
   ]
  },
  {
   "cell_type": "code",
   "execution_count": 6,
   "metadata": {
    "collapsed": false
   },
   "outputs": [
    {
     "name": "stdout",
     "output_type": "stream",
     "text": [
      "On branch master\r\n",
      "\r\n",
      "Initial commit\r\n",
      "\r\n",
      "Untracked files:\r\n",
      "  (use \"git add <file>...\" to include in what will be committed)\r\n",
      "\r\n",
      "\t\u001b[31mmyfile.txt\u001b[m\r\n",
      "\r\n",
      "nothing added to commit but untracked files present (use \"git add\" to track)\r\n"
     ]
    }
   ],
   "source": [
    "echo \"fist line in file myfile\" > myfile.txt\n",
    "git status"
   ]
  },
  {
   "cell_type": "code",
   "execution_count": 7,
   "metadata": {
    "collapsed": false
   },
   "outputs": [
    {
     "name": "stdout",
     "output_type": "stream",
     "text": [
      "On branch master\r\n",
      "\r\n",
      "Initial commit\r\n",
      "\r\n",
      "Changes to be committed:\r\n",
      "  (use \"git rm --cached <file>...\" to unstage)\r\n",
      "\r\n",
      "\t\u001b[32mnew file:   myfile.txt\u001b[m\r\n",
      "\r\n"
     ]
    }
   ],
   "source": [
    "git add myfile.txt\n",
    "git status"
   ]
  },
  {
   "cell_type": "code",
   "execution_count": 8,
   "metadata": {
    "collapsed": false,
    "slideshow": {
     "slide_type": "subslide"
    }
   },
   "outputs": [
    {
     "name": "stdout",
     "output_type": "stream",
     "text": [
      "[master (root-commit) 06f223a] added a first line to my file\r\n",
      " 1 file changed, 1 insertion(+)\r\n",
      " create mode 100644 myfile.txt\r\n",
      "On branch master\r\n",
      "nothing to commit, working directory clean\r\n"
     ]
    }
   ],
   "source": [
    "git commit -m \"added a first line to my file\"\n",
    "git status"
   ]
  },
  {
   "cell_type": "code",
   "execution_count": 9,
   "metadata": {
    "collapsed": false,
    "slideshow": {
     "slide_type": "subslide"
    }
   },
   "outputs": [
    {
     "name": "stdout",
     "output_type": "stream",
     "text": [
      "\u001b[33mcommit 06f223a0f13487adc0f9636cb86604cc20f78b9c\u001b[m\r\n",
      "Author: Andreas Mueller <amueller@nyu.edu>\r\n",
      "Date:   Mon Mar 28 14:26:31 2016 -0400\r\n",
      "\r\n",
      "    added a first line to my file\r\n"
     ]
    }
   ],
   "source": [
    "git log"
   ]
  },
  {
   "cell_type": "markdown",
   "metadata": {
    "slideshow": {
     "slide_type": "slide"
    }
   },
   "source": [
    "# Changing and commiting again"
   ]
  },
  {
   "cell_type": "code",
   "execution_count": 10,
   "metadata": {
    "collapsed": false
   },
   "outputs": [
    {
     "name": "stdout",
     "output_type": "stream",
     "text": [
      "On branch master\r\n",
      "Changes not staged for commit:\r\n",
      "  (use \"git add <file>...\" to update what will be committed)\r\n",
      "  (use \"git checkout -- <file>...\" to discard changes in working directory)\r\n",
      "\r\n",
      "\t\u001b[31mmodified:   myfile.txt\u001b[m\r\n",
      "\r\n",
      "no changes added to commit (use \"git add\" and/or \"git commit -a\")\r\n"
     ]
    }
   ],
   "source": [
    "echo \"second line in myfile is not much more interesting\" >> myfile.txt\n",
    "git status"
   ]
  },
  {
   "cell_type": "code",
   "execution_count": 11,
   "metadata": {
    "collapsed": false
   },
   "outputs": [
    {
     "name": "stdout",
     "output_type": "stream",
     "text": [
      "On branch master\r\n",
      "Changes to be committed:\r\n",
      "  (use \"git reset HEAD <file>...\" to unstage)\r\n",
      "\r\n",
      "\t\u001b[32mmodified:   myfile.txt\u001b[m\r\n",
      "\r\n"
     ]
    }
   ],
   "source": [
    "git add myfile.txt\n",
    "git status"
   ]
  },
  {
   "cell_type": "code",
   "execution_count": 12,
   "metadata": {
    "collapsed": false
   },
   "outputs": [
    {
     "name": "stdout",
     "output_type": "stream",
     "text": [
      "[master d02a9c4] I added a second line\r\n",
      " 1 file changed, 1 insertion(+)\r\n",
      "\u001b[33mcommit d02a9c4162534302e7d72438614002e9e8a5b427\u001b[m\r\n",
      "Author: Andreas Mueller <amueller@nyu.edu>\r\n",
      "Date:   Mon Mar 28 14:26:34 2016 -0400\r\n",
      "\r\n",
      "    I added a second line\r\n",
      "\r\n",
      "\u001b[33mcommit 06f223a0f13487adc0f9636cb86604cc20f78b9c\u001b[m\r\n",
      "Author: Andreas Mueller <amueller@nyu.edu>\r\n",
      "Date:   Mon Mar 28 14:26:31 2016 -0400\r\n",
      "\r\n",
      "    added a first line to my file\r\n"
     ]
    }
   ],
   "source": [
    "git commit -m \"I added a second line\"\n",
    "git log"
   ]
  },
  {
   "cell_type": "markdown",
   "metadata": {
    "slideshow": {
     "slide_type": "slide"
    }
   },
   "source": [
    "# Reverting a file to an older version"
   ]
  },
  {
   "cell_type": "code",
   "execution_count": 13,
   "metadata": {
    "collapsed": false,
    "slideshow": {
     "slide_type": "subslide"
    }
   },
   "outputs": [
    {
     "name": "stdout",
     "output_type": "stream",
     "text": [
      "fist line in file myfile\r\n",
      "second line in myfile is not much more interesting\r\n",
      "omg a third line\r\n"
     ]
    }
   ],
   "source": [
    "echo \"omg a third line\" >> myfile.txt\n",
    "cat myfile.txt"
   ]
  },
  {
   "cell_type": "markdown",
   "metadata": {
    "slideshow": {
     "slide_type": "subslide"
    }
   },
   "source": [
    "Reverting to the last commit:"
   ]
  },
  {
   "cell_type": "code",
   "execution_count": 14,
   "metadata": {
    "collapsed": false,
    "slideshow": {
     "slide_type": "subslide"
    }
   },
   "outputs": [
    {
     "name": "stdout",
     "output_type": "stream",
     "text": [
      "fist line in file myfile\r\n",
      "second line in myfile is not much more interesting\r\n"
     ]
    }
   ],
   "source": [
    "git checkout myfile.txt\n",
    "cat myfile.txt"
   ]
  },
  {
   "cell_type": "markdown",
   "metadata": {
    "slideshow": {
     "slide_type": "subslide"
    }
   },
   "source": [
    "Reverting to a previous commit:"
   ]
  },
  {
   "cell_type": "code",
   "execution_count": 15,
   "metadata": {
    "collapsed": false,
    "slideshow": {
     "slide_type": "subslide"
    }
   },
   "outputs": [
    {
     "name": "stdout",
     "output_type": "stream",
     "text": [
      "fist line in file myfile\r\n"
     ]
    }
   ],
   "source": [
    "git checkout HEAD~1 myfile.txt\n",
    "cat myfile.txt"
   ]
  },
  {
   "cell_type": "code",
   "execution_count": 16,
   "metadata": {
    "collapsed": false,
    "slideshow": {
     "slide_type": "subslide"
    }
   },
   "outputs": [
    {
     "name": "stdout",
     "output_type": "stream",
     "text": [
      "On branch master\r\n",
      "Changes to be committed:\r\n",
      "  (use \"git reset HEAD <file>...\" to unstage)\r\n",
      "\r\n",
      "\t\u001b[32mmodified:   myfile.txt\u001b[m\r\n",
      "\r\n"
     ]
    }
   ],
   "source": [
    "git status"
   ]
  },
  {
   "cell_type": "code",
   "execution_count": 17,
   "metadata": {
    "collapsed": false,
    "slideshow": {
     "slide_type": "subslide"
    }
   },
   "outputs": [
    {
     "name": "stdout",
     "output_type": "stream",
     "text": [
      "[master 7ac6f7d] checked out myfile from first commit\r\n",
      " 1 file changed, 1 deletion(-)\r\n",
      "\u001b[33mcommit 7ac6f7de0bd4890d7619fd270bcb0ddc6d24ecb6\u001b[m\r\n",
      "Author: Andreas Mueller <amueller@nyu.edu>\r\n",
      "Date:   Mon Mar 28 14:26:37 2016 -0400\r\n",
      "\r\n",
      "    checked out myfile from first commit\r\n",
      "\r\n",
      "\u001b[33mcommit d02a9c4162534302e7d72438614002e9e8a5b427\u001b[m\r\n",
      "Author: Andreas Mueller <amueller@nyu.edu>\r\n",
      "Date:   Mon Mar 28 14:26:34 2016 -0400\r\n",
      "\r\n",
      "    I added a second line\r\n",
      "\r\n",
      "\u001b[33mcommit 06f223a0f13487adc0f9636cb86604cc20f78b9c\u001b[m\r\n",
      "Author: Andreas Mueller <amueller@nyu.edu>\r\n",
      "Date:   Mon Mar 28 14:26:31 2016 -0400\r\n",
      "\r\n",
      "    added a first line to my file\r\n"
     ]
    }
   ],
   "source": [
    "git commit -m \"checked out myfile from first commit\"\n",
    "git log"
   ]
  },
  {
   "cell_type": "markdown",
   "metadata": {
    "slideshow": {
     "slide_type": "slide"
    }
   },
   "source": [
    "# Ignoring things"
   ]
  },
  {
   "cell_type": "code",
   "execution_count": 18,
   "metadata": {
    "collapsed": false
   },
   "outputs": [
    {
     "name": "stdout",
     "output_type": "stream",
     "text": [
      "On branch master\r\n",
      "Untracked files:\r\n",
      "  (use \"git add <file>...\" to include in what will be committed)\r\n",
      "\r\n",
      "\t\u001b[31mstupidtempfile.swp\u001b[m\r\n",
      "\t\u001b[31mwhycompiling.pyc\u001b[m\r\n",
      "\r\n",
      "nothing added to commit but untracked files present (use \"git add\" to track)\r\n"
     ]
    }
   ],
   "source": [
    "touch stupidtempfile.swp\n",
    "touch whycompiling.pyc\n",
    "git status"
   ]
  },
  {
   "cell_type": "code",
   "execution_count": 19,
   "metadata": {
    "collapsed": false
   },
   "outputs": [
    {
     "name": "stdout",
     "output_type": "stream",
     "text": []
    }
   ],
   "source": [
    "echo \"*.swp\" >> .gitignore\n",
    "echo \"*.pyc\" >> .gitignore"
   ]
  },
  {
   "cell_type": "code",
   "execution_count": 20,
   "metadata": {
    "collapsed": false
   },
   "outputs": [
    {
     "name": "stdout",
     "output_type": "stream",
     "text": [
      ".  ..  .git  .gitignore  myfile.txt  stupidtempfile.swp  whycompiling.pyc\r\n"
     ]
    }
   ],
   "source": [
    "ls -a"
   ]
  },
  {
   "cell_type": "code",
   "execution_count": 21,
   "metadata": {
    "collapsed": false
   },
   "outputs": [
    {
     "name": "stdout",
     "output_type": "stream",
     "text": [
      "On branch master\r\n",
      "Untracked files:\r\n",
      "  (use \"git add <file>...\" to include in what will be committed)\r\n",
      "\r\n",
      "\t\u001b[31m.gitignore\u001b[m\r\n",
      "\r\n",
      "nothing added to commit but untracked files present (use \"git add\" to track)\r\n"
     ]
    }
   ],
   "source": [
    "git status"
   ]
  },
  {
   "cell_type": "markdown",
   "metadata": {
    "slideshow": {
     "slide_type": "slide"
    }
   },
   "source": [
    "# Making Remotes"
   ]
  },
  {
   "cell_type": "code",
   "execution_count": 22,
   "metadata": {
    "collapsed": false
   },
   "outputs": [
    {
     "name": "stdout",
     "output_type": "stream",
     "text": [
      "/home/andy/advanced_git_tmp/myrepo\r\n"
     ]
    }
   ],
   "source": [
    "pwd"
   ]
  },
  {
   "cell_type": "code",
   "execution_count": 23,
   "metadata": {
    "collapsed": false
   },
   "outputs": [
    {
     "name": "stdout",
     "output_type": "stream",
     "text": []
    }
   ],
   "source": [
    "cd ..\n",
    "mkdir cloned_repo"
   ]
  },
  {
   "cell_type": "code",
   "execution_count": 24,
   "metadata": {
    "collapsed": false
   },
   "outputs": [
    {
     "name": "stdout",
     "output_type": "stream",
     "text": []
    }
   ],
   "source": [
    "cd cloned_repo"
   ]
  },
  {
   "cell_type": "code",
   "execution_count": 25,
   "metadata": {
    "collapsed": false
   },
   "outputs": [
    {
     "name": "stdout",
     "output_type": "stream",
     "text": [
      "Cloning into 'myrepo'...\r\n",
      "done.\r\n"
     ]
    }
   ],
   "source": [
    "git clone ../myrepo"
   ]
  },
  {
   "cell_type": "code",
   "execution_count": 32,
   "metadata": {
    "collapsed": false
   },
   "outputs": [
    {
     "name": "stdout",
     "output_type": "stream",
     "text": [
      "..\r\n",
      "├── cloned_repo\r\n",
      "│   └── myrepo\r\n",
      "│       └── myfile.txt\r\n",
      "└── myrepo\r\n",
      "    ├── myfile.txt\r\n",
      "    ├── stupidtempfile.swp\r\n",
      "    └── whycompiling.pyc\r\n",
      "\r\n",
      "3 directories, 4 files\r\n"
     ]
    }
   ],
   "source": [
    "tree .."
   ]
  },
  {
   "cell_type": "code",
   "execution_count": 33,
   "metadata": {
    "collapsed": false,
    "slideshow": {
     "slide_type": "slide"
    }
   },
   "outputs": [
    {
     "name": "stdout",
     "output_type": "stream",
     "text": [
      "myfile.txt\r\n"
     ]
    }
   ],
   "source": [
    "cd myrepo\n",
    "ls"
   ]
  },
  {
   "cell_type": "code",
   "execution_count": 34,
   "metadata": {
    "collapsed": false
   },
   "outputs": [
    {
     "name": "stdout",
     "output_type": "stream",
     "text": [
      "origin\t/home/andy/advanced_git_tmp/cloned_repo/../myrepo (fetch)\r\n",
      "origin\t/home/andy/advanced_git_tmp/cloned_repo/../myrepo (push)\r\n"
     ]
    }
   ],
   "source": [
    "git remote -v"
   ]
  },
  {
   "cell_type": "code",
   "execution_count": 35,
   "metadata": {
    "collapsed": false
   },
   "outputs": [
    {
     "name": "stdout",
     "output_type": "stream",
     "text": [
      "\u001b[33mcommit 7ac6f7de0bd4890d7619fd270bcb0ddc6d24ecb6\u001b[m\r\n",
      "Author: Andreas Mueller <amueller@nyu.edu>\r\n",
      "Date:   Mon Mar 28 14:26:37 2016 -0400\r\n",
      "\r\n",
      "    checked out myfile from first commit\r\n",
      "\r\n",
      "\u001b[33mcommit d02a9c4162534302e7d72438614002e9e8a5b427\u001b[m\r\n",
      "Author: Andreas Mueller <amueller@nyu.edu>\r\n",
      "Date:   Mon Mar 28 14:26:34 2016 -0400\r\n",
      "\r\n",
      "    I added a second line\r\n",
      "\r\n",
      "\u001b[33mcommit 06f223a0f13487adc0f9636cb86604cc20f78b9c\u001b[m\r\n",
      "Author: Andreas Mueller <amueller@nyu.edu>\r\n",
      "Date:   Mon Mar 28 14:26:31 2016 -0400\r\n",
      "\r\n",
      "    added a first line to my file\r\n"
     ]
    }
   ],
   "source": [
    "git log"
   ]
  },
  {
   "cell_type": "markdown",
   "metadata": {
    "slideshow": {
     "slide_type": "slide"
    }
   },
   "source": [
    "This is just a clone."
   ]
  },
  {
   "cell_type": "code",
   "execution_count": 36,
   "metadata": {
    "collapsed": false
   },
   "outputs": [
    {
     "name": "stdout",
     "output_type": "stream",
     "text": [
      "fist line in file myfile\r\n"
     ]
    }
   ],
   "source": [
    "cd ../../myrepo\n",
    "cat myfile.txt"
   ]
  },
  {
   "cell_type": "code",
   "execution_count": 37,
   "metadata": {
    "collapsed": false
   },
   "outputs": [
    {
     "name": "stdout",
     "output_type": "stream",
     "text": [
      "[master 2d1ee84] new commit in the original repo\r\n",
      " 1 file changed, 1 insertion(+)\r\n"
     ]
    }
   ],
   "source": [
    "echo \"another line commited to the original repo\" >> myfile.txt\n",
    "git add myfile.txt\n",
    "git commit -m \"new commit in the original repo\""
   ]
  },
  {
   "cell_type": "code",
   "execution_count": 38,
   "metadata": {
    "collapsed": false
   },
   "outputs": [
    {
     "name": "stdout",
     "output_type": "stream",
     "text": [
      "\u001b[33mcommit 2d1ee84b1a58763306870b24b6b2512b98038f81\u001b[m\r\n",
      "Author: Andreas Mueller <amueller@nyu.edu>\r\n",
      "Date:   Mon Mar 28 14:28:15 2016 -0400\r\n",
      "\r\n",
      "    new commit in the original repo\r\n",
      "\r\n",
      "\u001b[33mcommit 7ac6f7de0bd4890d7619fd270bcb0ddc6d24ecb6\u001b[m\r\n",
      "Author: Andreas Mueller <amueller@nyu.edu>\r\n",
      "Date:   Mon Mar 28 14:26:37 2016 -0400\r\n",
      "\r\n",
      "    checked out myfile from first commit\r\n",
      "\r\n",
      "\u001b[33mcommit d02a9c4162534302e7d72438614002e9e8a5b427\u001b[m\r\n",
      "Author: Andreas Mueller <amueller@nyu.edu>\r\n",
      "Date:   Mon Mar 28 14:26:34 2016 -0400\r\n",
      "\r\n",
      "    I added a second line\r\n",
      "\r\n",
      "\u001b[33mcommit 06f223a0f13487adc0f9636cb86604cc20f78b9c\u001b[m\r\n",
      "Author: Andreas Mueller <amueller@nyu.edu>\r\n",
      "Date:   Mon Mar 28 14:26:31 2016 -0400\r\n",
      "\r\n",
      "    added a first line to my file\r\n"
     ]
    }
   ],
   "source": [
    "git log"
   ]
  },
  {
   "cell_type": "markdown",
   "metadata": {
    "slideshow": {
     "slide_type": "slide"
    }
   },
   "source": [
    "# Branching"
   ]
  },
  {
   "cell_type": "code",
   "execution_count": null,
   "metadata": {
    "collapsed": false
   },
   "outputs": [],
   "source": [
    "git checkout -b new_branch_with_descriptive_name"
   ]
  },
  {
   "cell_type": "code",
   "execution_count": null,
   "metadata": {
    "collapsed": false
   },
   "outputs": [],
   "source": [
    "echo \"new stuff that is reeeeaaally cool and maybe even works\" > myfile.txt"
   ]
  },
  {
   "cell_type": "code",
   "execution_count": null,
   "metadata": {
    "collapsed": false
   },
   "outputs": [],
   "source": [
    "git add myfile.txt\n",
    "git commit -m \"hurray, new stuff.\""
   ]
  },
  {
   "cell_type": "code",
   "execution_count": null,
   "metadata": {
    "collapsed": false
   },
   "outputs": [],
   "source": [
    "git log"
   ]
  },
  {
   "cell_type": "markdown",
   "metadata": {},
   "source": [
    "# Where is the branch?"
   ]
  },
  {
   "cell_type": "code",
   "execution_count": null,
   "metadata": {
    "collapsed": false,
    "scrolled": true
   },
   "outputs": [],
   "source": [
    "git log --graph"
   ]
  },
  {
   "cell_type": "code",
   "execution_count": null,
   "metadata": {
    "collapsed": false,
    "slideshow": {
     "slide_type": "subslide"
    }
   },
   "outputs": [],
   "source": [
    "git checkout master\n",
    "cat myfile.txt"
   ]
  },
  {
   "cell_type": "code",
   "execution_count": null,
   "metadata": {
    "collapsed": false,
    "slideshow": {
     "slide_type": "subslide"
    }
   },
   "outputs": [],
   "source": [
    "echo \"add to the old stuff \" >> another_file.txt\n",
    "git add another_file.txt\n",
    "git commit -m \"working on another file on the master branch\""
   ]
  },
  {
   "cell_type": "code",
   "execution_count": null,
   "metadata": {
    "collapsed": false,
    "slideshow": {
     "slide_type": "subslide"
    }
   },
   "outputs": [],
   "source": [
    "git log --graph --all"
   ]
  },
  {
   "cell_type": "markdown",
   "metadata": {
    "slideshow": {
     "slide_type": "slide"
    }
   },
   "source": [
    "# Merging Branches"
   ]
  },
  {
   "cell_type": "code",
   "execution_count": null,
   "metadata": {
    "collapsed": false
   },
   "outputs": [],
   "source": [
    "git checkout master"
   ]
  },
  {
   "cell_type": "code",
   "execution_count": null,
   "metadata": {
    "collapsed": false
   },
   "outputs": [],
   "source": [
    "git merge new_branch_with_descriptive_name"
   ]
  },
  {
   "cell_type": "code",
   "execution_count": null,
   "metadata": {
    "collapsed": false
   },
   "outputs": [],
   "source": [
    "cat myfile.txt"
   ]
  },
  {
   "cell_type": "code",
   "execution_count": null,
   "metadata": {
    "collapsed": true
   },
   "outputs": [],
   "source": []
  }
 ],
 "metadata": {
  "celltoolbar": "Slideshow",
  "kernelspec": {
   "display_name": "Bash",
   "language": "bash",
   "name": "bash"
  },
  "language_info": {
   "codemirror_mode": "shell",
   "file_extension": ".sh",
   "mimetype": "text/x-sh",
   "name": "bash"
  }
 },
 "nbformat": 4,
 "nbformat_minor": 0
}
